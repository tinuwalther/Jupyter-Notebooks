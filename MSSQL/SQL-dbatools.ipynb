{
    "metadata": {
        "kernelspec": {
            "name": "powershell",
            "display_name": "PowerShell",
            "language": "powershell"
        },
        "language_info": {
            "name": "powershell",
            "codemirror_mode": "shell",
            "mimetype": "text/x-sh",
            "file_extension": ".ps1"
        }
    },
    "nbformat_minor": 2,
    "nbformat": 4,
    "cells": [
        {
            "cell_type": "markdown",
            "source": [
                "# MssqlDB\n",
                "\n",
                "Examples with dbatools"
            ],
            "metadata": {
                "azdata_cell_guid": "369dd0d0-4115-4104-a541-dbbc29bf341e"
            }
        },
        {
            "cell_type": "markdown",
            "source": [
                "## Connect to a SQL Instance"
            ],
            "metadata": {
                "azdata_cell_guid": "bdbabe8f-0165-4701-8507-bc9b107cea42"
            }
        },
        {
            "cell_type": "code",
            "source": [
                "# -- Connect-DbaInstance 'localhost:8433' as sa\r\n",
                "if([String]::IsNullOrEmpty($sqlcred)){\r\n",
                "    $sqlcred = Get-Credential sa\r\n",
                "}\r\n",
                "$mssqlsrv = Connect-DbaInstance -SqlInstance 'localhost:8433' -SqlCredential $sqlcred"
            ],
            "metadata": {
                "azdata_cell_guid": "78f8d70b-5d93-4256-949d-7fc18d41b3e0",
                "tags": [
                    "hide_input"
                ]
            },
            "outputs": [
                {
                    "name": "stdout",
                    "text": "",
                    "output_type": "stream"
                }
            ],
            "execution_count": 2
        },
        {
            "cell_type": "markdown",
            "source": [
                "## List all databases"
            ],
            "metadata": {
                "azdata_cell_guid": "085d6b7f-c3f9-4112-919d-8b48450a1b24"
            }
        },
        {
            "cell_type": "code",
            "source": [
                "# -- Get-DbaDatabase\r\n",
                "Get-DbaDatabase -SqlInstance $mssqlsrv | FT"
            ],
            "metadata": {
                "azdata_cell_guid": "e5578bb0-2dd4-46c5-8137-095ce71ad558",
                "tags": [
                    "hide_input"
                ]
            },
            "outputs": [
                {
                    "name": "stdout",
                    "text": "\n",
                    "output_type": "stream"
                },
                {
                    "name": "stdout",
                    "text": "ComputerName InstanceName SqlInstance Name   Status IsAccessible RecoveryModel LogReuseWaitStatus SizeMB Compatibility\n------------ ------------ ----------- ----   ------ ------------ ------------- ------------------ ------ -------------\nlocalhost    MSSQLSERVER  mssqlsrv1   master Normal         True        Simple            Nothing   6.25    Version150\nlocalhost    MSSQLSERVER  mssqlsrv1   tempdb Normal         True        Simple            Nothing     40    Version150\nlocalhost    MSSQLSERVER  mssqlsrv1   model  Normal         True          Full            Nothing     16    Version150\n",
                    "output_type": "stream"
                },
                {
                    "name": "stdout",
                    "text": "localhost    MSSQLSERVER  mssqlsrv1   msdb   Normal         True        Simple            Nothing ...625    Version150\nlocalhost    MSSQLSERVER  mssqlsrv1   tinu   Normal         True          Full            Nothing     16    Version150\n\n\n",
                    "output_type": "stream"
                }
            ],
            "execution_count": 13
        },
        {
            "cell_type": "code",
            "source": [
                "# -- Get-DbaDatabase -ExcludeSystem\r\n",
                "Get-DbaDatabase -SqlInstance $mssqlsrv -ExcludeSystem"
            ],
            "metadata": {
                "azdata_cell_guid": "d4be953c-d5f5-46e9-bbb4-c36ce3cc5e03",
                "tags": []
            },
            "outputs": [
                {
                    "name": "stdout",
                    "text": "\n\nComputerName       : localhost\nInstanceName       : MSSQLSERVER\nSqlInstance        : mssqlsrv1\nName               : tinu\nStatus             : Normal\nIsAccessible       : True\nRecoveryModel      : Full\nLogReuseWaitStatus : Nothing\nSizeMB             : 16\nCompatibility      : Version150\nCollation          : SQL_Latin1_General_CP1_CI_AS\nOwner              : sa\nLastFullBackup     : 23.05.2021 10:40:42\nLastDiffBackup     : 01.01.0001 00:00:00\nLastLogBackup      : 23.05.2021 10:48:29\n\n\n\n",
                    "output_type": "stream"
                }
            ],
            "execution_count": 8
        },
        {
            "cell_type": "code",
            "source": [
                "Find-DbaDatabase -SqlInstance $mssqlsrv -Pattern 'tinu'"
            ],
            "metadata": {
                "azdata_cell_guid": "f31dcab2-2e1b-42ed-b773-eb039eef35a9"
            },
            "outputs": [
                {
                    "name": "stdout",
                    "text": "\n\nComputerName       : localhost\nInstanceName       : MSSQLSERVER\nSqlInstance        : localhost,8433\nName               : tinu\nSize               : 16.00 MB\nOwner              : sa\nCreateDate         : 23.05.2021 10:48:46\nServiceBrokerGuid  : 1c6d1231-d404-4f25-9dea-fa2a7a61262b\nTables             : 1\nStoredProcedures   : 0\nViews              : 1\nExtendedProperties : 0\n\n\n\n",
                    "output_type": "stream"
                }
            ],
            "execution_count": 5
        },
        {
            "cell_type": "markdown",
            "source": [
                "## Max Memory\r\n",
                "\r\n",
                "MaxValue 2147483647 MB use the dynamically memory management. From the total OS memory, reserve 1GB-4GB to the OS itself. For more information see on [Server memory configuration options](https://docs.microsoft.com/en-us/sql/database-engine/configure-windows/server-memory-server-configuration-options?view=sql-server-ver15)"
            ],
            "metadata": {
                "azdata_cell_guid": "0e9e9340-b3a6-4a16-a2fe-407a862761c4"
            }
        },
        {
            "cell_type": "code",
            "source": [
                "Get-DbaMaxMemory -SqlInstance $mssqlsrv"
            ],
            "metadata": {
                "azdata_cell_guid": "88f904ca-89a8-481f-b763-4ac27c74bd54"
            },
            "outputs": [
                {
                    "name": "stdout",
                    "text": "\n\nComputerName : localhost\nInstanceName : MSSQLSERVER\nSqlInstance  : mssqlsrv1\nTotal        : 5028\nMaxValue     : 2147483647\n\n\n\n",
                    "output_type": "stream"
                }
            ],
            "execution_count": 9
        },
        {
            "cell_type": "code",
            "source": [
                "Test-DbaMaxMemory -SqlInstance $mssqlsrv"
            ],
            "metadata": {
                "azdata_cell_guid": "1b7c8b8e-2199-4cef-af16-baeee2b474d3"
            },
            "outputs": [
                {
                    "name": "stdout",
                    "text": "WARNING: [10:22:12][Test-DbaMaxMemory] Couldn't get accurate SQL Server instance count on localhost,8433. Defaulting to\n 1. | No services found in relevant namespaces on sTinu. Please note that this function is available from SQL 2005 up.\n\n\nComputerName     : localhost\nInstanceName     : MSSQLSERVER\nSqlInstance      : mssqlsrv1\nInstanceCount    : 1\nTotal            : 5028\nMaxValue         : 2147483647\nRecommendedValue : 1956\n\n\n\n",
                    "output_type": "stream"
                }
            ],
            "execution_count": 10
        },
        {
            "cell_type": "code",
            "source": [
                "Set-DbaMaxMemory -SqlInstance $mssqlsrv"
            ],
            "metadata": {
                "azdata_cell_guid": "8b3b1c4b-3be6-48f0-8f0d-ccce8e11b6d1"
            },
            "outputs": [
                {
                    "name": "stdout",
                    "text": "WARNING: [10:25:58][Test-DbaMaxMemory] Couldn't get accurate SQL Server instance count on localhost,8433. Defaulting to\n 1. | No services found in relevant namespaces on sTinu. Please note that this function is available from SQL 2005 up.\n",
                    "output_type": "stream"
                },
                {
                    "name": "stdout",
                    "text": "\n\nComputerName     : localhost\nInstanceName     : MSSQLSERVER\nSqlInstance      : mssqlsrv1\nTotal            : 5028\nMaxValue         : 1956\nPreviousMaxValue : 1956\n\n\n\n",
                    "output_type": "stream"
                }
            ],
            "execution_count": 12
        },
        {
            "cell_type": "markdown",
            "source": [
                "## Export JSON"
            ],
            "metadata": {
                "azdata_cell_guid": "739f81db-16c1-4c1f-b9ff-8862b4be62a9"
            }
        },
        {
            "cell_type": "code",
            "source": [
                "$DBname     = 'tinu'\r\n",
                "$Table      = 'inventory'\r\n",
                "$downloads  = Join-Path $env:USERPROFILE -ChildPath downloads\r\n",
                "$Backupfile = Join-Path $downloads -ChildPath \"$($DBname)-$($Table)-$(Get-Date -f 'yyyy-MM-dd_HH-mm-ss').json\"\r\n",
                "\r\n",
                "$SqlQuery   = @\"\r\n",
                "SELECT * FROM [$DBname].[dbo].[$Table]\r\n",
                "GO\r\n",
                "\"@  \r\n",
                "\r\n",
                "$ResultSqlQuery = Invoke-DbaQuery -SqlInstance $mssqlsrv -Database $DBname -Query $SqlQuery\r\n",
                "$ResultSqlQuery | ConvertTo-Json -Depth 1 | Set-Content $Backupfile"
            ],
            "metadata": {
                "azdata_cell_guid": "da0c9281-d289-4dae-a6bf-8966dc162b16"
            },
            "outputs": [
                {
                    "name": "stdout",
                    "text": "",
                    "output_type": "stream"
                }
            ],
            "execution_count": 32
        },
        {
            "cell_type": "code",
            "source": [
                "$DBname     = 'tinu'\r\n",
                "$Table      = 'inventory'\r\n",
                "$downloads  = Join-Path $env:USERPROFILE -ChildPath downloads\r\n",
                "$Backupfile = Join-Path $downloads -ChildPath \"$($DBname)-$($Table)-$(Get-Date -f 'yyyy-MM-dd_HH-mm-ss').csv\"\r\n",
                "\r\n",
                "$SqlQuery   = @\"\r\n",
                "SELECT * FROM [$DBname].[dbo].[$Table]\r\n",
                "GO\r\n",
                "\"@  \r\n",
                "\r\n",
                "$ResultSqlQuery = Invoke-DbaQuery -SqlInstance $mssqlsrv -Database $DBname -Query $SqlQuery\r\n",
                "$ResultSqlQuery | ConvertTo-Csv -Delimiter ';' -NoTypeInformation | Set-Content $Backupfile"
            ],
            "metadata": {
                "azdata_cell_guid": "292fc73c-772c-4cb0-82db-e70e187f4079"
            },
            "outputs": [
                {
                    "name": "stdout",
                    "text": "",
                    "output_type": "stream"
                }
            ],
            "execution_count": 36
        }
    ]
}
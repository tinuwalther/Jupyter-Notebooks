{
    "metadata": {
        "kernelspec": {
            "name": "powershell",
            "display_name": "PowerShell",
            "language": "powershell"
        },
        "language_info": {
            "name": "powershell",
            "codemirror_mode": "shell",
            "mimetype": "text/x-sh",
            "file_extension": ".ps1"
        }
    },
    "nbformat_minor": 2,
    "nbformat": 4,
    "cells": [
        {
            "cell_type": "markdown",
            "source": [
                "# MssqlDB\n",
                "\n",
                "Examples with dbatools"
            ],
            "metadata": {
                "azdata_cell_guid": "369dd0d0-4115-4104-a541-dbbc29bf341e"
            }
        },
        {
            "cell_type": "markdown",
            "source": [
                "## Connect to a SQL Instance"
            ],
            "metadata": {
                "azdata_cell_guid": "bdbabe8f-0165-4701-8507-bc9b107cea42"
            }
        },
        {
            "cell_type": "code",
            "source": [
                "# -- Connect-DbaInstance 'localhost:8433' as sa\r\n",
                "if(-not(Get-InstalledModule -Name dbatools)){\r\n",
                "    Install-Module -Name dbatools\r\n",
                "}\r\n",
                "if(-not(Get-Module -Name dbatools)){\r\n",
                "    Import-Module -Name dbatools\r\n",
                "}\r\n",
                "if([String]::IsNullOrEmpty($sqlcred)){\r\n",
                "    $secStringPassword = ConvertTo-SecureString 'yourStrong(!)Password' -AsPlainText -Force\r\n",
                "    $sqlcred = New-Object System.Management.Automation.PSCredential ('sa', $secStringPassword)\r\n",
                "}\r\n",
                "$mssqlsrv = Connect-DbaInstance -SqlInstance 'localhost:8433' -SqlCredential $sqlcred"
            ],
            "metadata": {
                "azdata_cell_guid": "78f8d70b-5d93-4256-949d-7fc18d41b3e0",
                "tags": [
                    "hide_input"
                ]
            },
            "outputs": [],
            "execution_count": null
        },
        {
            "cell_type": "code",
            "source": [
                "# -- Create database\n",
                "$database = 'tinu'\n",
                "$dbexists = Get-DbaDatabase -SqlInstance $mssqlsrv  -Database $database\n",
                "if($dbexists){\n",
                "    \"$database already exists\"\n",
                "}else{\n",
                "    New-DbaDatabase -SqlInstance $mssqlsrv -Name $database\n",
                "}"
            ],
            "metadata": {
                "azdata_cell_guid": "c22bda18-a0f0-4ec3-a7c0-8dbfb6400481",
                "tags": [
                    "hide_input"
                ]
            },
            "outputs": [],
            "execution_count": null
        },
        {
            "cell_type": "markdown",
            "source": [
                "## List all databases"
            ],
            "metadata": {
                "azdata_cell_guid": "085d6b7f-c3f9-4112-919d-8b48450a1b24"
            }
        },
        {
            "cell_type": "code",
            "source": [
                "# -- Get-DbaDatabase\r\n",
                "Get-DbaDatabase -SqlInstance $mssqlsrv | FT"
            ],
            "metadata": {
                "azdata_cell_guid": "e5578bb0-2dd4-46c5-8137-095ce71ad558",
                "tags": [
                    "hide_input"
                ]
            },
            "outputs": [],
            "execution_count": null
        },
        {
            "cell_type": "markdown",
            "source": [
                "## Find database"
            ],
            "metadata": {
                "azdata_cell_guid": "ef3a5655-ddb5-4cf4-833c-7850ba359d47"
            }
        },
        {
            "cell_type": "code",
            "source": [
                "# -- Find-DbaDatabase\n",
                "Find-DbaDatabase -SqlInstance $mssqlsrv -Pattern 'tinu'"
            ],
            "metadata": {
                "azdata_cell_guid": "f31dcab2-2e1b-42ed-b773-eb039eef35a9",
                "tags": [
                    "hide_input"
                ]
            },
            "outputs": [],
            "execution_count": null
        },
        {
            "cell_type": "markdown",
            "source": [
                "## Create database"
            ],
            "metadata": {
                "azdata_cell_guid": "1e1fac05-98ae-4317-9cd3-467eef8af43c"
            }
        },
        {
            "cell_type": "code",
            "source": [
                "# -- Get-DbaDatabase -ExcludeSystem\r\n",
                "Get-DbaDatabase -SqlInstance $mssqlsrv -ExcludeSystem"
            ],
            "metadata": {
                "azdata_cell_guid": "d4be953c-d5f5-46e9-bbb4-c36ce3cc5e03",
                "tags": [
                    "hide_input"
                ]
            },
            "outputs": [],
            "execution_count": null
        },
        {
            "cell_type": "markdown",
            "source": [
                "## Max Memory\r\n",
                "\r\n",
                "MaxValue 2147483647 MB use the dynamically memory management. From the total OS memory, reserve 1GB-4GB to the OS itself. For more information see on [Server memory configuration options](https://docs.microsoft.com/en-us/sql/database-engine/configure-windows/server-memory-server-configuration-options?view=sql-server-ver15)"
            ],
            "metadata": {
                "azdata_cell_guid": "0e9e9340-b3a6-4a16-a2fe-407a862761c4"
            }
        },
        {
            "cell_type": "code",
            "source": [
                "# -- Get-DbaMaxMemory\n",
                "Get-DbaMaxMemory -SqlInstance $mssqlsrv"
            ],
            "metadata": {
                "azdata_cell_guid": "88f904ca-89a8-481f-b763-4ac27c74bd54",
                "tags": [
                    "hide_input"
                ]
            },
            "outputs": [],
            "execution_count": null
        },
        {
            "cell_type": "code",
            "source": [
                "# -- Test-DbaMaxMemory\n",
                "Test-DbaMaxMemory -SqlInstance $mssqlsrv"
            ],
            "metadata": {
                "azdata_cell_guid": "1b7c8b8e-2199-4cef-af16-baeee2b474d3",
                "tags": [
                    "hide_input"
                ]
            },
            "outputs": [],
            "execution_count": null
        },
        {
            "cell_type": "code",
            "source": [
                "# -- Set-DbaMaxMemory\n",
                "Set-DbaMaxMemory -SqlInstance $mssqlsrv"
            ],
            "metadata": {
                "azdata_cell_guid": "8b3b1c4b-3be6-48f0-8f0d-ccce8e11b6d1",
                "tags": [
                    "hide_input"
                ]
            },
            "outputs": [],
            "execution_count": null
        },
        {
            "cell_type": "markdown",
            "source": [
                "## Export JSON"
            ],
            "metadata": {
                "azdata_cell_guid": "739f81db-16c1-4c1f-b9ff-8862b4be62a9"
            }
        },
        {
            "cell_type": "code",
            "source": [
                "# -- Export JSON\r\n",
                "$DBname     = 'tinu'\r\n",
                "$Table      = 'inventory'\r\n",
                "$downloads  = Join-Path $env:USERPROFILE -ChildPath downloads\r\n",
                "$Backupfile = Join-Path $downloads -ChildPath \"$($DBname)-$($Table)-$(Get-Date -f 'yyyy-MM-dd_HH-mm-ss').json\"\r\n",
                "\r\n",
                "$SqlQuery   = @\"\r\n",
                "SELECT * FROM [$DBname].[dbo].[$Table]\r\n",
                "GO\r\n",
                "\"@  \r\n",
                "\r\n",
                "$ResultSqlQuery = Invoke-DbaQuery -SqlInstance $mssqlsrv -Database $DBname -Query $SqlQuery\r\n",
                "$ResultSqlQuery | ConvertTo-Json -Depth 1 | Set-Content $Backupfile"
            ],
            "metadata": {
                "azdata_cell_guid": "da0c9281-d289-4dae-a6bf-8966dc162b16",
                "tags": [
                    "hide_input"
                ]
            },
            "outputs": [],
            "execution_count": null
        },
        {
            "cell_type": "markdown",
            "source": [
                "## Export CSV"
            ],
            "metadata": {
                "azdata_cell_guid": "8b5187dd-8077-4db6-9c4a-e226580eed25"
            }
        },
        {
            "cell_type": "code",
            "source": [
                "# -- Export CSV\r\n",
                "$DBname     = 'tinu'\r\n",
                "$Table      = 'inventory'\r\n",
                "$downloads  = Join-Path $env:USERPROFILE -ChildPath downloads\r\n",
                "$Backupfile = Join-Path $downloads -ChildPath \"$($DBname)-$($Table)-$(Get-Date -f 'yyyy-MM-dd_HH-mm-ss').csv\"\r\n",
                "\r\n",
                "$SqlQuery   = @\"\r\n",
                "SELECT * FROM [$DBname].[dbo].[$Table]\r\n",
                "GO\r\n",
                "\"@  \r\n",
                "\r\n",
                "$ResultSqlQuery = Invoke-DbaQuery -SqlInstance $mssqlsrv -Database $DBname -Query $SqlQuery\r\n",
                "$ResultSqlQuery | ConvertTo-Csv -Delimiter ';' -NoTypeInformation | Set-Content $Backupfile"
            ],
            "metadata": {
                "azdata_cell_guid": "292fc73c-772c-4cb0-82db-e70e187f4079",
                "tags": [
                    "hide_input"
                ]
            },
            "outputs": [],
            "execution_count": null
        },
        {
            "cell_type": "markdown",
            "source": [
                "## Import JSON\n",
                "\n",
                "Performs a bulk insert of all the data in MongoDB.local.tinu.inventory.json. If the table inventory does not exist, it will be created with inefficient but forgiving DataTypes."
            ],
            "metadata": {
                "azdata_cell_guid": "9e523efe-bf23-4e4f-9089-b21a5f1c1be9"
            }
        },
        {
            "cell_type": "code",
            "source": [
                "# -- Import JSON\n",
                "$DBname     = 'tinu'\n",
                "$Table      = 'inventory'\n",
                "$downloads  = Join-Path $env:HOME -ChildPath downloads\n",
                "$json_file  = Join-Path $downloads -ChildPath 'MongoDB.local.tinu.inventory.json'\n",
                "$columns = @(\n",
                "    'RunTime','DeviceType','DeviceName','Physical cores','MemoryGB','DiskspaceGB','PurchaseDate','Price','Payment','Warranty','Link'\n",
                ")\n",
                "$dataset = Get-Content $json_file | ConvertFrom-Json | Select-Object $columns | ConvertTo-DbaDataTable\n",
                "$dataset | Write-DbaDbTableData -SqlInstance $mssqlsrv -Database $DBname -Table $table -AutoCreateTable -KeepNulls #-Truncate"
            ],
            "metadata": {
                "azdata_cell_guid": "beec5650-4665-4958-b6d4-2bf857012090",
                "tags": [
                    "hide_input"
                ]
            },
            "outputs": [],
            "execution_count": null
        },
        {
            "cell_type": "markdown",
            "source": [
                "## Create Primary Key Integer"
            ],
            "metadata": {
                "azdata_cell_guid": "b60f4602-4618-4cee-bbf0-57aa8265e692"
            }
        },
        {
            "cell_type": "code",
            "source": [
                "# -- Create Primary Key as Interger\n",
                "$DBname     = 'tinu'\n",
                "$Table      = 'inventory'\n",
                "$SqlQuery   = @\"\n",
                "ALTER TABLE [$DBname].[dbo].[$Table]\n",
                "    ADD ID INT IDENTITY (1,1) NOT NULL PRIMARY KEY\n",
                "GO\n",
                "\"@  \n",
                "Invoke-DbaQuery -SqlInstance $mssqlsrv -Database $DBname -Query $SqlQuery"
            ],
            "metadata": {
                "azdata_cell_guid": "c8f255da-f714-4cb0-a1de-b3db50e41c40",
                "tags": [
                    "hide_input"
                ]
            },
            "outputs": [],
            "execution_count": null
        },
        {
            "cell_type": "markdown",
            "source": [
                "## Create Primary Key GUID"
            ],
            "metadata": {
                "azdata_cell_guid": "13942af8-b412-4d2c-a07f-4463204ee31e"
            }
        },
        {
            "cell_type": "code",
            "source": [
                "# -- Create Primary Key as GUID\n",
                "$DBname     = 'tinu'\n",
                "$Table      = 'inventory'\n",
                "$SqlQuery   = @\"\n",
                "ALTER TABLE [$DBname].[dbo].[$Table]\n",
                "    ADD ID UNIQUEIDENTIFIER NOT NULL DEFAULT NEWSEQUENTIALID() PRIMARY KEY\n",
                "GO\n",
                "\"@  \n",
                "Invoke-DbaQuery -SqlInstance $mssqlsrv -Database $DBname -Query $SqlQuery"
            ],
            "metadata": {
                "azdata_cell_guid": "daa68aba-7757-42e8-9541-6e5d027a81db",
                "tags": [
                    "hide_input"
                ]
            },
            "outputs": [],
            "execution_count": null
        },
        {
            "cell_type": "markdown",
            "source": [
                "## Drop Table"
            ],
            "metadata": {
                "azdata_cell_guid": "f8dafa96-80a2-494a-8597-52b1c515b10a"
            }
        },
        {
            "cell_type": "code",
            "source": [
                "# -- Drop Table\n",
                "$DBname     = 'tinu'\n",
                "$Table      = 'inventory'\n",
                "$SqlQuery   = @\"\n",
                "DROP TABLE [$DBname].[dbo].[$Table]\n",
                "GO\n",
                "\"@  \n",
                "Invoke-DbaQuery -SqlInstance $mssqlsrv -Database $DBname -Query $SqlQuery"
            ],
            "metadata": {
                "azdata_cell_guid": "3d839b71-67a8-486b-9aef-882b6baec52e",
                "tags": [
                    "hide_input"
                ]
            },
            "outputs": [],
            "execution_count": null
        }
    ]
}
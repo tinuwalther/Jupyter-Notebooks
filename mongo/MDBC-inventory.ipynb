{
    "metadata": {
        "kernelspec": {
            "name": "python3",
            "display_name": "Python 3",
            "language": "python"
        },
        "language_info": {
            "name": "python",
            "version": "3.9.2",
            "mimetype": "text/x-python",
            "codemirror_mode": {
                "name": "ipython",
                "version": 3
            },
            "pygments_lexer": "ipython3",
            "nbconvert_exporter": "python",
            "file_extension": ".py"
        }
    },
    "nbformat_minor": 2,
    "nbformat": 4,
    "cells": [
        {
            "cell_type": "markdown",
            "source": [
                "# MongoDB Inventory\n",
                "\n",
                "## Container starten\n",
                "\n",
                "Docker container starten mit dem Kernel PowerShell, danach auf den Kernel Python 3 switchen"
            ],
            "metadata": {
                "azdata_cell_guid": "92cd43af-65a3-4460-a3a4-6b37e860879e"
            }
        },
        {
            "cell_type": "code",
            "source": [
                "docker start mongodb1"
            ],
            "metadata": {
                "azdata_cell_guid": "bb04b8c6-33cd-420f-a3a3-c878d4d4b9f1"
            },
            "outputs": [
                {
                    "name": "stdout",
                    "text": "mongodb1\n",
                    "output_type": "stream"
                }
            ],
            "execution_count": 1
        },
        {
            "cell_type": "markdown",
            "source": [
                "## Connection String\n",
                "\n",
                "Connection String mit localhost und default Port abfüllen"
            ],
            "metadata": {
                "azdata_cell_guid": "37109542-a022-4fc3-abbe-fe3d9794ce07"
            }
        },
        {
            "cell_type": "code",
            "source": [
                "connectionstring = \"mongodb://0.0.0.0:27017\"\n",
                "import pymongo, dns, os, sys, csv, json\n",
                "from datetime import datetime"
            ],
            "metadata": {
                "azdata_cell_guid": "2d86616b-6bae-48b5-aeb0-5f19204d61d7",
                "tags": [
                    "hide_input"
                ]
            },
            "outputs": [],
            "execution_count": 21
        },
        {
            "cell_type": "markdown",
            "source": [
                "## Database\n",
                "\n",
                "Connect to MongoDB and list all database"
            ],
            "metadata": {
                "azdata_cell_guid": "9c33621f-01b0-4bdd-8430-c071aa993734"
            }
        },
        {
            "cell_type": "code",
            "source": [
                "# <-- run this function on a mac --> #\n",
                "def get_dbs(connectionstring):\n",
                "    '''Connect to MongoDB and list all database'''\n",
                "    import pymongo\n",
                "    mongo_client = pymongo.MongoClient(connectionstring)\n",
                "    print(mongo_client.list_database_names())\n",
                "    mongo_client.close()\n",
                "\n",
                "get_dbs(connectionstring)"
            ],
            "metadata": {
                "azdata_cell_guid": "9e333c3c-293f-477c-9cea-1bede49b52d9",
                "tags": [
                    "hide_input"
                ]
            },
            "outputs": [
                {
                    "name": "stdout",
                    "text": "['JupyterNB', 'admin', 'config', 'local', 'tinu']\n",
                    "output_type": "stream"
                }
            ],
            "execution_count": 2
        },
        {
            "cell_type": "markdown",
            "source": [
                "## Documents"
            ],
            "metadata": {
                "azdata_cell_guid": "60725a56-bf45-45e2-a207-67416c3b4851"
            }
        },
        {
            "cell_type": "markdown",
            "source": [
                "### Remove all documents"
            ],
            "metadata": {
                "azdata_cell_guid": "ee645239-f68a-49a1-b679-a0df8209dd65"
            }
        },
        {
            "cell_type": "code",
            "source": [
                "def delete_all_documents(connectionstring, database, collection, query, output = False):\n",
                "    \"\"\"Connect to MongoDB and delete all documents\n",
                "\n",
                "    Args:\n",
                "        connectionstring (String): Connection-string of the MongoDB\n",
                "        database (String): Database name to export the data\n",
                "        collection (String): Collection name to export the data\n",
                "        query (JSON-String): Search for \n",
                "        output (bool, optional): Print output. Defaults to False.\n",
                "\n",
                "    Example:\n",
                "        credentials = input('user:password')\n",
                "        connectionstring = \"mongodb+srv://\"+credentials+\"@cluster0.epl3x.mongodb.net/?retryWrites=true&w=majority\"\n",
                "        delete_collection(connectionstring, 'JupyterNB', 'PoweredOffVMs', {'address':'India'}, True)\n",
                "    \"\"\"\n",
                "    import pymongo\n",
                "    mongo_client = pymongo.MongoClient(connectionstring)\n",
                "    mongo_db     = mongo_client[database]\n",
                "    mongo_col    = mongo_db[collection]\n",
                "    mongo_col.delete_many(query)\n",
                "    \n",
                "    if output:\n",
                "        for doc in mongo_col.find():\n",
                "            print(doc)\n",
                "\n",
                "    mongo_client.close()\n",
                "\n",
                "delete_all_documents(connectionstring, 'tinu', 'inventory', {'DeviceType':''}, True)"
            ],
            "metadata": {
                "azdata_cell_guid": "3d4f6986-5040-4501-90f1-cd660ac38cba",
                "tags": [
                    "hide_input"
                ]
            },
            "outputs": [],
            "execution_count": 11
        },
        {
            "cell_type": "markdown",
            "source": [
                "### Import JSON"
            ],
            "metadata": {
                "azdata_cell_guid": "743f0ed2-5623-4508-8faf-8a32353d4454"
            }
        },
        {
            "cell_type": "code",
            "source": [
                "filetoimport = 'MssqlDB.tinu-inventory-2021523-13-00-00.json'\n",
                "\n",
                "def import_json(json_file, connectionstring, database, collection):\n",
                "    \"\"\"Import data from JSON-file\n",
                "\n",
                "    Args:\n",
                "        json_file (String): FullName of the JSON-file to import\n",
                "        connectionstring (String): Connection-string of the MongoDB\n",
                "        database (String): Database name to import the data\n",
                "        collection (String): Collection name to import the data\n",
                "        \n",
                "    Example:\n",
                "        credentials = input('user:password')\n",
                "        connectionstring = \"mongodb+srv://\"+credentials+\"@cluster0.epl3x.mongodb.net/?retryWrites=true&w=majority\"\n",
                "        imp_json_file = \"C:\\\\Users\\\\Tinu\\\\Downloads\\\\poweredOffVMs.json\"\n",
                "        import_json(imp_json_file, connectionstring, 'JupyterNB', 'PoweredOffVMs')\n",
                "    \"\"\"\n",
                "    check_path = os.path.exists(json_file)\n",
                "    if(check_path == True):\n",
                "        import pymongo\n",
                "        mongo_client = pymongo.MongoClient(connectionstring)\n",
                "        mongo_db     = mongo_client[database]\n",
                "        mongo_col    = mongo_db[collection]\n",
                "\n",
                "        with open(json_file, \"r\") as read_file:\n",
                "            json_data = json.load(read_file)\n",
                "\n",
                "        # It is important to remove the _id field in order to import it into mongodb\n",
                "        for element in json_data:\n",
                "            element.pop('_id', None)\n",
                "\n",
                "        try:\n",
                "            if isinstance(json_data, list):\n",
                "                mongo_col.insert_many(json_data)  \n",
                "            else:\n",
                "                mongo_col.insert_one(json_data)\n",
                "            \n",
                "        except:\n",
                "            sys.exit('file {}'.format(json_file))\n",
                "                \n",
                "        mongo_client.close()\n",
                "\n",
                "    else:\n",
                "        print(f'[WARN] File not found: {json_file}')\n",
                "\n",
                "# Join the path to Downloads\n",
                "if sys.platform == \"linux\" or sys.platform == \"linux2\":\n",
                "    home_dir = os.environ['HOME']\n",
                "elif sys.platform == \"darwin\":\n",
                "    home_dir = os.environ['HOME']\n",
                "elif sys.platform == \"win32\":\n",
                "    home_dir  = os.environ['USERPROFILE']\n",
                "downloads = os.path.join(home_dir,'Downloads')\n",
                "\n",
                "json_file = os.path.join(downloads, filetoimport)\n",
                "import_json(json_file, connectionstring, 'tinu', 'inventory')"
            ],
            "metadata": {
                "azdata_cell_guid": "e7842b18-2290-41d0-b81f-cd272b805f0e",
                "tags": [
                    "hide_input"
                ]
            },
            "outputs": [],
            "execution_count": 17
        },
        {
            "cell_type": "markdown",
            "source": [
                "### List all documents"
            ],
            "metadata": {
                "azdata_cell_guid": "f57f677e-5b58-4721-8687-f7672efb0df9"
            }
        },
        {
            "cell_type": "code",
            "source": [
                "# <-- Print out all documents --> #\n",
                "def get_documents(connectionstring, database, collection):\n",
                "    '''Connect to MongoDB and return data'''\n",
                "    import pymongo\n",
                "    mongo_client = pymongo.MongoClient(connectionstring)\n",
                "    mongo_db     = mongo_client[database]\n",
                "    mongo_col    = mongo_db[collection]\n",
                "    mongo_client.close()\n",
                "    return mongo_col.find()\n",
                "\n",
                "import pandas as pd\n",
                "table = []\n",
                "\n",
                "result = get_documents(connectionstring, 'tinu', 'inventory')\n",
                "for doc in result:\n",
                "    #print(doc)\n",
                "    thisdict = { \n",
                "        'ID'             : doc['ID'],\n",
                "        'RunTime'        : doc['RunTime'],\n",
                "        'DeviceType'     : doc['DeviceType'],\n",
                "        'DeviceName'     : doc['DeviceName'],\n",
                "        'Physical cores' : doc['Physical cores'],\n",
                "        'MemoryGB'       : doc['MemoryGB'],\n",
                "        'DiskspaceGB'    : doc['DiskspaceGB'],\n",
                "        'PurchaseDate'   : doc['PurchaseDate'],\n",
                "        'Price'          : doc['Price'],\n",
                "        'Payment'        : doc['Payment'],\n",
                "        'Warranty'       : doc['Warranty'],\n",
                "        'Link'           : doc['Link'],\n",
                "    }\n",
                "    table.append(thisdict)\n",
                "\n",
                "df = pd.DataFrame(table)\n",
                "df.head()"
            ],
            "metadata": {
                "azdata_cell_guid": "84ed7c0b-48dc-4508-ba2d-a9d57381bd58",
                "tags": [
                    "hide_input"
                ]
            },
            "outputs": [
                {
                    "data": {
                        "text/plain": "                                     ID                  RunTime   DeviceType  \\\n0  96fb423e-f36b-1410-8134-00daf9a34b4e   2021-05-21T15:00:24.09  Convertible   \n1  97fb423e-f36b-1410-8134-00daf9a34b4e  2021-05-22T17:04:13.177         iMac   \n2  4a27433e-f36b-1410-8136-00daf9a34b4e  2021-05-22T17:38:48.047        Handy   \n3  4e27433e-f36b-1410-8136-00daf9a34b4e   2021-05-21T16:30:57.48       Camera   \n4  82c7423e-f36b-1410-8138-00daf9a34b4e  2021-05-22T17:23:32.503  Convertible   \n\n                                DeviceName  Physical cores  MemoryGB  \\\n0                  Microsoft Surface Pro 4             2.0       8.0   \n1  Apple iMac (Retina 4K, 21.5-inch, 2017)             4.0      16.0   \n2        Huawei P30 Pro DualSIM 4G+ Aurora             8.0       8.0   \n3                                 NIKON Z6             NaN       NaN   \n4                HP EliteBook x360 1030 G8             4.0      16.0   \n\n   DiskspaceGB         PurchaseDate   Price      Payment Warranty  \\\n0        256.0  2015-05-13T00:00:00     NaN  Maestrocard        2   \n1        512.0  2019-07-01T00:00:00  2341.4   Mastercard      2+1   \n2        128.0  2019-05-13T00:00:00   999.0   Mastercard      2+1   \n3          NaN  2020-01-15T00:00:00  2099.0   Mastercard      3+1   \n4        512.0  2021-05-29T80:00:00  2249.0   Mastercard      3+1   \n\n                                                Link  \n0                                               None  \n1                                               None  \n2                                               None  \n3                                               None  \n4  https://store.hp.com/SwitzerlandStore/Merch/Pr...  ",
                        "text/html": "<div>\n<style scoped>\n    .dataframe tbody tr th:only-of-type {\n        vertical-align: middle;\n    }\n\n    .dataframe tbody tr th {\n        vertical-align: top;\n    }\n\n    .dataframe thead th {\n        text-align: right;\n    }\n</style>\n<table border=\"1\" class=\"dataframe\">\n  <thead>\n    <tr style=\"text-align: right;\">\n      <th></th>\n      <th>ID</th>\n      <th>RunTime</th>\n      <th>DeviceType</th>\n      <th>DeviceName</th>\n      <th>Physical cores</th>\n      <th>MemoryGB</th>\n      <th>DiskspaceGB</th>\n      <th>PurchaseDate</th>\n      <th>Price</th>\n      <th>Payment</th>\n      <th>Warranty</th>\n      <th>Link</th>\n    </tr>\n  </thead>\n  <tbody>\n    <tr>\n      <th>0</th>\n      <td>96fb423e-f36b-1410-8134-00daf9a34b4e</td>\n      <td>2021-05-21T15:00:24.09</td>\n      <td>Convertible</td>\n      <td>Microsoft Surface Pro 4</td>\n      <td>2.0</td>\n      <td>8.0</td>\n      <td>256.0</td>\n      <td>2015-05-13T00:00:00</td>\n      <td>NaN</td>\n      <td>Maestrocard</td>\n      <td>2</td>\n      <td>None</td>\n    </tr>\n    <tr>\n      <th>1</th>\n      <td>97fb423e-f36b-1410-8134-00daf9a34b4e</td>\n      <td>2021-05-22T17:04:13.177</td>\n      <td>iMac</td>\n      <td>Apple iMac (Retina 4K, 21.5-inch, 2017)</td>\n      <td>4.0</td>\n      <td>16.0</td>\n      <td>512.0</td>\n      <td>2019-07-01T00:00:00</td>\n      <td>2341.4</td>\n      <td>Mastercard</td>\n      <td>2+1</td>\n      <td>None</td>\n    </tr>\n    <tr>\n      <th>2</th>\n      <td>4a27433e-f36b-1410-8136-00daf9a34b4e</td>\n      <td>2021-05-22T17:38:48.047</td>\n      <td>Handy</td>\n      <td>Huawei P30 Pro DualSIM 4G+ Aurora</td>\n      <td>8.0</td>\n      <td>8.0</td>\n      <td>128.0</td>\n      <td>2019-05-13T00:00:00</td>\n      <td>999.0</td>\n      <td>Mastercard</td>\n      <td>2+1</td>\n      <td>None</td>\n    </tr>\n    <tr>\n      <th>3</th>\n      <td>4e27433e-f36b-1410-8136-00daf9a34b4e</td>\n      <td>2021-05-21T16:30:57.48</td>\n      <td>Camera</td>\n      <td>NIKON Z6</td>\n      <td>NaN</td>\n      <td>NaN</td>\n      <td>NaN</td>\n      <td>2020-01-15T00:00:00</td>\n      <td>2099.0</td>\n      <td>Mastercard</td>\n      <td>3+1</td>\n      <td>None</td>\n    </tr>\n    <tr>\n      <th>4</th>\n      <td>82c7423e-f36b-1410-8138-00daf9a34b4e</td>\n      <td>2021-05-22T17:23:32.503</td>\n      <td>Convertible</td>\n      <td>HP EliteBook x360 1030 G8</td>\n      <td>4.0</td>\n      <td>16.0</td>\n      <td>512.0</td>\n      <td>2021-05-29T80:00:00</td>\n      <td>2249.0</td>\n      <td>Mastercard</td>\n      <td>3+1</td>\n      <td>https://store.hp.com/SwitzerlandStore/Merch/Pr...</td>\n    </tr>\n  </tbody>\n</table>\n</div>"
                    },
                    "metadata": {},
                    "execution_count": 28,
                    "output_type": "execute_result"
                }
            ],
            "execution_count": 28
        },
        {
            "cell_type": "markdown",
            "source": [
                "### Update document"
            ],
            "metadata": {
                "azdata_cell_guid": "6e773503-3dc6-450b-abf0-e4f5f5a87452"
            }
        },
        {
            "cell_type": "code",
            "source": [
                ""
            ],
            "metadata": {
                "azdata_cell_guid": "97f7cf6f-8be4-41ca-b50d-b1c736f5f250"
            },
            "outputs": [],
            "execution_count": null
        },
        {
            "cell_type": "markdown",
            "source": [
                "### Insert one document"
            ],
            "metadata": {
                "azdata_cell_guid": "c479b228-c1bc-40aa-9e37-beb0da8373fe"
            }
        },
        {
            "cell_type": "code",
            "source": [
                "documenttoimport = { \n",
                "    \"RunTime\": datetime.strptime(doc['Datum'], '%d.%m.%Y', \n",
                "    \"DeviceType\": Notebook,\n",
                "    \"DeviceName\": \"ThinkPad\"\n",
                "    \"Physical cores\": 4,\n",
                "    \"MemoryGB\": 16,\n",
                "    \"DiskspaceGB\": 512,\n",
                "    \"PurchaseDate\": datetime.strptime(doc['Datum'], '%d.%m.%Y',\n",
                "    \"Payment\": \"Mastercard\",\n",
                "    \"Warranty\": \"3+1\",\n",
                "    \"Link\": \"https://tinuwalther.github.io\"\n",
                "}\n",
                "\n",
                "def add_document(connectionstring, mongodatabase, collection, document):\n",
                "    '''Connect to MongoDB and add a document'''\n",
                "    import pymongo\n",
                "    mongo_client = pymongo.MongoClient(connectionstring)\n",
                "    mongo_db     = mongo_client[mongodatabase]\n",
                "    mongo_col    = mongo_db[collection]\n",
                "    mongo_col.insert_one(document)\n",
                "    for doc in mongo_col.find():\n",
                "        print(doc)\n",
                "\n",
                "    mongo_client.close()\n",
                "\n",
                "add_document(connectionstring, 'tinu', 'inventory', documenttoimport)"
            ],
            "metadata": {
                "azdata_cell_guid": "a9530fba-21db-4fe7-9535-35ebc2b9af95",
                "tags": [
                    "hide_input"
                ]
            },
            "outputs": [
                {
                    "traceback": [
                        "\u001b[0;36m  File \u001b[0;32m\"<ipython-input-29-6f3f82e43887>\"\u001b[0;36m, line \u001b[0;32m3\u001b[0m\n\u001b[0;31m    \"DeviceType\": Notebook,\u001b[0m\n\u001b[0m                ^\u001b[0m\n\u001b[0;31mSyntaxError\u001b[0m\u001b[0;31m:\u001b[0m invalid syntax\n"
                    ],
                    "ename": "SyntaxError",
                    "evalue": "invalid syntax (<ipython-input-29-6f3f82e43887>, line 3)",
                    "output_type": "error"
                }
            ],
            "execution_count": 29
        },
        {
            "cell_type": "markdown",
            "source": [
                "## Container stoppen\n",
                "\n",
                "Kernel PowerShell switchen und docker container stoppen"
            ],
            "metadata": {
                "azdata_cell_guid": "13fc9e18-2523-4041-947f-f0a6030dfc30"
            }
        },
        {
            "cell_type": "code",
            "source": [
                "docker stop mongodb1"
            ],
            "metadata": {
                "azdata_cell_guid": "adce06af-de69-436d-a64e-f8120ad22d5c"
            },
            "outputs": [
                {
                    "name": "stdout",
                    "text": "mongodb1\n",
                    "output_type": "stream"
                }
            ],
            "execution_count": 1
        }
    ]
}
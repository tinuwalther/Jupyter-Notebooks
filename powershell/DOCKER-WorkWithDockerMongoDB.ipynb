{
    "metadata": {
        "kernelspec": {
            "name": "python3",
            "display_name": "Python 3",
            "language": "python"
        },
        "language_info": {
            "name": "python",
            "version": "3.8.5",
            "mimetype": "text/x-python",
            "codemirror_mode": {
                "name": "ipython",
                "version": 3
            },
            "pygments_lexer": "ipython3",
            "nbconvert_exporter": "python",
            "file_extension": ".py"
        }
    },
    "nbformat_minor": 2,
    "nbformat": 4,
    "cells": [
        {
            "cell_type": "markdown",
            "source": [
                "# Work with a MongoDB docker image"
            ],
            "metadata": {
                "azdata_cell_guid": "4d2806a9-ffd9-4109-a922-198aeb3bb461"
            }
        },
        {
            "cell_type": "markdown",
            "source": [
                "## Docker commands\n",
                "\n",
                "<mark>**Change the kernel to powershell, before you run the code below.**</mark>\n",
                "\n",
                "### List all Images in the docker repository"
            ],
            "metadata": {
                "azdata_cell_guid": "651a93ea-2f07-43d9-bacd-2ce91ca3a5df"
            }
        },
        {
            "cell_type": "code",
            "source": [
                "docker images -a"
            ],
            "metadata": {
                "azdata_cell_guid": "3d85820f-4504-49a8-8390-6a8c5aa8c130"
            },
            "outputs": [
                {
                    "name": "stdout",
                    "text": "REPOSITORY   TAG       IMAGE ID       CREATED        SIZE\nmongo        latest    f03be0dc25f8   28 hours ago   448MB\n",
                    "output_type": "stream"
                }
            ],
            "execution_count": 1
        },
        {
            "cell_type": "markdown",
            "source": [
                "### Check status of running Images/Containers"
            ],
            "metadata": {
                "azdata_cell_guid": "6f4a8a06-81c3-413b-a283-916e798d4b8d"
            }
        },
        {
            "cell_type": "code",
            "source": [
                "docker ps"
            ],
            "metadata": {
                "azdata_cell_guid": "f269d076-32f7-4298-8081-b9f10ef4d6a8"
            },
            "outputs": [
                {
                    "name": "stdout",
                    "text": "CONTAINER ID   IMAGE     COMMAND                  CREATED         STATUS         PORTS                   NAMES\nfa5f7fc7481c   mongo     \"docker-entrypoint.s…\"   3 minutes ago   Up 3 minutes   0.0.0.0:80->27017/tcp   mongodb\n",
                    "output_type": "stream"
                }
            ],
            "execution_count": 2
        },
        {
            "cell_type": "markdown",
            "source": [
                "## Create a MongoDB container\n",
                "\n",
                "Download latest version of mongDB"
            ],
            "metadata": {
                "azdata_cell_guid": "65101050-14f3-4da8-a20c-6f8acd0f66ac"
            }
        },
        {
            "cell_type": "code",
            "source": [
                "docker pull mongo"
            ],
            "metadata": {
                "azdata_cell_guid": "fa9d8093-93a2-4ad0-9bfc-3e3cc0cebbb0"
            },
            "outputs": [],
            "execution_count": null
        },
        {
            "cell_type": "markdown",
            "source": [
                "Configure the data-folder on the local-system instead of the docker image"
            ],
            "metadata": {
                "azdata_cell_guid": "5eeeb549-7166-4a79-8a88-591be6a42938"
            }
        },
        {
            "cell_type": "code",
            "source": [
                "mkdir -p /mongodata"
            ],
            "metadata": {
                "azdata_cell_guid": "a7f2d129-6037-4095-a0e0-ddd21d8d2ad2"
            },
            "outputs": [],
            "execution_count": null
        },
        {
            "cell_type": "markdown",
            "source": [
                "## Start the MongoDB container\n",
                "\n",
                "Start the docker image with name **<mark>mongodb</mark>** and mapp the port to 80"
            ],
            "metadata": {
                "azdata_cell_guid": "0a777749-bf47-49d7-b4e6-290f0fbe6cbd"
            }
        },
        {
            "cell_type": "code",
            "source": [
                "docker run -p 80:27017 -it -v mongodata:/data/db --name mongodb -d mongo\n",
                "docker ps"
            ],
            "metadata": {
                "azdata_cell_guid": "a35e2cac-b1f7-4777-ad53-d9bdf7bb850b"
            },
            "outputs": [],
            "execution_count": null
        },
        {
            "cell_type": "markdown",
            "source": [
                "### Inspect the container\n",
                "\n",
                "Run docker inspect **CONTAINR ID**"
            ],
            "metadata": {
                "azdata_cell_guid": "8bbda457-d367-4bf3-8aa6-5f083057fce9"
            }
        },
        {
            "cell_type": "code",
            "source": [
                "$inspected_image = docker inspect fa5f7fc7481c\n",
                "$object = $inspected_image | ConvertFrom-Json\n",
                "$object | Select Name, @{l=\"IPAddress\";e={$object.NetworkSettings.IPAddress}}, @{l=\"Ports\";e={($object.NetworkSettings.Ports)}}"
            ],
            "metadata": {
                "azdata_cell_guid": "58f4f290-b564-491e-adb7-49335a4b12d2",
                "tags": [
                    "hide_input"
                ]
            },
            "outputs": [],
            "execution_count": null
        },
        {
            "cell_type": "markdown",
            "source": [
                "### Show the logs of the container"
            ],
            "metadata": {
                "azdata_cell_guid": "5ef1a5a6-9899-40e0-9161-23fbb9abc8df"
            }
        },
        {
            "cell_type": "code",
            "source": [
                "docker logs mongodb"
            ],
            "metadata": {
                "azdata_cell_guid": "151bc617-56bb-48a8-a1c1-19338249c0f1"
            },
            "outputs": [],
            "execution_count": null
        },
        {
            "cell_type": "markdown",
            "source": [
                "### Stop and restart MongoDB container"
            ],
            "metadata": {
                "azdata_cell_guid": "155dc07d-21ec-4a75-b872-9dc09c443ef4"
            }
        },
        {
            "cell_type": "code",
            "source": [
                "docker stop mongodb\n",
                "docker ps -a"
            ],
            "metadata": {
                "azdata_cell_guid": "1b619df2-5f92-4195-a18a-657a8b218cc7"
            },
            "outputs": [],
            "execution_count": null
        },
        {
            "cell_type": "code",
            "source": [
                "docker start mongodb\n",
                "docker ps -a"
            ],
            "metadata": {
                "azdata_cell_guid": "f3905c47-246f-4bab-9543-980ae81b226d"
            },
            "outputs": [],
            "execution_count": null
        },
        {
            "cell_type": "markdown",
            "source": [
                "Remove docker container"
            ],
            "metadata": {
                "azdata_cell_guid": "600dc58a-2310-4cb5-b30b-c486e6f0bbf7"
            }
        },
        {
            "cell_type": "code",
            "source": [
                "docker rm mongodb\n",
                "docker ps -a"
            ],
            "metadata": {
                "azdata_cell_guid": "4af58068-51e6-4f54-a6dc-ce6c19bd9699"
            },
            "outputs": [],
            "execution_count": null
        },
        {
            "cell_type": "markdown",
            "source": [
                "## Python\n",
                "\n",
                "<mark>**Please change the kernel to python, before you run the code below.**</mark>\n",
                "\n",
                "### Insert one document\n",
                "\n",
                "Connect to the docker mongodb and insert one document in the database JupyterNB, collection PoweredOffVMs"
            ],
            "metadata": {
                "azdata_cell_guid": "13f8683b-eef5-4ea9-a447-43b1a97d7d26"
            }
        },
        {
            "cell_type": "code",
            "source": [
                "def add_document(connectionstring, mongodatabase, collection, document):\n",
                "    '''Connect to MongoDB and add a document'''\n",
                "    import pymongo\n",
                "    mongo_client = pymongo.MongoClient(connectionstring)\n",
                "    mongo_db     = mongo_client[mongodatabase]\n",
                "    mongo_col    = mongo_db[collection]\n",
                "    mongo_col.insert_one(document)\n",
                "    for doc in mongo_col.find():\n",
                "        print(doc)\n",
                "\n",
                "    mongo_client.close()\n",
                "\n",
                "connectionstring = \"mongodb://0.0.0.0:80\"\n",
                "add_document(connectionstring, 'JupyterNB', 'PoweredOffVMs', { \"PSComputerName\": \"xsc0000991.child.domain.com\", \"PowerState\": \"Off\" })"
            ],
            "metadata": {
                "azdata_cell_guid": "d7e091ed-94e3-467c-887e-988c00b1e43e",
                "tags": [
                    "hide_input"
                ]
            },
            "outputs": [],
            "execution_count": null
        },
        {
            "cell_type": "markdown",
            "source": [
                "### List all documents\n",
                "\n",
                "Connect to the docker mongodb and list all documents from a collection"
            ],
            "metadata": {
                "azdata_cell_guid": "a38b72de-3dbe-4ad6-b54a-6eb3280a9604"
            }
        },
        {
            "cell_type": "code",
            "source": [
                "def get_documents(connectionstring, database, collection):\n",
                "    '''Connect to MongoDB and return data'''\n",
                "    import pymongo\n",
                "    mongo_client = pymongo.MongoClient(connectionstring)\n",
                "    mongo_db     = mongo_client[database]\n",
                "    mongo_col    = mongo_db[collection]\n",
                "    mongo_client.close()\n",
                "    return mongo_col.find()\n",
                "\n",
                "import pandas as pd\n",
                "table = []\n",
                "connectionstring = \"mongodb://0.0.0.0:80\"\n",
                "result = get_documents(connectionstring, 'JupyterNB', 'PoweredOffVMs')\n",
                "for doc in result:\n",
                "    #print(doc)\n",
                "    thisdict = { \n",
                "        'PSComputerName' : doc['PSComputerName'],\n",
                "        'PowerState'     : doc['PowerState'],\n",
                "    }\n",
                "    table.append(thisdict)\n",
                "\n",
                "df = pd.DataFrame(table)\n",
                "df.head()"
            ],
            "metadata": {
                "azdata_cell_guid": "106356a1-e7db-4388-8ca5-af82461f1d88",
                "tags": [
                    "hide_input"
                ]
            },
            "outputs": [
                {
                    "data": {
                        "text/plain": "                PSComputerName PowerState\n0  xsc0000989.child.domain.com        Off\n1  xsc0000990.child.domain.com        Off\n2  xsc0000991.child.domain.com        Off",
                        "text/html": "<div>\n<style scoped>\n    .dataframe tbody tr th:only-of-type {\n        vertical-align: middle;\n    }\n\n    .dataframe tbody tr th {\n        vertical-align: top;\n    }\n\n    .dataframe thead th {\n        text-align: right;\n    }\n</style>\n<table border=\"1\" class=\"dataframe\">\n  <thead>\n    <tr style=\"text-align: right;\">\n      <th></th>\n      <th>PSComputerName</th>\n      <th>PowerState</th>\n    </tr>\n  </thead>\n  <tbody>\n    <tr>\n      <th>0</th>\n      <td>xsc0000989.child.domain.com</td>\n      <td>Off</td>\n    </tr>\n    <tr>\n      <th>1</th>\n      <td>xsc0000990.child.domain.com</td>\n      <td>Off</td>\n    </tr>\n    <tr>\n      <th>2</th>\n      <td>xsc0000991.child.domain.com</td>\n      <td>Off</td>\n    </tr>\n  </tbody>\n</table>\n</div>"
                    },
                    "metadata": {},
                    "execution_count": 1,
                    "output_type": "execute_result"
                }
            ],
            "execution_count": 1
        },
        {
            "cell_type": "markdown",
            "source": [
                "### Delete all documents\n",
                "\n",
                "Connect to the docker mongodb and delete all documents from collection"
            ],
            "metadata": {
                "azdata_cell_guid": "33b0ba0d-a675-462b-939e-b1938f87839f"
            }
        },
        {
            "cell_type": "code",
            "source": [
                "def delete_collection(connectionstring, mongodatabase, collection):\n",
                "    '''Connect to MongoDB and add a document'''\n",
                "    import pymongo\n",
                "    mongo_client = pymongo.MongoClient(connectionstring)\n",
                "    mongo_db     = mongo_client[mongodatabase]\n",
                "    mongo_col    = mongo_db[collection]\n",
                "    mongo_col.delete_many({})\n",
                "    for doc in mongo_col.find():\n",
                "        print(doc)\n",
                "\n",
                "    mongo_client.close()\n",
                "\n",
                "connectionstring = \"mongodb://0.0.0.0:80\"\n",
                "delete_collection(connectionstring,'JupyterNB', 'PoweredOffVMs')"
            ],
            "metadata": {
                "azdata_cell_guid": "1ba0521d-df70-488d-af37-47b98e7df278",
                "tags": [
                    "hide_input"
                ]
            },
            "outputs": [],
            "execution_count": null
        },
        {
            "cell_type": "markdown",
            "source": [
                "## Interactive docker terminal\n",
                "\n",
                "Start an interactive docker terminal to manage MongoDB. Copy the code into a shell and press enter:"
            ],
            "metadata": {
                "azdata_cell_guid": "916d473f-7812-4b47-8fd8-39807e0f8e21"
            }
        },
        {
            "cell_type": "markdown",
            "source": [
                "```\n",
                "docker exec -it mongodb bash\n",
                "```"
            ],
            "metadata": {
                "azdata_cell_guid": "c721616e-8b1b-4730-86be-ac81bef0f177"
            }
        },
        {
            "cell_type": "markdown",
            "source": [
                "## Mongo shell\n",
                "\n",
                "[Mongo Shell Quick Reference](https://docs.mongodb.com/manual/reference/mongo-shell/)\n",
                "\n",
                "```\n",
                "mongo\n",
                "```\n",
                "```\n",
                "show dbs\n",
                "show collections\n",
                "show users\n",
                "```"
            ],
            "metadata": {
                "azdata_cell_guid": "f19e6c44-1566-4306-852d-75385ef9924d",
                "language": ""
            }
        }
    ]
}
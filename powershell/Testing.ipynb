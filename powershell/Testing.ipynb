{
    "metadata": {
        "kernelspec": {
            "name": "powershell",
            "display_name": "PowerShell",
            "language": "powershell"
        },
        "language_info": {
            "name": "powershell",
            "codemirror_mode": "shell",
            "mimetype": "text/x-sh",
            "file_extension": ".ps1"
        }
    },
    "nbformat_minor": 2,
    "nbformat": 4,
    "cells": [
        {
            "cell_type": "markdown",
            "source": [
                "# Testing Notebook"
            ],
            "metadata": {
                "azdata_cell_guid": "a38278af-85f5-4a15-bd8f-3d4984e8ff7b"
            }
        },
        {
            "cell_type": "markdown",
            "source": [
                "## Start container mssqlsrv1\n",
                "\n",
                "Use docker"
            ],
            "metadata": {
                "azdata_cell_guid": "6fc20f21-851e-4c8e-aa8e-55ee82c357a9"
            }
        },
        {
            "cell_type": "code",
            "source": [
                "# -- Start mssqlsrv1\n",
                "$null = docker start mssqlsrv1\n",
                "docker ps"
            ],
            "metadata": {
                "azdata_cell_guid": "db2d0f83-98f2-4b5a-91ec-9e6e8077642c",
                "tags": [
                    "hide_input"
                ]
            },
            "outputs": [
                {
                    "output_type": "stream",
                    "name": "stdout",
                    "text": "CONTAINER ID   IMAGE               COMMAND                  CREATED       STATUS                  PORTS                                       NAMES\ne7ff4a53d0dd   mssql:2019-latest   \"/opt/mssql/bin/perm…\"   2 weeks ago   Up Less than a second   0.0.0.0:8433->1433/tcp, :::8433->1433/tcp   mssqlsrv1\n"
                }
            ],
            "execution_count": 2
        },
        {
            "cell_type": "markdown",
            "source": [
                "## Create a TestingDB on MSSQL Server\n",
                "\n",
                "Use dbatools, what else?"
            ],
            "metadata": {
                "azdata_cell_guid": "79bd2eef-a3e4-401e-afc1-ef01783d6105"
            }
        },
        {
            "cell_type": "code",
            "source": [
                "# -- Create new database 'TestingDB'\n",
                "$database = 'TestingDB'\n",
                "if(-not(Get-InstalledModule -Name dbatools)){\n",
                "    Install-Module -Name dbatools\n",
                "}\n",
                "if(-not(Get-Module -Name dbatools)){\n",
                "    Import-Module -Name dbatools\n",
                "}\n",
                "if([String]::IsNullOrEmpty($sqlcred)){\n",
                "    $secStringPassword = ConvertTo-SecureString 'yourStrong(!)Password' -AsPlainText -Force\n",
                "    $sqlcred = New-Object System.Management.Automation.PSCredential ('sa', $secStringPassword)\n",
                "}\n",
                "$mssqlsrv = Connect-DbaInstance -SqlInstance 'localhost:8433' -SqlCredential $sqlcred\n",
                "$dbexists = Get-DbaDatabase -SqlInstance $mssqlsrv  -Database $database\n",
                "if($dbexists){\n",
                "    $dbexists\n",
                "}else{\n",
                "    New-DbaDatabase -SqlInstance $mssqlsrv -Name $database\n",
                "}"
            ],
            "metadata": {
                "azdata_cell_guid": "f6844bd6-d0d4-489a-a2e9-eff1c299def7",
                "tags": [
                    "hide_input"
                ]
            },
            "outputs": [
                {
                    "name": "stdout",
                    "text": "\nComputerName       : localhost\nInstanceName       : MSSQLSERVER\nSqlInstance        : mssqlsrv1\nName               : TestingDB\nStatus             : Normal\nIsAccessible       : True\nRecoveryModel      : Full\nLogReuseWaitStatus : Nothing\nSizeMB             : 16\nCompatibility      : Version150\nCollation          : SQL_Latin1_General_CP1_CI_AS\nOwner              : sa\nLastFullBackup     : 01/01/0001 00:00:00\nLastDiffBackup     : 01/01/0001 00:00:00\nLastLogBackup      : 01/01/0001 00:00:00\n\n\n",
                    "output_type": "stream"
                }
            ],
            "execution_count": 32
        },
        {
            "cell_type": "markdown",
            "source": [
                "## Create new Testing Table\n",
                "\n",
                "Use dbatools, what else?"
            ],
            "metadata": {
                "azdata_cell_guid": "94318052-14cb-4695-b681-6a9095284cab"
            }
        },
        {
            "cell_type": "code",
            "source": [
                "# -- Create new table 'Test_Case1'\n",
                "$table    = 'Test_Case1'\n",
                "$database = 'TestingDB'\n",
                "$Columns  =  @()\n",
                "$Columns  += @{\n",
                "    Name      = 'ID'\n",
                "    Type      = 'int'\n",
                "    Identity  = $true\n",
                "}\n",
                "$Columns  += @{\n",
                "    Name      = 'TimeStamp'\n",
                "    Type      = 'datetime'\n",
                "    Nullable  =  $false\n",
                "    Default   =  'GETDATE()'\n",
                "}\n",
                "$Columns  += @{\n",
                "    Name      = 'Testcase'\n",
                "    Type      = 'Nvarchar'\n",
                "    MaxLength = 4000\n",
                "    Nullable  =  $true\n",
                "}\n",
                "$Columns  += @{\n",
                "    Name      = 'How to Test'\n",
                "    Type      = 'Nvarchar'\n",
                "    MaxLength = 4000\n",
                "    Nullable  =  $true\n",
                "}\n",
                "$Columns  += @{\n",
                "    Name      = 'Expectet Result'\n",
                "    Type      = 'Nvarchar'\n",
                "    MaxLength = 4000\n",
                "    Nullable  =  $true\n",
                "}\n",
                "$Columns  += @{\n",
                "    Name      = 'Received Result'\n",
                "    Type      = 'Nvarchar'\n",
                "    MaxLength = 4000\n",
                "    Nullable  =  $true\n",
                "}\n",
                "$Columns  += @{\n",
                "    Name      = 'Pass/Fail'\n",
                "    Type      = 'Nvarchar'\n",
                "    MaxLength = 10\n",
                "    Nullable  =  $true\n",
                "}\n",
                "$tblexists = Get-DbaDbTable -SqlInstance $mssqlsrv -Database $database -Table $table\n",
                "if($tblexists){\n",
                "    $tblexists\n",
                "}else{\n",
                "    New-DbaDbTable -SqlInstance $mssqlsrv -Database $database -Name $table -ColumnMap $Columns\n",
                "}"
            ],
            "metadata": {
                "azdata_cell_guid": "d03f5504-53ad-44c9-8a27-f659398f7e8a",
                "tags": [
                    "hide_input"
                ]
            },
            "outputs": [
                {
                    "name": "stdout",
                    "text": "\nComputerName          : localhost\nInstanceName          : MSSQLSERVER\nSqlInstance           : mssqlsrv1\nDatabase              : TestingDB\nSchema                : dbo\nName                  : Test_Case1\nIndexSpaceUsed        : 0\nDataSpaceUsed         : 0\nRowCount              : 0\nHasClusteredIndex     : False\nIsFileTable           : False\nIsMemoryOptimized     : False\nIsPartitioned         : False\nFullTextIndex         : \nChangeTrackingEnabled : False\n\n\n",
                    "output_type": "stream"
                }
            ],
            "execution_count": 34
        },
        {
            "cell_type": "markdown",
            "source": [
                "## PreRequisites for Testing\n",
                "\n",
                "Create and start container pyhost1 and pyhost2"
            ],
            "metadata": {
                "azdata_cell_guid": "860b6711-c116-46cf-af13-b1f9e732f1f5"
            }
        },
        {
            "cell_type": "code",
            "source": [
                "# -- Start container\n",
                "$null = docker run -e TZ=\"Europe/Zurich\" -it -v fileshare:/shared-volume --network custom --hostname pyhost1 --name pyhost1 -d pyhost:1.0.0\n",
                "$null = docker run -e TZ=\"Europe/Zurich\" -it -v fileshare:/shared-volume --network custom --hostname pyhost2 --name pyhost2 -d pyhost:1.0.0\n",
                "docker ps"
            ],
            "metadata": {
                "azdata_cell_guid": "b04e6c3a-cad8-48e2-b4be-b6528c74b033",
                "tags": [
                    "hide_input"
                ]
            },
            "outputs": [
                {
                    "name": "stdout",
                    "text": "CONTAINER ID   IMAGE               COMMAND                  CREATED         STATUS                  PORTS                                       NAMES\n4e1b93206b2e   pyhost:1.0.0        \"/bin/bash\"              2 seconds ago   Up Less than a second                                               pyhost2\na97f3a3f1893   pyhost:1.0.0        \"/bin/bash\"              5 seconds ago   Up 2 seconds                                                        pyhost1\ne7ff4a53d0dd   mssql:2019-latest   \"/opt/mssql/bin/perm…\"   2 weeks ago     Up About an hour        0.0.0.0:8433->1433/tcp, :::8433->1433/tcp   mssqlsrv1\n",
                    "output_type": "stream"
                }
            ],
            "execution_count": 38
        },
        {
            "cell_type": "markdown",
            "source": [
                "## Use Case 1"
            ],
            "metadata": {
                "azdata_cell_guid": "e6bb0d17-da96-4cee-a47e-e1e20f1c4b85"
            }
        },
        {
            "cell_type": "code",
            "source": [
                "$container = @('pyhost1', 'pyhost2')\n",
                "foreach($item in $container){\n",
                "    [PSCustomObject]@{\n",
                "        Hostname  = docker inspect --format='{{.Config.Hostname}}' $item \n",
                "        IPAddress = docker inspect --format='{{.NetworkSettings.Networks.custom.IPAddress}}' $item \n",
                "        Path      = docker inspect --format='{{.Path}}' $item \n",
                "    }\n",
                "}"
            ],
            "metadata": {
                "azdata_cell_guid": "abb238eb-a0b7-4b28-9cfb-d0238cf5a0b2",
                "tags": [
                    "hide_input"
                ]
            },
            "outputs": [
                {
                    "name": "stdout",
                    "text": "\n",
                    "output_type": "stream"
                },
                {
                    "name": "stdout",
                    "text": "Hostname IPAddress  Path\n-------- ---------  ----\npyhost1  172.18.0.3 /bin/bash\npyhost2  172.18.0.4 /bin/bash\n\n",
                    "output_type": "stream"
                }
            ],
            "execution_count": 58
        },
        {
            "cell_type": "code",
            "source": [
                "<#\n",
                "    'ID',\n",
                "    'TimeStamp',\n",
                "    'Testcase',\n",
                "    'How to Test',\n",
                "    'Expectet Result',\n",
                "    'Received Result',\n",
                "    'Pass/Fail'\n",
                "#>\n",
                "$SqlQuery   = @\"\n",
                "SELECT * FROM [$database].[dbo].[$table]\n",
                "GO\n",
                "\"@  \n",
                "Invoke-DbaQuery -SqlInstance $mssqlsrv -Database $DBname -Query $SqlQuery"
            ],
            "metadata": {
                "azdata_cell_guid": "4d6a20e7-aaec-4165-8684-107be014add2"
            },
            "outputs": [
                {
                    "name": "stdout",
                    "text": "",
                    "output_type": "stream"
                }
            ],
            "execution_count": 60
        }
    ]
}
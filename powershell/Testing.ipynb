{
    "metadata": {
        "kernelspec": {
            "name": "powershell",
            "display_name": "PowerShell",
            "language": "powershell"
        },
        "language_info": {
            "name": "powershell",
            "codemirror_mode": "shell",
            "mimetype": "text/x-sh",
            "file_extension": ".ps1"
        }
    },
    "nbformat_minor": 2,
    "nbformat": 4,
    "cells": [
        {
            "cell_type": "markdown",
            "source": [
                "# Testing Notebook\n",
                "\n",
                "Execute a Testplan with Azure Data Studio, execute a Tesplan with Pester"
            ],
            "metadata": {
                "azdata_cell_guid": "a38278af-85f5-4a15-bd8f-3d4984e8ff7b"
            }
        },
        {
            "cell_type": "markdown",
            "source": [
                "## Pre Requisites"
            ],
            "metadata": {
                "azdata_cell_guid": "aa268bbe-388a-4567-8772-267409225d12"
            }
        },
        {
            "cell_type": "markdown",
            "source": [
                "### Start container mssqlsrv1"
            ],
            "metadata": {
                "azdata_cell_guid": "6fc20f21-851e-4c8e-aa8e-55ee82c357a9"
            }
        },
        {
            "cell_type": "code",
            "source": [
                "# -- Start mssqlsrv1\n",
                "$null = docker start mssqlsrv1\n",
                "docker ps -a --filter \"name=mssqlsrv1\""
            ],
            "metadata": {
                "azdata_cell_guid": "db2d0f83-98f2-4b5a-91ec-9e6e8077642c",
                "tags": [
                    "hide_input"
                ]
            },
            "outputs": [
                {
                    "name": "stdout",
                    "text": "CONTAINER ID   IMAGE               COMMAND                  CREATED       STATUS                  PORTS                                       NAMES\ne7ff4a53d0dd   mssql:2019-latest   \"/opt/mssql/bin/perm…\"   3 weeks ago   Up Less than a second   0.0.0.0:8433->1433/tcp, :::8433->1433/tcp   mssqlsrv1\n",
                    "output_type": "stream"
                }
            ],
            "execution_count": 1
        },
        {
            "cell_type": "markdown",
            "source": [
                "### Create a TestingDB on MSSQL Server"
            ],
            "metadata": {
                "azdata_cell_guid": "79bd2eef-a3e4-401e-afc1-ef01783d6105"
            }
        },
        {
            "cell_type": "code",
            "source": [
                "# -- Create new database 'TestingDB'\n",
                "$database = 'TestingDB'\n",
                "if(-not(Get-InstalledModule -Name dbatools)){\n",
                "    Install-Module -Name dbatools\n",
                "}\n",
                "if(-not(Get-Module -Name dbatools)){\n",
                "    Import-Module -Name dbatools\n",
                "}\n",
                "if([String]::IsNullOrEmpty($sqlcred)){\n",
                "    $secStringPassword = ConvertTo-SecureString 'yourStrong(!)Password' -AsPlainText -Force\n",
                "    $sqlcred = New-Object System.Management.Automation.PSCredential ('sa', $secStringPassword)\n",
                "}\n",
                "$mssqlsrv = Connect-DbaInstance -SqlInstance 'localhost:8433' -SqlCredential $sqlcred\n",
                "$dbexists = Get-DbaDatabase -SqlInstance $mssqlsrv  -Database $database\n",
                "if($dbexists){\n",
                "    \"$database already exists\"\n",
                "}else{\n",
                "    New-DbaDatabase -SqlInstance $mssqlsrv -Name $database\n",
                "}"
            ],
            "metadata": {
                "azdata_cell_guid": "f6844bd6-d0d4-489a-a2e9-eff1c299def7",
                "tags": [
                    "hide_input"
                ]
            },
            "outputs": [],
            "execution_count": null
        },
        {
            "cell_type": "markdown",
            "source": [
                "### Create new Testing Table"
            ],
            "metadata": {
                "azdata_cell_guid": "94318052-14cb-4695-b681-6a9095284cab"
            }
        },
        {
            "cell_type": "code",
            "source": [
                "# -- Create new table 'Test_Case1'\n",
                "$table    = 'Test_Case1'\n",
                "$database = 'TestingDB'\n",
                "$Columns  =  @()\n",
                "$Columns  += @{\n",
                "    Name      = 'ID'\n",
                "    Type      = 'int'\n",
                "    Identity  = $true\n",
                "    Nullable  = $false\n",
                "}\n",
                "$Columns  += @{\n",
                "    Name      = 'TimeStamp'\n",
                "    Type      = 'datetime'\n",
                "    Nullable  =  $false\n",
                "    Default   =  'GETDATE()'\n",
                "}\n",
                "$Columns  += @{\n",
                "    Name      = 'ComputerName'\n",
                "    Type      = 'Nvarchar'\n",
                "    MaxLength = 4000\n",
                "    Nullable  =  $true\n",
                "}\n",
                "$Columns  += @{\n",
                "    Name      = 'Testcase'\n",
                "    Type      = 'Nvarchar'\n",
                "    MaxLength = 4000\n",
                "    Nullable  =  $true\n",
                "}\n",
                "$Columns  += @{\n",
                "    Name      = 'HowToTest'\n",
                "    Type      = 'Nvarchar'\n",
                "    MaxLength = 4000\n",
                "    Nullable  =  $true\n",
                "}\n",
                "$Columns  += @{\n",
                "    Name      = 'ExpectedResult'\n",
                "    Type      = 'Nvarchar'\n",
                "    MaxLength = 4000\n",
                "    Nullable  =  $true\n",
                "}\n",
                "$Columns  += @{\n",
                "    Name      = 'ReceivedResult'\n",
                "    Type      = 'Nvarchar'\n",
                "    MaxLength = 4000\n",
                "    Nullable  =  $true\n",
                "}\n",
                "$Columns  += @{\n",
                "    Name      = 'Status'\n",
                "    Type      = 'Nvarchar'\n",
                "    MaxLength = 10\n",
                "    Nullable  =  $true\n",
                "}\n",
                "$tblexists = Get-DbaDbTable -SqlInstance $mssqlsrv -Database $database -Table $table\n",
                "if($tblexists){\n",
                "    \"$tblexists already exists\"\n",
                "}else{\n",
                "    New-DbaDbTable -SqlInstance $mssqlsrv -Database $database -Name $table -ColumnMap $Columns | Select SqlInstance, Database, Name\n",
                "}"
            ],
            "metadata": {
                "azdata_cell_guid": "d03f5504-53ad-44c9-8a27-f659398f7e8a",
                "tags": [
                    "hide_input"
                ]
            },
            "outputs": [],
            "execution_count": null
        },
        {
            "cell_type": "markdown",
            "source": [
                "## Testplan Azure Data Studio"
            ],
            "metadata": {
                "azdata_cell_guid": "e6bb0d17-da96-4cee-a47e-e1e20f1c4b85"
            }
        },
        {
            "cell_type": "markdown",
            "source": [
                "### Test preparation"
            ],
            "metadata": {
                "azdata_cell_guid": "2c0c5bc9-dd6f-483e-8871-ed5b887eecdf"
            }
        },
        {
            "cell_type": "code",
            "source": [
                "# -- Connect to MSSQL Server\n",
                "$database = 'TestingDB'\n",
                "if(-not(Get-InstalledModule -Name dbatools)){\n",
                "    Install-Module -Name dbatools\n",
                "}\n",
                "if(-not(Get-Module -Name dbatools)){\n",
                "    Import-Module -Name dbatools\n",
                "}\n",
                "if([String]::IsNullOrEmpty($mssqlsrv)){\n",
                "    if([String]::IsNullOrEmpty($sqlcred)){\n",
                "        $secStringPassword = ConvertTo-SecureString 'yourStrong(!)Password' -AsPlainText -Force\n",
                "        $sqlcred = New-Object System.Management.Automation.PSCredential ('sa', $secStringPassword)\n",
                "    }\n",
                "    $mssqlsrv = Connect-DbaInstance -SqlInstance 'localhost:8433' -SqlCredential $sqlcred\n",
                "    $mssqlsrv\n",
                "}else{\n",
                "    \"already connected to $database\"\n",
                "}"
            ],
            "metadata": {
                "azdata_cell_guid": "6851b538-f032-4cfa-9dc7-d43e67046a3d",
                "tags": [
                    "hide_input"
                ]
            },
            "outputs": [
                {
                    "output_type": "stream",
                    "name": "stdout",
                    "text": "already connected to TestingDB\n"
                }
            ],
            "execution_count": 2
        },
        {
            "cell_type": "code",
            "source": [
                "# -- Start containers\n",
                "$container = 'mongodb1'\n",
                "$result = docker ps -a --filter \"name=$container\"\n",
                "if([String]::IsNullOrEmpty($result)){\n",
                "    docker start $container\n",
                "}else{\n",
                "    \"$container already running\"\n",
                "}"
            ],
            "metadata": {
                "azdata_cell_guid": "17f548c1-d537-415d-aaf6-72463f6f8b2b",
                "tags": [
                    "hide_input"
                ]
            },
            "outputs": [],
            "execution_count": null
        },
        {
            "cell_type": "markdown",
            "source": [
                "Test Computer"
            ],
            "metadata": {
                "azdata_cell_guid": "d7c5394e-3174-4f44-9e5a-527891e632a9"
            }
        },
        {
            "cell_type": "code",
            "source": [
                "$ComputerName = 'TESTSRV232789'"
            ],
            "metadata": {
                "azdata_cell_guid": "041b2245-8a06-4798-b604-6a19b3510262"
            },
            "outputs": [],
            "execution_count": null
        },
        {
            "cell_type": "markdown",
            "source": [
                "### Test image on local docker repository"
            ],
            "metadata": {
                "azdata_cell_guid": "2b0ce4ba-be77-4393-a71d-f58c7c89f4ea"
            }
        },
        {
            "cell_type": "code",
            "source": [
                "# -- Test 1 docker image\n",
                "$image = 'mongo'\n",
                "$result = docker image ls $image \n",
                "$string = $result[1].Trim() -split '\\s+'\n",
                "\n",
                "$Testcase       = \"Test is Image $image on local docker repository\"\n",
                "$HowToTest      = \"docker image ls $image\"\n",
                "$ExpectedResult = \"Repository, Tag, Image ID, Date created, Size of the Image\"\n",
                "$ReceivedResult = $string -join \", \"\n",
                "$PassFail       = if($ReceivedResult -match $image){'Pass'}else{'Fail'}\n",
                "$PassFail\n",
                "\n",
                "# -- INSERT INTO [TestingDB].[dbo].[Test_Case1]\n",
                "$SqlQuery   = @\"\n",
                "INSERT INTO [$database].[dbo].[$table] (\n",
                "    TimeStamp,ComputerName,Testcase,HowToTest,ExpectedResult,ReceivedResult,Status\n",
                ")\n",
                "VALUES (\n",
                "    CURRENT_TIMESTAMP,'$($ComputerName)','$($Testcase)','$($HowtoTest)','$($ExpectetResult)','$($ReceivedResult)','$($PassFail)'\n",
                ")\n",
                "\"@  \n",
                "Invoke-DbaQuery -SqlInstance $mssqlsrv -Database $database -Query $SqlQuery -verbose"
            ],
            "metadata": {
                "azdata_cell_guid": "4f262440-6d80-4b4e-aec2-3521481a19fd",
                "tags": [
                    "hide_input"
                ]
            },
            "outputs": [],
            "execution_count": null
        },
        {
            "cell_type": "markdown",
            "source": [
                "### Test the status of the docker container"
            ],
            "metadata": {
                "azdata_cell_guid": "8bd384e7-0afe-4cda-ac58-037ec1d397b2"
            }
        },
        {
            "cell_type": "code",
            "source": [
                "# -- Test 2 docker container\n",
                "$container = 'mongodb1'\n",
                "$result = docker ps -a --filter \"name=$container\"\n",
                "$string = $result[1].Trim() -split '\\s+'\n",
                "\n",
                "$Testcase       = \"Test is container $container on local docker repository\"\n",
                "$HowToTest      = \"docker ps -a --filter \"\"name=$container\"\"\"\n",
                "$ExpectedResult = \"Container ID, Image, Command, Date created, Status, Ports, Names\"\n",
                "$ReceivedResult = $string -join \", \"\n",
                "$PassFail       = if($ReceivedResult -match $container){'Pass'}else{'Fail'}\n",
                "$PassFail\n",
                "\n",
                "# -- INSERT INTO [TestingDB].[dbo].[Test_Case1]\n",
                "$SqlQuery   = @\"\n",
                "INSERT INTO [$database].[dbo].[$table] (\n",
                "    TimeStamp,ComputerName,Testcase,HowToTest,ExpectedResult,ReceivedResult,Status\n",
                ")\n",
                "VALUES (\n",
                "    CURRENT_TIMESTAMP,'$($ComputerName)','$($Testcase)','$($HowtoTest)','$($ExpectetResult)','$($ReceivedResult)','$($PassFail)'\n",
                ")\n",
                "\"@  \n",
                "Invoke-DbaQuery -SqlInstance $mssqlsrv -Database $database -Query $SqlQuery -verbose"
            ],
            "metadata": {
                "azdata_cell_guid": "1e90d7d6-e300-4f05-bcb6-57bbb29718cb",
                "tags": [
                    "hide_input"
                ]
            },
            "outputs": [],
            "execution_count": null
        },
        {
            "cell_type": "markdown",
            "source": [
                "### Test the MongoDB port-mapping"
            ],
            "metadata": {
                "azdata_cell_guid": "0740707f-000d-4e2f-9338-bac643cee6ce"
            }
        },
        {
            "cell_type": "code",
            "source": [
                "# -- Test 3 mongodb access\n",
                "$container = 'mongodb1'\n",
                "$ports = docker inspect --format='{{.NetworkSettings.Ports}}' $container\n",
                "$result = Invoke-WebRequest -Uri 'http://localhost:27017'\n",
                "\n",
                "$Testcase       = \"Test is $container is accessible over http\"\n",
                "$HowToTest      = \"Invoke-WebRequest -Uri \"\"http://localhost:27017\"\"\"\n",
                "$ExpectedResult = \"StatusCode 200, StatusDescription OK\"\n",
                "$ReceivedResult = \"$($result.StatusCode), $($result.StatusDescription), $($result.Content)\"\n",
                "$PassFail       = if($result.StatusCode -eq 200){'Pass'}else{'Fail'}\n",
                "$PassFail\n",
                "\n",
                "# -- INSERT INTO [TestingDB].[dbo].[Test_Case1]\n",
                "$SqlQuery   = @\"\n",
                "INSERT INTO [$database].[dbo].[$table] (\n",
                "    TimeStamp,ComputerName,Testcase,HowToTest,ExpectedResult,ReceivedResult,Status\n",
                ")\n",
                "VALUES (\n",
                "    CURRENT_TIMESTAMP,'$($ComputerName)','$($Testcase)','$($HowtoTest)','$($ExpectetResult)','$($ReceivedResult)','$($PassFail)'\n",
                ")\n",
                "\"@  \n",
                "Invoke-DbaQuery -SqlInstance $mssqlsrv -Database $database -Query $SqlQuery -verbose"
            ],
            "metadata": {
                "azdata_cell_guid": "426cd381-fd55-4999-9929-f637abbc84d9",
                "tags": [
                    "hide_input"
                ]
            },
            "outputs": [],
            "execution_count": null
        },
        {
            "cell_type": "markdown",
            "source": [
                "### Test the MongoDB database "
            ],
            "metadata": {
                "azdata_cell_guid": "c2bf37d0-1735-4197-8b26-4d8727554f6e"
            }
        },
        {
            "cell_type": "code",
            "source": [
                "# -- Test 4 mongodb database\n",
                "if(-not(Get-InstalledModule -Name Mdbc)){\n",
                "    Install-Module -Name Mdbc\n",
                "}\n",
                "if(-not(Get-Module -Name Mdbc)){\n",
                "    Import-Module -Name Mdbc\n",
                "}\n",
                "\n",
                "$mongodb = 'admin'\n",
                "$mongo_databases = Connect-Mdbc mongodb://localhost:27017 | Get-MdbcDatabase\n",
                "$result = $mongo_databases.DatabaseNamespace\n",
                "$dbs = $null\n",
                "foreach($item in $result.DatabaseName){\n",
                "    $dbs = $item + \", \" + $dbs\n",
                "}\n",
                "\n",
                "$Testcase       = \"Test is $mongodb database on $container is available\"\n",
                "$HowToTest      = \"Connect-Mdbc mongodb://localhost:27017 | Get-MdbcDatabase\"\n",
                "$ExpectedResult = \"DatabaseNamespace $mongodb\"\n",
                "$ReceivedResult = $dbs.TrimEnd(', ')\n",
                "$PassFail       = if($result -contains $mongodb){'Pass'}else{'Fail'}\n",
                "$PassFail\n",
                "\n",
                "# -- INSERT INTO [TestingDB].[dbo].[Test_Case1]\n",
                "$SqlQuery   = @\"\n",
                "INSERT INTO [$database].[dbo].[$table] (\n",
                "    TimeStamp,ComputerName,Testcase,HowToTest,ExpectedResult,ReceivedResult,Status\n",
                ")\n",
                "VALUES (\n",
                "    CURRENT_TIMESTAMP,'$($ComputerName)','$($Testcase)','$($HowtoTest)','$($ExpectetResult)','$($ReceivedResult)','$($PassFail)'\n",
                ")\n",
                "\"@  \n",
                "Invoke-DbaQuery -SqlInstance $mssqlsrv -Database $database -Query $SqlQuery -verbose"
            ],
            "metadata": {
                "azdata_cell_guid": "0908c627-f1f4-432b-b738-9856425c68b4",
                "tags": [
                    "hide_input"
                ]
            },
            "outputs": [],
            "execution_count": null
        },
        {
            "cell_type": "markdown",
            "source": [
                "### Inspect container"
            ],
            "metadata": {
                "azdata_cell_guid": "2b48f4f6-6379-4408-8ebc-bb903f22a02e"
            }
        },
        {
            "cell_type": "code",
            "source": [
                "# -- docker inspect mongodb1\n",
                "$container = @('mongodb1')\n",
                "foreach($item in $container){\n",
                "    [PSCustomObject]@{\n",
                "        Hostname  = docker inspect --format='{{.Config.Hostname}}' $item \n",
                "        IPAddress = docker inspect --format='{{.NetworkSettings.Networks.custom.IPAddress}}' $item \n",
                "        Path      = docker inspect --format='{{.Path}}' $item \n",
                "        Ports     = docker inspect --format='{{.NetworkSettings.Ports}}' $item \n",
                "        ExposedPorts = docker inspect --format='{{.Config.ExposedPorts}}' $item \n",
                "    }\n",
                "}\n",
                "#docker inspect mongodb1"
            ],
            "metadata": {
                "azdata_cell_guid": "abb238eb-a0b7-4b28-9cfb-d0238cf5a0b2",
                "tags": [
                    "hide_input"
                ]
            },
            "outputs": [],
            "execution_count": null
        },
        {
            "cell_type": "markdown",
            "source": [
                "## Import from CSV\n",
                "\n",
                "Import data from CSV-file into the database"
            ],
            "metadata": {
                "azdata_cell_guid": "42193b14-c38e-4b38-a7b4-5ff65116c702"
            }
        },
        {
            "cell_type": "code",
            "source": [
                "# -- Import CSV\n",
                "$database = 'TestingDB'\n",
                "if([String]::IsNullOrEmpty($sqlcred)){\n",
                "    $secStringPassword = ConvertTo-SecureString 'yourStrong(!)Password' -AsPlainText -Force\n",
                "    $sqlcred = New-Object System.Management.Automation.PSCredential ('sa', $secStringPassword)\n",
                "}\n",
                "$mssqlsrv = Connect-DbaInstance -SqlInstance 'localhost:8433' -SqlCredential $sqlcred -Database $database\n",
                "$Downloads = Join-Path \"$($env:USERPROFILE)\" -ChildPath 'Downloads'\n",
                "Import-DbaCsv -Path (Join-Path $Downloads -ChildPath 'Test_MongoDB.csv') -SqlInstance $mssqlsrv -Database $database -NullValue \"NULL\" -AutoCreateTable"
            ],
            "metadata": {
                "azdata_cell_guid": "0f46ff62-f433-4947-bd01-b4e8e190ea61",
                "tags": [
                    "hide_input"
                ]
            },
            "outputs": [],
            "execution_count": null
        },
        {
            "cell_type": "markdown",
            "source": [
                "## Pester Tests\n",
                "\n",
                "The preparations are in the PetserTest-file in ./lib/MongoDB.Tests.ps1"
            ],
            "metadata": {
                "azdata_cell_guid": "df1fc84b-b144-464a-9f3f-7177730736f4"
            }
        },
        {
            "cell_type": "markdown",
            "source": [
                "### Execute Pester Tests"
            ],
            "metadata": {
                "azdata_cell_guid": "7b8d5eb6-dc64-4472-95e2-189c5504c62d"
            }
        },
        {
            "cell_type": "code",
            "source": [
                "$PesterResult = Invoke-Pester -PassThru -Path 'D:\\DevOps\\github.com\\Jupyter-Notebooks\\lib'"
            ],
            "metadata": {
                "azdata_cell_guid": "1e89831f-2ca7-48d5-8535-47a413cbd23b"
            },
            "outputs": [],
            "execution_count": null
        },
        {
            "cell_type": "markdown",
            "source": [
                "### Get Test results as PSObject"
            ],
            "metadata": {
                "azdata_cell_guid": "41a819ab-826e-426a-8205-8f8b92ecd71a"
            }
        },
        {
            "cell_type": "code",
            "source": [
                "$AllPesterResults = @()\r\n",
                "$ComputerName = 'TESTSRV232789'\r\n",
                "$ColumnMap = @(\r\n",
                "    @{l='ID';e={New-Guid}},\r\n",
                "    @{l='TimeStamp';e={\"$($_.ExecutedAt.ToString())\"}},\r\n",
                "    @{l='Computer';e={$ComputerName}},\r\n",
                "    @{l='Testcase';e={\"$($_.ExpandedPath.ToString().split('.')[0])\"}},\r\n",
                "    @{l='HowToTest';e={\"$($_.ScriptBlock.ToString().Trim())\"}},\r\n",
                "    @{l='ExpectedResult';e={\"$($_.ExpandedName)\"}},\r\n",
                "    @{l='ReceivedResult';e={\"$($_.Result)\"}},\r\n",
                "    @{l='Status';e={\"$($_.Passed.ToString())\"}}\r\n",
                ")\r\n",
                "$AllPesterResults += $PesterResult.Passed | Select-Object $ColumnMap\r\n",
                "$ColumnMap = @(\r\n",
                "    @{l='ID';e={New-Guid}},\r\n",
                "    @{l='TimeStamp';e={\"$($_.ExecutedAt.ToString())\"}},\r\n",
                "    @{l='Computer';e={$ComputerName}},\r\n",
                "    @{l='Testcase';e={\"$($_.ExpandedPath.ToString().split('.')[0])\"}},\r\n",
                "    @{l='HowToTest';e={\"$($_.ScriptBlock.ToString().Trim())\"}},\r\n",
                "    @{l='ExpectedResult';e={\"$($_.ExpandedName.ToString())\"}},\r\n",
                "    @{l='ReceivedResult';e={\"$($_.ErrorRecord.DisplayErrorMessage.ToString())\"}},\r\n",
                "    @{l='Status';e={\"$($_.Passed.ToString())\"}}\r\n",
                ")\r\n",
                "$AllPesterResults += $PesterResult.Failed | Select-Object $ColumnMap\r\n",
                "$AllPesterResults"
            ],
            "metadata": {
                "azdata_cell_guid": "6daceb85-08c4-4621-ac2e-8a775cfd0738",
                "tags": [
                    "hide_input"
                ]
            },
            "outputs": [],
            "execution_count": null
        },
        {
            "cell_type": "markdown",
            "source": [
                "### Save Test results as CSV-file"
            ],
            "metadata": {
                "azdata_cell_guid": "0b36d08e-bca3-4fa1-8f49-b5225246d6b8"
            }
        },
        {
            "cell_type": "code",
            "source": [
                "# -- csv\r\n",
                "$Downloads = Join-Path \"$($env:USERPROFILE)\" -ChildPath 'Downloads'\r\n",
                "$AllPesterResults | ConvertTo-Csv -Delimiter ',' -NoTypeInformation | Set-Content -Path (Join-Path $Downloads -ChildPath 'PesterTest.csv') -Encoding utf8 -PassThru"
            ],
            "metadata": {
                "azdata_cell_guid": "17d008ba-8557-4b30-918a-551405d3be4d",
                "tags": [
                    "hide_input"
                ]
            },
            "outputs": [],
            "execution_count": null
        },
        {
            "cell_type": "markdown",
            "source": [
                "### Save Test results as JSON-file"
            ],
            "metadata": {
                "azdata_cell_guid": "fa448093-b5d4-4c14-9c0f-136f3027afcd"
            }
        },
        {
            "cell_type": "code",
            "source": [
                "# -- json\r\n",
                "$Downloads = Join-Path \"$($env:USERPROFILE)\" -ChildPath 'Downloads'\r\n",
                "$AllPesterResults | ConvertTo-JSON -Compress | Set-Content -Path (Join-Path $Downloads -ChildPath 'PesterTest.json') -Encoding utf8 -PassThru"
            ],
            "metadata": {
                "azdata_cell_guid": "a73af67b-1e53-4eb8-a725-83fc53afaf44",
                "tags": [
                    "hide_input"
                ]
            },
            "outputs": [],
            "execution_count": null
        },
        {
            "cell_type": "markdown",
            "source": [
                "### Import Test results into the database"
            ],
            "metadata": {
                "azdata_cell_guid": "722a323c-6a91-4263-93e9-b76290ad927e"
            }
        },
        {
            "cell_type": "code",
            "source": [
                "# -- Write-DbaDbTableData\r\n",
                "$table = 'TestMongoDB'\r\n",
                "$dataset = $AllPesterResults | ConvertTo-DbaDataTable\r\n",
                "$dataset | Write-DbaDbTableData -SqlInstance $mssqlsrv -Database $database -Table $table -AutoCreateTable -Verbose #-Truncate"
            ],
            "metadata": {
                "azdata_cell_guid": "67ccb957-0725-466c-b81f-430d02f58cf8",
                "tags": [
                    "hide_input"
                ]
            },
            "outputs": [],
            "execution_count": null
        },
        {
            "cell_type": "markdown",
            "source": [
                "## Get Test results from database"
            ],
            "metadata": {
                "azdata_cell_guid": "ec336936-8a87-4052-ab97-50617fa69b42"
            }
        },
        {
            "cell_type": "code",
            "source": [
                "$tablecol = @('Test_Case1','TestMongoDB')\r\n",
                "# -- SELECT * FROM [TestingDB].[dbo].[Test_Case1]\r\n",
                "$result = foreach($table in $tablecol){\r\n",
                "    $SqlQuery  = \"SELECT * FROM [$database].[dbo].[$table]\"\r\n",
                "    Invoke-DbaQuery -SqlInstance $mssqlsrv -Database $database -Query $SqlQuery -WarningAction SilentlyContinue | Select @{l='Table';e={\"$($table)\"}},ID,TimeStamp,ComputerName,Testcase,Status\r\n",
                "}\r\n",
                "$result | Format-Table -GroupBy Table "
            ],
            "metadata": {
                "azdata_cell_guid": "2891acd9-fa0f-4ca9-a66e-f873e39759cf",
                "tags": [
                    "hide_input"
                ]
            },
            "outputs": [],
            "execution_count": null
        },
        {
            "cell_type": "markdown",
            "source": [
                "# Backup, Restore"
            ],
            "metadata": {
                "azdata_cell_guid": "d855ccc6-7891-4835-9909-3a4f58d99bbc"
            }
        },
        {
            "cell_type": "code",
            "source": [
                "Backup-DbaDatabase -SqlInstance $mssqlsrv -Path '/var/opt/mssql/backup' -Database $database -Type Full -IgnoreFileChecks | fl *"
            ],
            "metadata": {
                "azdata_cell_guid": "6c7d8311-e481-4efd-b664-16134c5c53ed",
                "tags": []
            },
            "outputs": [
                {
                    "output_type": "stream",
                    "name": "stdout",
                    "text": "                                                                                                                                                                                                                                                                                                                                                                                                                "
                },
                {
                    "output_type": "stream",
                    "name": "stdout",
                    "text": "                                                                                                                                                                                                                                                                                                                                                                                                                "
                },
                {
                    "output_type": "stream",
                    "name": "stdout",
                    "text": "\nBackupComplete        : True\nBackupFile            : TestingDB_202106020915.bak\nBackupFilesCount      : 1\nBackupFolder          : /var/opt/mssql/backup\nBackupPath            : /var/opt/mssql/backup\\TestingDB_202106020915.bak\nDatabaseName          : TestingDB\nNotes                 : \nScript                : BACKUP DATABASE [TestingDB] TO  DISK = N'/var/opt/mssql\n                        /backup\\TestingDB_202106020915.bak' WITH NOFORMAT, NOIN\n                        IT, NOSKIP, REWIND, NOUNLOAD,  STATS = 1\nVerified              : False\nComputerName          : localhost\nInstanceName          : MSSQLSERVER\nSqlInstance           : mssqlsrv1\nAvailabilityGroupName : \nDatabase              : TestingDB\nUserName              : sa\nStart                 : 06/02/2021 09:15:33\nEnd                   : 06/02/2021 09:15:33\nDuration              : 00:00:00\nPath                  : {/var/opt/mssql/backup\\TestingDB_202106020915.bak}\nTotalSize             : 3.02 MB\nCompressedBackupSize  : 3.02 MB\nCompressionRatio      : 1\nType                  : Full\nBackupSetId           : 9\nDeviceType            : Disk\nSoftware              : Microsoft SQL Server\nFullName              : {/var/opt/mssql/backup\\TestingDB_202106020915.bak}\nFileList              : {@{FileType=D; LogicalName=TestingDB; PhysicalName=/var\n                        /opt/mssql/data/TestingDB.mdf}, @{FileType=L; LogicalNa\n                        me=TestingDB_log; PhysicalName=/var/opt/mssql/data/Test\n                        ingDB_log.ldf}}\nPosition              : 1\nFirstLsn              : 37000000244800001\nDatabaseBackupLsn     : 37000000232800001\nCheckpointLsn         : 37000000244800001\nLastLsn               : 37000000247200001\nSoftwareVersionMajor  : 15\nIsCopyOnly            : False\nLastRecoveryForkGUID  : 22e9a2f0-2585-425f-b44d-61cc2bba1212\nRecoveryModel         : FULL\nKeyAlgorithm          : \nEncryptorThumbprint   : \nEncryptorType         : \n\n\n"
                }
            ],
            "execution_count": 7
        },
        {
            "cell_type": "code",
            "source": [
                "$BackupPath = '/var/opt/mssql/backup/TestingDB_202106020915.bak'\n",
                "Restore-DbaDatabase -SqlInstance $mssqlsrv -Path $BackupPath -DatabaseName $database -WithReplace | fl *"
            ],
            "metadata": {
                "azdata_cell_guid": "37de265f-85b6-4f46-a6bf-c09442a5d1c9"
            },
            "outputs": [
                {
                    "output_type": "stream",
                    "name": "stdout",
                    "text": "                                                                                                                                                                                                                                                                                                                                                                                                                                                                                                                                                                                "
                },
                {
                    "output_type": "stream",
                    "name": "stdout",
                    "text": "                                                                                 Updating                                                                           Progress                                                                        [                                                                    ]                                                                                          Scanning Restore headers: 0/1                                                                                                                               "
                },
                {
                    "output_type": "stream",
                    "name": "stdout",
                    "text": "                                                                                                                                                                                                                                                                                                                                                                                                                                                                                                                                                                                                                                                                                                                                                                                                                                                                                                                                                                                                "
                },
                {
                    "output_type": "stream",
                    "name": "stdout",
                    "text": "                                                                                                                                                                                                                                                                                                                                                                                                                                                                                                                                                                                                                                                                                                                                                                                                                                                                                                                                                                                                                                                                                "
                },
                {
                    "output_type": "stream",
                    "name": "stdout",
                    "text": "                                                                                                                                                                                                                                                                                                                                                                                                                                                                                                                                                                                                                                                                                                                                                                                                                                                                                                                                                                                                                                                                                \nComputerName           : localhost\nInstanceName           : MSSQLSERVER\nSqlInstance            : mssqlsrv1\nDatabase               : TestingDB\nDatabaseName           : TestingDB\nDatabaseOwner          : sa\nOwner                  : sa\nNoRecovery             : False\nWithReplace            : True\nKeepReplication        : False\nRestoreComplete        : True\nBackupFilesCount       : 1\nRestoredFilesCount     : 2\nBackupSizeMB           : 3.02\nCompressedBackupSizeMB : 3.02\nBackupFile             : /var/opt/mssql/backup/TestingDB_202106020915.bak\nRestoredFile           : TestingDB_log.ldf,TestingDB.mdf\nRestoredFileFull       : /var/opt/mssql/data/TestingDB.mdf,/var/opt/mssql/data/\n                         TestingDB_log.ldf\nRestoreDirectory       : /var/opt/mssql/data\nBackupSize             : 3.02 MB\nCompressedBackupSize   : 3.02 MB\nBackupStartTime        : 06/02/2021 09:15:33\nBackupEndTime          : 06/02/2021 09:15:33\nRestoreTargetTime      : Latest\nScript                 : {RESTORE DATABASE [TestingDB] FROM  DISK = N'/var/opt/\n                         mssql/backup/TestingDB_202106020915.bak' WITH  FILE = \n                         1,  MOVE N'TestingDB' TO N'/var/opt/mssql/data/Testing\n                         DB.mdf',  MOVE N'TestingDB_log' TO N'/var/opt/mssql/da\n                         ta/TestingDB_log.ldf',  NOUNLOAD,  REPLACE,  STATS = 1\n                         0}\nBackupFileRaw          : /var/opt/mssql/backup/TestingDB_202106020915.bak\nFileRestoreTime        : 00:00:01\nDatabaseRestoreTime    : 00:00:01\nExitError              : \n\n                                                                                 Restoring TestingDB to localhost,8433 - Backup 1 of 1                              Progress: 100.00 %                                                              [oooooooooooooooooooooooooooooooooooooooooooooooooooooooooooooooooooo]                                                                                                                                                                                                                                                                                                                                                                                                                                                                                                      \n"
                }
            ],
            "execution_count": 10
        }
    ]
}
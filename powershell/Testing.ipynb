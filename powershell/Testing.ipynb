{
    "metadata": {
        "kernelspec": {
            "name": "powershell",
            "display_name": "PowerShell",
            "language": "powershell"
        },
        "language_info": {
            "name": "powershell",
            "codemirror_mode": "shell",
            "mimetype": "text/x-sh",
            "file_extension": ".ps1"
        }
    },
    "nbformat_minor": 2,
    "nbformat": 4,
    "cells": [
        {
            "cell_type": "markdown",
            "source": [
                "# Testing Notebook"
            ],
            "metadata": {
                "azdata_cell_guid": "a38278af-85f5-4a15-bd8f-3d4984e8ff7b"
            }
        },
        {
            "cell_type": "markdown",
            "source": [
                "## Start container mssqlsrv1\n",
                "\n",
                "Use docker"
            ],
            "metadata": {
                "azdata_cell_guid": "6fc20f21-851e-4c8e-aa8e-55ee82c357a9"
            }
        },
        {
            "cell_type": "code",
            "source": [
                "# -- Start mssqlsrv1\n",
                "$null = docker start mssqlsrv1\n",
                "docker ps"
            ],
            "metadata": {
                "azdata_cell_guid": "db2d0f83-98f2-4b5a-91ec-9e6e8077642c",
                "tags": [
                    "hide_input"
                ]
            },
            "outputs": [
                {
                    "name": "stdout",
                    "text": "CONTAINER ID   IMAGE               COMMAND                  CREATED       STATUS       PORTS                                           NAMES\n30ea66275f78   mongo               \"docker-entrypoint.s…\"   2 weeks ago   Up 2 hours   0.0.0.0:27017->27017/tcp, :::27017->27017/tcp   mongodb1\ne7ff4a53d0dd   mssql:2019-latest   \"/opt/mssql/bin/perm…\"   2 weeks ago   Up 3 hours   0.0.0.0:8433->1433/tcp, :::8433->1433/tcp       mssqlsrv1\n",
                    "output_type": "stream"
                }
            ],
            "execution_count": 133
        },
        {
            "cell_type": "markdown",
            "source": [
                "## Create a TestingDB on MSSQL Server\n",
                "\n",
                "Use dbatools, what else?"
            ],
            "metadata": {
                "azdata_cell_guid": "79bd2eef-a3e4-401e-afc1-ef01783d6105"
            }
        },
        {
            "cell_type": "code",
            "source": [
                "# -- Create new database 'TestingDB'\n",
                "$database = 'TestingDB'\n",
                "if(-not(Get-InstalledModule -Name dbatools)){\n",
                "    Install-Module -Name dbatools\n",
                "}\n",
                "if(-not(Get-Module -Name dbatools)){\n",
                "    Import-Module -Name dbatools\n",
                "}\n",
                "if([String]::IsNullOrEmpty($sqlcred)){\n",
                "    $secStringPassword = ConvertTo-SecureString 'yourStrong(!)Password' -AsPlainText -Force\n",
                "    $sqlcred = New-Object System.Management.Automation.PSCredential ('sa', $secStringPassword)\n",
                "}\n",
                "$mssqlsrv = Connect-DbaInstance -SqlInstance 'localhost:8433' -SqlCredential $sqlcred\n",
                "$dbexists = Get-DbaDatabase -SqlInstance $mssqlsrv  -Database $database\n",
                "if($dbexists){\n",
                "    \"$database already exists\"\n",
                "}else{\n",
                "    New-DbaDatabase -SqlInstance $mssqlsrv -Name $database\n",
                "}"
            ],
            "metadata": {
                "azdata_cell_guid": "f6844bd6-d0d4-489a-a2e9-eff1c299def7",
                "tags": [
                    "hide_input"
                ]
            },
            "outputs": [
                {
                    "name": "stdout",
                    "text": "TestingDB already exists\n",
                    "output_type": "stream"
                },
                {
                    "name": "stdout",
                    "text": "",
                    "output_type": "stream"
                }
            ],
            "execution_count": 150
        },
        {
            "cell_type": "markdown",
            "source": [
                "## Create new Testing Table\n",
                "\n",
                "Use dbatools, what else?"
            ],
            "metadata": {
                "azdata_cell_guid": "94318052-14cb-4695-b681-6a9095284cab"
            }
        },
        {
            "cell_type": "code",
            "source": [
                "# -- Create new table 'Test_Case1'\n",
                "$table    = 'Test_Case1'\n",
                "$database = 'TestingDB'\n",
                "$Columns  =  @()\n",
                "$Columns  += @{\n",
                "    Name      = 'ID'\n",
                "    Type      = 'int'\n",
                "    Identity  = $true\n",
                "}\n",
                "$Columns  += @{\n",
                "    Name      = 'TimeStamp'\n",
                "    Type      = 'datetime'\n",
                "    Nullable  =  $false\n",
                "    Default   =  'GETDATE()'\n",
                "}\n",
                "$Columns  += @{\n",
                "    Name      = 'Testcase'\n",
                "    Type      = 'Nvarchar'\n",
                "    MaxLength = 4000\n",
                "    Nullable  =  $true\n",
                "}\n",
                "$Columns  += @{\n",
                "    Name      = 'HowToTest'\n",
                "    Type      = 'Nvarchar'\n",
                "    MaxLength = 4000\n",
                "    Nullable  =  $true\n",
                "}\n",
                "$Columns  += @{\n",
                "    Name      = 'ExpectetResult'\n",
                "    Type      = 'Nvarchar'\n",
                "    MaxLength = 4000\n",
                "    Nullable  =  $true\n",
                "}\n",
                "$Columns  += @{\n",
                "    Name      = 'ReceivedResult'\n",
                "    Type      = 'Nvarchar'\n",
                "    MaxLength = 4000\n",
                "    Nullable  =  $true\n",
                "}\n",
                "$Columns  += @{\n",
                "    Name      = 'Status'\n",
                "    Type      = 'Nvarchar'\n",
                "    MaxLength = 10\n",
                "    Nullable  =  $true\n",
                "}\n",
                "$tblexists = Get-DbaDbTable -SqlInstance $mssqlsrv -Database $database -Table $table\n",
                "if($tblexists){\n",
                "    \"$tblexists already exists\"\n",
                "}else{\n",
                "    New-DbaDbTable -SqlInstance $mssqlsrv -Database $database -Name $table -ColumnMap $Columns | Select SqlInstance, Database, Name\n",
                "}"
            ],
            "metadata": {
                "azdata_cell_guid": "d03f5504-53ad-44c9-8a27-f659398f7e8a",
                "tags": [
                    "hide_input"
                ]
            },
            "outputs": [
                {
                    "name": "stdout",
                    "text": "\nSqlInstance Database  Name\n----------- --------  ----\nmssqlsrv1   TestingDB Test_Case1\n\n",
                    "output_type": "stream"
                }
            ],
            "execution_count": 135
        },
        {
            "cell_type": "markdown",
            "source": [
                "## Use Cases"
            ],
            "metadata": {
                "azdata_cell_guid": "e6bb0d17-da96-4cee-a47e-e1e20f1c4b85"
            }
        },
        {
            "cell_type": "code",
            "source": [
                "# -- Connect to MSSQL Server\n",
                "$database = 'TestingDB'\n",
                "if(-not(Get-InstalledModule -Name dbatools)){\n",
                "    Install-Module -Name dbatools\n",
                "}\n",
                "if(-not(Get-Module -Name dbatools)){\n",
                "    Import-Module -Name dbatools\n",
                "}\n",
                "if([String]::IsNullOrEmpty($mssqlsrv)){\n",
                "    if([String]::IsNullOrEmpty($sqlcred)){\n",
                "        $secStringPassword = ConvertTo-SecureString 'yourStrong(!)Password' -AsPlainText -Force\n",
                "        $sqlcred = New-Object System.Management.Automation.PSCredential ('sa', $secStringPassword)\n",
                "    }\n",
                "    $mssqlsrv = Connect-DbaInstance -SqlInstance 'localhost:8433' -SqlCredential $sqlcred\n",
                "}else{\n",
                "    \"already connected to $database\"\n",
                "}"
            ],
            "metadata": {
                "azdata_cell_guid": "6851b538-f032-4cfa-9dc7-d43e67046a3d",
                "tags": [
                    "hide_input"
                ]
            },
            "outputs": [
                {
                    "name": "stdout",
                    "text": "\nComputerName Name           Product              Version   HostPlatform IsAzure\n------------ ----           -------              -------   ------------ -------\nlocalhost    localhost,8433 Microsoft SQL Server 15.0.4123 Linux        False  \n\n",
                    "output_type": "stream"
                }
            ],
            "execution_count": 155
        },
        {
            "cell_type": "code",
            "source": [
                "# -- Start containers\n",
                "$container = 'mongodb1'\n",
                "$result = docker ps -a --filter \"name=$container\"\n",
                "if([String]::IsNullOrEmpty($result)){\n",
                "    docker start $container\n",
                "}else{\n",
                "    \"$container already running\"\n",
                "}"
            ],
            "metadata": {
                "azdata_cell_guid": "17f548c1-d537-415d-aaf6-72463f6f8b2b",
                "tags": [
                    "hide_input"
                ]
            },
            "outputs": [
                {
                    "name": "stdout",
                    "text": "mongodb1 already running\n",
                    "output_type": "stream"
                }
            ],
            "execution_count": 137
        },
        {
            "cell_type": "markdown",
            "source": [
                "### Use Case 1"
            ],
            "metadata": {
                "azdata_cell_guid": "2b0ce4ba-be77-4393-a71d-f58c7c89f4ea"
            }
        },
        {
            "cell_type": "code",
            "source": [
                "# -- Test 1 docker image\n",
                "$image = 'mongo'\n",
                "$result = docker image ls $image \n",
                "$string = $result[1].Trim() -split '\\s+'\n",
                "\n",
                "$Testcase       = \"Test is Image $image on local docker repository\"\n",
                "$HowToTest      = \"docker image ls $image\"\n",
                "$ExpectetResult = \"Repository, Tag, Image ID, Date created, Size of the Image\"\n",
                "$ReceivedResult = $string -join \", \"\n",
                "$PassFail       = if($ReceivedResult -match $image){'Pass'}else{'Fail'}\n",
                "$PassFail\n",
                "\n",
                "# -- INSERT INTO [TestingDB].[dbo].[Test_Case1]\n",
                "$SqlQuery   = @\"\n",
                "INSERT INTO [$database].[dbo].[$table] (\n",
                "    TimeStamp,Testcase,HowToTest,ExpectetResult,ReceivedResult,Status\n",
                ")\n",
                "VALUES (\n",
                "    CURRENT_TIMESTAMP,'$($Testcase)','$($HowtoTest)','$($ExpectetResult)','$($ReceivedResult)','$($PassFail)'\n",
                ")\n",
                "\"@  \n",
                "Invoke-DbaQuery -SqlInstance $mssqlsrv -Database $database -Query $SqlQuery -verbose"
            ],
            "metadata": {
                "azdata_cell_guid": "4f262440-6d80-4b4e-aec2-3521481a19fd",
                "tags": [
                    "hide_input"
                ]
            },
            "outputs": [
                {
                    "name": "stdout",
                    "text": "Pass\n",
                    "output_type": "stream"
                },
                {
                    "name": "stdout",
                    "text": "",
                    "output_type": "stream"
                }
            ],
            "execution_count": 138
        },
        {
            "cell_type": "code",
            "source": [
                "# -- Test 2 docker container\n",
                "$container = 'mongodb1'\n",
                "$result = docker ps -a --filter \"name=$container\"\n",
                "$string = $result[1].Trim() -split '\\s+'\n",
                "\n",
                "$Testcase       = \"Test is container $container on local docker repository\"\n",
                "$HowToTest      = \"docker ps -a --filter \"\"name=$container\"\"\"\n",
                "$ExpectetResult = \"Container ID, Image, Command, Date created, Status, Ports, Names\"\n",
                "$ReceivedResult = $string -join \", \"\n",
                "$PassFail       = if($ReceivedResult -match $container){'Pass'}else{'Fail'}\n",
                "$PassFail\n",
                "\n",
                "# -- INSERT INTO [TestingDB].[dbo].[Test_Case1]\n",
                "$SqlQuery   = @\"\n",
                "INSERT INTO [$database].[dbo].[$table] (\n",
                "    TimeStamp,Testcase,HowToTest,ExpectetResult,ReceivedResult,Status\n",
                ")\n",
                "VALUES (\n",
                "    CURRENT_TIMESTAMP,'$($Testcase)','$($HowtoTest)','$($ExpectetResult)','$($ReceivedResult)','$($PassFail)'\n",
                ")\n",
                "\"@  \n",
                "Invoke-DbaQuery -SqlInstance $mssqlsrv -Database $database -Query $SqlQuery -verbose"
            ],
            "metadata": {
                "azdata_cell_guid": "1e90d7d6-e300-4f05-bcb6-57bbb29718cb",
                "tags": [
                    "hide_input"
                ]
            },
            "outputs": [
                {
                    "name": "stdout",
                    "text": "Pass\n",
                    "output_type": "stream"
                },
                {
                    "name": "stdout",
                    "text": "",
                    "output_type": "stream"
                }
            ],
            "execution_count": 139
        },
        {
            "cell_type": "code",
            "source": [
                "# -- Test 3 mongodb access\n",
                "$container = 'mongodb1'\n",
                "$ports = docker inspect --format='{{.NetworkSettings.Ports}}' $container\n",
                "$result = Invoke-WebRequest -Uri 'http://localhost:27017'\n",
                "\n",
                "$Testcase       = \"Test is $container is accessible over http\"\n",
                "$HowToTest      = \"Invoke-WebRequest -Uri \"\"http://localhost:27017\"\"\"\n",
                "$ExpectetResult = \"StatusCode 200, StatusDescription OK\"\n",
                "$ReceivedResult = \"$($result.StatusCode), $($result.StatusDescription), $($result.Content)\"\n",
                "$PassFail       = if($result.StatusCode -eq 200){'Pass'}else{'Fail'}\n",
                "$PassFail\n",
                "\n",
                "# -- INSERT INTO [TestingDB].[dbo].[Test_Case1]\n",
                "$SqlQuery   = @\"\n",
                "INSERT INTO [$database].[dbo].[$table] (\n",
                "    TimeStamp,Testcase,HowToTest,ExpectetResult,ReceivedResult,Status\n",
                ")\n",
                "VALUES (\n",
                "    CURRENT_TIMESTAMP,'$($Testcase)','$($HowtoTest)','$($ExpectetResult)','$($ReceivedResult)','$($PassFail)'\n",
                ")\n",
                "\"@  \n",
                "Invoke-DbaQuery -SqlInstance $mssqlsrv -Database $database -Query $SqlQuery -verbose"
            ],
            "metadata": {
                "azdata_cell_guid": "426cd381-fd55-4999-9929-f637abbc84d9",
                "tags": [
                    "hide_input"
                ]
            },
            "outputs": [
                {
                    "name": "stdout",
                    "text": "                                                                                                                                                                                                                                                                                                                                                                                                                                                                                                                                                                                                                                                                Pass\n",
                    "output_type": "stream"
                }
            ],
            "execution_count": 140
        },
        {
            "cell_type": "code",
            "source": [
                "# -- Test 4 mongodb database\n",
                "if(-not(Get-InstalledModule -Name Mdbc)){\n",
                "    Install-Module -Name Mdbc\n",
                "}\n",
                "if(-not(Get-Module -Name Mdbc)){\n",
                "    Import-Module -Name Mdbc\n",
                "}\n",
                "\n",
                "$mongodb = 'admin'\n",
                "$mongo_databases = Connect-Mdbc mongodb://localhost:27017 | Get-MdbcDatabase\n",
                "$result = $mongo_databases.DatabaseNamespace\n",
                "$dbs = $null\n",
                "foreach($item in $result.DatabaseName){\n",
                "    $dbs = $item + \", \" + $dbs\n",
                "}\n",
                "\n",
                "$Testcase       = \"Test is $mongodb database on $container is available\"\n",
                "$HowToTest      = \"Connect-Mdbc mongodb://localhost:27017 | Get-MdbcDatabase\"\n",
                "$ExpectetResult = \"DatabaseNamespace $mongodb\"\n",
                "$ReceivedResult = $dbs.TrimEnd(', ')\n",
                "$PassFail       = if($result -contains $mongodb){'Pass'}else{'Fail'}\n",
                "$PassFail\n",
                "\n",
                "# -- INSERT INTO [TestingDB].[dbo].[Test_Case1]\n",
                "$SqlQuery   = @\"\n",
                "INSERT INTO [$database].[dbo].[$table] (\n",
                "    TimeStamp,Testcase,HowToTest,ExpectetResult,ReceivedResult,Status\n",
                ")\n",
                "VALUES (\n",
                "    CURRENT_TIMESTAMP,'$($Testcase)','$($HowtoTest)','$($ExpectetResult)','$($ReceivedResult)','$($PassFail)'\n",
                ")\n",
                "\"@  \n",
                "Invoke-DbaQuery -SqlInstance $mssqlsrv -Database $database -Query $SqlQuery -verbose"
            ],
            "metadata": {
                "azdata_cell_guid": "0908c627-f1f4-432b-b738-9856425c68b4",
                "tags": [
                    "hide_input"
                ]
            },
            "outputs": [
                {
                    "name": "stdout",
                    "text": "Pass\n",
                    "output_type": "stream"
                }
            ],
            "execution_count": 141
        },
        {
            "cell_type": "code",
            "source": [
                "# -- SELECT * FROM [TestingDB].[dbo].[Test_Case1]\n",
                "$SqlQuery  = \"SELECT * FROM [$database].[dbo].[$table]\"\n",
                "Invoke-DbaQuery -SqlInstance $mssqlsrv -Database $DBname -Query $SqlQuery | Select ID,Testcase,Status"
            ],
            "metadata": {
                "azdata_cell_guid": "4d6a20e7-aaec-4165-8684-107be014add2",
                "tags": [
                    "hide_input"
                ]
            },
            "outputs": [
                {
                    "name": "stdout",
                    "text": "\nID Testcase                                              Status\n-- --------                                              ------\n 1 Test is Image mongo on local docker repository        Pass\n 2 Test is container mongodb1 on local docker repository Pass\n 3 Test is mongodb1 is accessible over http              Pass\n 4 Test is admin database on mongodb1 is available       Pass\n\n",
                    "output_type": "stream"
                }
            ],
            "execution_count": 148
        },
        {
            "cell_type": "code",
            "source": [
                "$container = @('mongodb1')\n",
                "foreach($item in $container){\n",
                "    [PSCustomObject]@{\n",
                "        Hostname  = docker inspect --format='{{.Config.Hostname}}' $item \n",
                "        IPAddress = docker inspect --format='{{.NetworkSettings.Networks.custom.IPAddress}}' $item \n",
                "        Path      = docker inspect --format='{{.Path}}' $item \n",
                "        Ports     = docker inspect --format='{{.NetworkSettings.Ports}}' $item \n",
                "        ExposedPorts = docker inspect --format='{{.Config.ExposedPorts}}' $item \n",
                "    }\n",
                "}\n",
                "#docker inspect mongodb1"
            ],
            "metadata": {
                "azdata_cell_guid": "abb238eb-a0b7-4b28-9cfb-d0238cf5a0b2",
                "tags": [
                    "hide_input"
                ]
            },
            "outputs": [
                {
                    "name": "stdout",
                    "text": "\nHostname     : mongodb1\nIPAddress    : 172.18.0.3\nPath         : docker-entrypoint.sh\nPorts        : map[27017/tcp:[{0.0.0.0 27017} {:: 27017}]]\nExposedPorts : map[27017/tcp:{}]\n\n\n",
                    "output_type": "stream"
                }
            ],
            "execution_count": 142
        },
        {
            "cell_type": "code",
            "source": [
                "$database = 'TestingDB'\n",
                "if([String]::IsNullOrEmpty($sqlcred)){\n",
                "    $secStringPassword = ConvertTo-SecureString 'yourStrong(!)Password' -AsPlainText -Force\n",
                "    $sqlcred = New-Object System.Management.Automation.PSCredential ('sa', $secStringPassword)\n",
                "}\n",
                "$mssqlsrv = Connect-DbaInstance -SqlInstance 'localhost:8433' -SqlCredential $sqlcred -Database $database\n",
                "\n",
                "Import-DbaCsv -Path /Users/Tinu/Downloads/Test_MongoDB.csv -SqlInstance $mssqlsrv -Database $database -NullValue \"NULL\" -AutoCreateTable -verbose"
            ],
            "metadata": {
                "azdata_cell_guid": "0f46ff62-f433-4947-bd01-b4e8e190ea61",
                "tags": [
                    "hide_input"
                ]
            },
            "outputs": [
                {
                    "name": "stdout",
                    "text": "VERBOSE: [13:06:00][Import-DbaCsv] Started at 05/27/2021 13:06:00\nVERBOSE: [13:06:00][Import-DbaCsv] Table name not specified, using Test_MongoDB\nVERBOSE: [13:06:00][Import-DbaCsv] Schema not specified, using dbo\nVERBOSE: Performing the operation \"Starting transaction in TestingDB\" on target \"localhost,8433\".\nVERBOSE: [13:06:00][Import-DbaCsv] Table does not exist\nVERBOSE: Performing the operation \"Creating table Test_MongoDB\" on target \"localhost,8433\".\n",
                    "output_type": "stream"
                },
                {
                    "name": "stdout",
                    "text": "VERBOSE: [13:06:00][New-SqlTable] Successfully created table dbo.Test_MongoDB with the following column definitions:\n [ID] varchar(MAX)\n [TimeStamp] varchar(MAX)\n [Testcase] varchar(MAX)\n [HowToTest] varchar(MAX)\n [ExpectetResult] varchar(MAX)\n [ReceivedResult] varchar(MAX)\n [Status] varchar(MAX)\nVERBOSE: [13:06:00][New-SqlTable] This is inefficient but allows the script to import without issues.\nVERBOSE: [13:06:00][New-SqlTable] Consider creating the table first using best practices if the data will be used in production.\nVERBOSE: [13:06:00][Import-DbaCsv] Starting bulk copy for Test_MongoDB.csv\nVERBOSE: Performing the operation \"Performing import from /Users/Tinu/Downloads/Test_MongoDB.csv\" on target \"localhost,8433\".\nVERBOSE: Performing the operation \"Finalizing import\" on target \"localhost,8433\".\nVERBOSE: [13:06:00][Import-DbaCsv] 4 total rows copied\n\nComputerName  : localhost\nInstanceName  : MSSQLSERVER\nSqlInstance   : mssqlsrv1\nDatabase      : TestingDB\nTable         : Test_MongoDB\nSchema        : dbo\nRowsCopied    : 4\nElapsed       : 149.33 ms\nRowsPerSecond : 26.8\nPath          : /Users/Tinu/Downloads/Test_MongoDB.csv\n\nVERBOSE: [13:06:00][Import-DbaCsv] Total Elapsed Time for everything: 0.15 seconds\n\n",
                    "output_type": "stream"
                }
            ],
            "execution_count": 160
        }
    ]
}
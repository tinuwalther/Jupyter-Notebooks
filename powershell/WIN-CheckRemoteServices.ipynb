{
    "metadata": {
        "kernelspec": {
            "name": "powershell",
            "display_name": "PowerShell",
            "language": "powershell"
        },
        "language_info": {
            "name": "powershell",
            "codemirror_mode": "shell",
            "mimetype": "text/x-sh",
            "file_extension": ".ps1"
        }
    },
    "nbformat_minor": 2,
    "nbformat": 4,
    "cells": [
        {
            "cell_type": "markdown",
            "source": [
                "# Get services from remote computer\n",
                "\n",
                "Open an powershell remote session to the computer and run the code inside of the ScriptBlock. Press **Run all** to execute all tests."
            ],
            "metadata": {
                "azdata_cell_guid": "0a5510f7-4218-4378-9ab0-737b01881d85"
            }
        },
        {
            "cell_type": "markdown",
            "source": [
                "### Define the remote computer to connect to. It can be a single computer or a list of computers."
            ],
            "metadata": {
                "azdata_cell_guid": "dba2588e-549f-4c18-93c0-736c22c250e8"
            }
        },
        {
            "cell_type": "code",
            "source": [
                "$remote = 'TINU0034545.domain.com'\r\n",
                "$creds  = $null\r\n",
                "\r\n",
                "# ScriptBlock\r\n",
                "$scriptblock = {\r\n",
                "    param(\r\n",
                "        [Parameter(Mandatory=$false)]\r\n",
                "        [String[]] $params = @('vmtools', 'ccmexec', 'puppet', 'w32time', 'winrm', 'termservice', 'winmgmt', 'wuauserv', 'bits')\r\n",
                "    )\r\n",
                "\r\n",
                "    function Get-ManagedServiceStatus{\r\n",
                "        [CmdletBinding()]\r\n",
                "        param(  \r\n",
                "            [Parameter(Mandatory=$false)]\r\n",
                "            [String[]] $Service\r\n",
                "        )\r\n",
                "        foreach($item in $Service){\r\n",
                "            #$ret = Get-Service -Name $item\r\n",
                "            $ret = Get-CimInstance -ClassName win32_service -Filter \"name='$item'\" -ErrorAction SilentlyContinue\r\n",
                "            [PSCustomObject]@{\r\n",
                "                ComputerName       = [System.Net.Dns]::GetHostByName($env:computername).HostName\r\n",
                "                LastBootupTime     = (Get-CimInstance Win32_OperatingSystem).LastBootupTime\r\n",
                "                TemplateVersion    = Get-ItemPropertyValue HKLM:\\SOFTWARE\\Swisscom\\ImageInfo -Name TemplateVersion\r\n",
                "                ServiceName        = $ret.Name\r\n",
                "                ServiceDisplayName = $ret.DisplayName\r\n",
                "                ServiceStartType   = $ret.StartMode\r\n",
                "                ServiceStatus      = $ret.State\r\n",
                "                ServicePath        = $ret.PathName\r\n",
                "            }\r\n",
                "        }\r\n",
                "    }\r\n",
                "    Get-ManagedServiceStatus -Service $params\r\n",
                "}"
            ],
            "metadata": {
                "azdata_cell_guid": "5d203359-fda2-4682-85af-baeed0c05e98",
                "tags": [
                    "hide_input"
                ]
            },
            "outputs": [],
            "execution_count": null
        },
        {
            "cell_type": "markdown",
            "source": [
                "### Create the object to return from all remote computers\n",
                "\n",
                "The following services will be checked 'vmtools', 'ccmexec', 'puppet', 'w32time', 'winrm', 'termservice', 'winmgmt', 'wuauserv', 'bits'\n",
                "\n",
                "- ComputerName\n",
                "- LastBootupTime\n",
                "- TemplateVersion\n",
                "- ServiceName\n",
                "- ServiceDisplayName\n",
                "- ServiceStartType\n",
                "- ServiceStatus"
            ],
            "metadata": {
                "azdata_cell_guid": "deec4649-8c2a-44c0-9699-38b0960e72c0"
            }
        },
        {
            "cell_type": "markdown",
            "source": [
                "### Invoke PowerShell Remote Script"
            ],
            "metadata": {
                "azdata_cell_guid": "fed69d25-709d-4d84-800f-bf91acb995e0"
            }
        },
        {
            "cell_type": "code",
            "source": [
                "# Invoke PowerShell Remote Script\r\n",
                "\"[INFO] Start $(Get-Date -f 'yyy-MM-dd HH:mm:ss.fff')\"; $StartDate = Get-Date\r\n",
                "if([String]::IsNullOrEmpty($creds)){\r\n",
                "    $creds = Get-Credential  -UserName \"$(($env:USERNAME).ToLower())@swisscom.com\" -Message \"Enter your credentails for remote systems\"\r\n",
                "}\r\n",
                "foreach($item in $remote){\r\n",
                "    $rsession = New-PSSession -ComputerName $item -Credential $creds -ErrorAction Stop\r\n",
                "    if($rsession){\r\n",
                "        $ret = Invoke-Command -Session $rsession -ScriptBlock $scriptblock -ArgumentList $null\r\n",
                "        $ret | Format-Table -GroupBy ComputerName -property @('LastBootupTime','ServiceName','ServiceStatus','ServiceStartType','ServicePath')\r\n",
                "        Remove-PSSession -Session $rsession\r\n",
                "    }\r\n",
                "}\r\n",
                "\"[INFO] Stop $(Get-Date -f 'yyy-MM-dd HH:mm:ss.fff')\"\r\n",
                "$TimeSpan = New-TimeSpan -Start $StartDate -End (Get-Date) | Select -ExpandProperty TotalMilliseconds\r\n",
                "\"[{0:N0}ms] -> finish\" -f $TimeSpan"
            ],
            "metadata": {
                "azdata_cell_guid": "2b32595b-94d0-40f1-9bbf-cd6b60edff84",
                "tags": []
            },
            "outputs": [],
            "execution_count": null
        }
    ]
}
{
    "metadata": {
        "kernelspec": {
            "name": "python3",
            "display_name": "Python 3",
            "language": "python"
        },
        "language_info": {
            "name": "python",
            "version": "3.8.5",
            "mimetype": "text/x-python",
            "codemirror_mode": {
                "name": "ipython",
                "version": 3
            },
            "pygments_lexer": "ipython3",
            "nbconvert_exporter": "python",
            "file_extension": ".py"
        }
    },
    "nbformat_minor": 2,
    "nbformat": 4,
    "cells": [
        {
            "cell_type": "markdown",
            "source": [
                "# Python PowerShell-Remoting\n",
                "\n",
                "Open an powershell remote session with python to the computer and run the code in the scriptblock.\n",
                "\n",
                "Press Run all to execute all tests."
            ],
            "metadata": {
                "azdata_cell_guid": "9cc56bf3-3e58-4514-bb47-52199ca87f72"
            }
        },
        {
            "cell_type": "markdown",
            "source": [
                "### Remote computer to connect to"
            ],
            "metadata": {
                "azdata_cell_guid": "b87c5501-a6ff-4a44-bf49-944a80546ca4"
            }
        },
        {
            "cell_type": "code",
            "source": [
                "computer  = 'TINU0034545.domain.com'"
            ],
            "metadata": {
                "azdata_cell_guid": "5e4ea931-e4f6-443c-8e32-d6863adc514a"
            },
            "outputs": [],
            "execution_count": null
        },
        {
            "cell_type": "markdown",
            "source": [
                "### Scriptblock to execute on the remote computer, this read the following properties:\n",
                "\n",
                "- <span style=\"color: rgb(206, 145, 120);\">ComputerName</span>\n",
                "- <span style=\"color: #ce9178;\">LastBootupTime</span>\n",
                "- <span style=\"color: #ce9178;\">TotalMemoryMB</span>"
            ],
            "metadata": {
                "azdata_cell_guid": "840a5a82-ae13-482f-bc81-ecbf71feda00"
            }
        },
        {
            "cell_type": "code",
            "source": [
                "# Remote ScriptBlock to execute\r\n",
                "\r\n",
                "ps_script = \"\"\"\r\n",
                "function Get-PyInstalledMemory{\r\n",
                "    [CmdletBinding()]\r\n",
                "    param(\r\n",
                "        [Parameter(Mandatory=$false)]\r\n",
                "        [String] $Name\r\n",
                "    )\r\n",
                "    try{\r\n",
                "        $ComputerSystem = Get-WmiObject Win32_ComputerSystem\r\n",
                "        $ComputerName   = [System.Net.Dns]::GetHostByName($env:computername).HostName\r\n",
                "        $LastBootupTime = (Get-CimInstance Win32_OperatingSystem).LastBootupTime\r\n",
                "        $TotalMemoryMB  = [Math]::Round($ComputerSystem.TotalPhysicalMemory/1mb)\r\n",
                "    }catch{\r\n",
                "        $error.clear()        \r\n",
                "    }\r\n",
                "\r\n",
                "    # Return as Json-String for python\r\n",
                "    [PSCustomObject]@{\r\n",
                "        ComputerName   = $ComputerName\r\n",
                "        LastBootupTime = $LastBootupTime\r\n",
                "        TotalMemoryMB  = $TotalMemoryMB\r\n",
                "    } | Convertto-Json\r\n",
                "\r\n",
                "}\r\n",
                "Get-PyInstalledMemory\r\n",
                "\"\"\"\r\n",
                ""
            ],
            "metadata": {
                "azdata_cell_guid": "5ffb295f-9a48-49e3-bdcd-c19c20bcaa83",
                "tags": [
                    "hide_input"
                ]
            },
            "outputs": [],
            "execution_count": null
        },
        {
            "cell_type": "markdown",
            "source": [
                "### Invoke PowerShell Remote Script"
            ],
            "metadata": {
                "azdata_cell_guid": "39896584-3dfd-4125-8212-c2d5154e4ffb"
            }
        },
        {
            "cell_type": "code",
            "source": [
                "# Invoke PowerShell Remote Script\r\n",
                "\r\n",
                "import winrm, getpass, json, datetime\r\n",
                "\r\n",
                "def invoke_remotescript(computer,user,password,ps_script):\r\n",
                "    try:\r\n",
                "        session = winrm.Session(computer, auth=(user, password), transport='ntlm')\r\n",
                "        result  = session.run_ps(ps_script)\r\n",
                "        if result.status_code == 0:\r\n",
                "            return result.std_out.decode('utf-8').replace('\\r\\n','') \r\n",
                "        else:\r\n",
                "            return result.std_err\r\n",
                "\r\n",
                "    except Exception as e:\r\n",
                "        print(e)\r\n",
                "\r\n",
                "user      = 'scis-taawama9@swisscom.com'\r\n",
                "password  = getpass.getpass(prompt='Enter the password for '+str(user), stream=None)\r\n",
                "\r\n",
                "scriptret = invoke_remotescript(computer,user,password,ps_script)\r\n",
                "json_object = json.dumps(scriptret, indent = 4)   \r\n",
                "print(json_object)\r\n",
                ""
            ],
            "metadata": {
                "azdata_cell_guid": "216d4bca-8f1c-4d60-aa53-4a542e107d3c",
                "tags": [
                    "hide_input"
                ]
            },
            "outputs": [],
            "execution_count": null
        }
    ]
}
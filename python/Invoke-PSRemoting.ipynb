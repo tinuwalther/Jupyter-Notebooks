{
    "metadata": {
        "kernelspec": {
            "name": "python3",
            "display_name": "Python 3",
            "language": "python"
        },
        "language_info": {
            "name": "python",
            "version": "3.9.1",
            "mimetype": "text/x-python",
            "codemirror_mode": {
                "name": "ipython",
                "version": 3
            },
            "pygments_lexer": "ipython3",
            "nbconvert_exporter": "python",
            "file_extension": ".py"
        },
        "orig_nbformat": 2
    },
    "nbformat_minor": 2,
    "nbformat": 4,
    "cells": [
        {
            "cell_type": "markdown",
            "source": [
                "# Python WinRM\n",
                "\n",
                "## Install Python WinRM\n",
                "pip install pywinrm"
            ],
            "metadata": {
                "azdata_cell_guid": "49e07b58-8574-4e2c-abad-bdc566592963"
            }
        },
        {
            "cell_type": "markdown",
            "source": [
                "## Creating a PowerShell Remoting Session with a local administrator"
            ],
            "metadata": {
                "azdata_cell_guid": "a2112457-775e-4761-b431-e0de609f53aa"
            }
        },
        {
            "cell_type": "code",
            "source": [
                "import winrm\n",
                "import getpass\n",
                "\n",
                "computer = input(\"Enter the computer to connect\")\n",
                "user     = input(\"Enter your user name\")\n",
                "password = getpass.getpass(prompt='Enter the password for '+str(user), stream=None)\n",
                "\n",
                "try:\n",
                "    session  = winrm.Session(computer, auth=('{}\\{}'.format(computer,user), password), transport='ntlm')\n",
                "    result = session.run_ps(\"$env:computername\")\n",
                "    print(\"Status Code: \" + str(result.status_code))\n",
                "    print(result.std_out)\n",
                "\n",
                "except Exception as e:\n",
                "        print(e)"
            ],
            "metadata": {
                "tags": [
                    "hide_input"
                ],
                "azdata_cell_guid": "d32142ab-447e-4183-b2ed-4dfe378a9d61"
            },
            "outputs": [],
            "execution_count": null
        },
        {
            "cell_type": "markdown",
            "source": [
                "## Creating a PowerShell Remoting Session with a domain user"
            ],
            "metadata": {
                "azdata_cell_guid": "bce4f68e-fe99-4b14-bdd3-0d483972920a"
            }
        },
        {
            "cell_type": "code",
            "source": [
                "import winrm\n",
                "import getpass\n",
                "\n",
                "computer = input(\"Enter the computer to connect\")\n",
                "user     = input(\"Enter the userprincipalname (user@domain.net)\")\n",
                "password = getpass.getpass(prompt='Enter the password for '+str(user), stream=None)\n",
                "\n",
                "try:\n",
                "    session  = winrm.Session(computer, auth=(user, password), transport='kerberos')\n",
                "    result = session.run_ps(\"$env:computername\")\n",
                "    print(\"Status Code: \" + str(result.status_code))\n",
                "    print(result.std_out)\n",
                "\n",
                "except Exception as e:\n",
                "    print(e)"
            ],
            "metadata": {
                "azdata_cell_guid": "f8007ada-7208-4a76-8271-79e54b453c44",
                "tags": [
                    "hide_input"
                ]
            },
            "outputs": [],
            "execution_count": null
        },
        {
            "cell_type": "markdown",
            "source": [
                "## Run a PowerShell-Script in a PowerShell Remoting Session"
            ],
            "metadata": {
                "azdata_cell_guid": "e22f12f4-ad2d-44d1-8eda-e3c6a908644a"
            }
        },
        {
            "cell_type": "code",
            "source": [
                "import winrm\n",
                "import getpass\n",
                "import json\n",
                "\n",
                "def invoke_remotescript(computer,user,password,ps_script):\n",
                "    try:\n",
                "        session = winrm.Session(computer, auth=('{}\\{}'.format(computer,user), password), transport='ntlm')\n",
                "        result  = session.run_ps(ps_script)\n",
                "        if result.status_code == 0:\n",
                "            return { \"StatusCode\": result.status_code, \"Output\": result.std_out.decode().replace('\\r\\n','') }\n",
                "        else:\n",
                "            return { \"StatusCode\": result.status_code, \"Error\": result.std_err }\n",
                "\n",
                "    except Exception as e:\n",
                "        print(e)\n",
                "\n",
                "ps_script = \"\"\"\n",
                "function Get-PyInstalledMemory{\n",
                "    [CmdletBinding()]\n",
                "    param(\n",
                "        [Parameter(Mandatory=$false)]\n",
                "        [String] $Name\n",
                "    )\n",
                "    $ComputerSystem = Get-WmiObject Win32_ComputerSystem\n",
                "    $TotalMemoryMB  = [Math]::Round($ComputerSystem.TotalPhysicalMemory/1mb)\n",
                "    return \"Total Memory $($TotalMemoryMB) MB\"\n",
                "}\n",
                "Get-PyInstalledMemory\n",
                "\"\"\"\n",
                "\n",
                "computer  = input(\"Enter the computer to connect\")\n",
                "user      = input(\"Enter your user name\")\n",
                "password  = getpass.getpass(prompt='Enter the password for '+str(user), stream=None)\n",
                "\n",
                "scriptret = invoke_remotescript(computer,user,password,ps_script)\n",
                "json_object = json.dumps(scriptret, indent = 4)   \n",
                "print(json_object)"
            ],
            "metadata": {
                "azdata_cell_guid": "e8c25aec-5855-447c-835e-f54b83166845",
                "tags": [
                    "hide_input"
                ]
            },
            "outputs": [],
            "execution_count": null
        }
    ]
}
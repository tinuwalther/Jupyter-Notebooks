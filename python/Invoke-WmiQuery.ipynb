{
    "metadata": {
        "kernelspec": {
            "name": "python3",
            "display_name": "Python 3",
            "language": "python"
        },
        "language_info": {
            "name": "python",
            "version": "3.9.1",
            "mimetype": "text/x-python",
            "codemirror_mode": {
                "name": "ipython",
                "version": 3
            },
            "pygments_lexer": "ipython3",
            "nbconvert_exporter": "python",
            "file_extension": ".py"
        },
        "orig_nbformat": 2
    },
    "nbformat_minor": 2,
    "nbformat": 4,
    "cells": [
        {
            "cell_type": "markdown",
            "source": [
                "# Managing Windows System with WMI And Python\n",
                "\n",
                "[Managing Windows System Administration With WMI And Python](https://blog.ipswitch.com/managing-windows-system-administration-with-wmi-and-python)"
            ],
            "metadata": {
                "azdata_cell_guid": "ddfd6b7d-4d58-4495-8bec-1f54c91ee331"
            }
        },
        {
            "cell_type": "markdown",
            "source": [
                "## Install the WMI Provider for python\n",
                "\n",
                "python.exe -m pip install wmi"
            ],
            "metadata": {
                "azdata_cell_guid": "3944a193-0e51-4708-a58e-7240fc564ed3"
            }
        },
        {
            "cell_type": "markdown",
            "source": [
                "## Connect to local machine"
            ],
            "metadata": {
                "azdata_cell_guid": "41e05209-8678-4712-a8ef-e5690e0837eb"
            }
        },
        {
            "cell_type": "markdown",
            "source": [
                "### List CIM classes"
            ],
            "metadata": {
                "azdata_cell_guid": "41fa7f4f-5d46-4c73-a095-9621637a3002"
            }
        },
        {
            "cell_type": "code",
            "source": [
                "import wmi\n",
                "conn = wmi.WMI()\n",
                "for class_name in conn.classes:\n",
                "    if 'CIM_' in class_name:\n",
                "        print(class_name)"
            ],
            "metadata": {
                "azdata_cell_guid": "52e1321a-1731-4591-a332-598c7698b75d"
            },
            "outputs": [],
            "execution_count": null
        },
        {
            "cell_type": "markdown",
            "source": [
                "### Finding Methods of WMI Class"
            ],
            "metadata": {
                "azdata_cell_guid": "51ed4164-2aad-4472-b83f-889e77dc10d8"
            }
        },
        {
            "cell_type": "code",
            "source": [
                "import wmi\n",
                "for item in wmi.WMI().Win32_Service.methods.keys():\n",
                "    print(item)"
            ],
            "metadata": {
                "azdata_cell_guid": "594fe433-bc11-4ab2-82a7-d096e35c2fa3"
            },
            "outputs": [],
            "execution_count": null
        },
        {
            "cell_type": "markdown",
            "source": [
                "### Finding Properties of WMI Class"
            ],
            "metadata": {
                "azdata_cell_guid": "34a1bc8c-9723-4302-8cdb-08627de70bde"
            }
        },
        {
            "cell_type": "code",
            "source": [
                "# prints all methods\n",
                "import wmi\n",
                "for item in wmi.WMI().Win32_Service.properties.keys():\n",
                "    print(item)"
            ],
            "metadata": {
                "azdata_cell_guid": "1f2a0e9a-dac3-4af0-934f-e95da304739d"
            },
            "outputs": [],
            "execution_count": null
        },
        {
            "cell_type": "markdown",
            "source": [
                "### List Services"
            ],
            "metadata": {
                "azdata_cell_guid": "aba6aa62-010f-4783-8560-377bcf521f72"
            }
        },
        {
            "cell_type": "code",
            "source": [
                "import wmi\n",
                "conn = wmi.WMI()\n",
                "for class_name in conn.classes:\n",
                "    if '_Service' in class_name:\n",
                "        print(class_name)"
            ],
            "metadata": {
                "azdata_cell_guid": "9695207b-0438-41f7-bb66-26c0492aa362"
            },
            "outputs": [],
            "execution_count": null
        },
        {
            "cell_type": "markdown",
            "source": [
                "### List properties of a service"
            ],
            "metadata": {
                "azdata_cell_guid": "69e4b1fd-d89c-4e1a-948f-eb73d262fc5f"
            }
        },
        {
            "cell_type": "code",
            "source": [
                "import wmi\n",
                "conn = wmi.WMI()\n",
                "for service in conn.Win32_Service(Name=\"wuauserv\"):\n",
                "    print(service.DisplayName)"
            ],
            "metadata": {
                "azdata_cell_guid": "f8373ec0-df7e-4dca-be3b-fda16bb87ed8"
            },
            "outputs": [],
            "execution_count": null
        },
        {
            "cell_type": "markdown",
            "source": [
                "### List all services which have started and which contain update in their name"
            ],
            "metadata": {
                "azdata_cell_guid": "1afcbdf9-9793-4192-aa2c-e249eeabed8d"
            }
        },
        {
            "cell_type": "code",
            "source": [
                "import wmi\n",
                "conn = wmi.WMI()\n",
                "for item in conn.Win32_Service(StartMode=\"Auto\", State=\"Running\"):\n",
                "    if 'Update' in item.Name:\n",
                "        print(item.State, item.StartMode, item.Name, item.DisplayName, item.PathName)"
            ],
            "metadata": {
                "azdata_cell_guid": "e996d0f5-6a7c-4f3b-8544-e7e5d7d4aff0"
            },
            "outputs": [],
            "execution_count": null
        },
        {
            "cell_type": "markdown",
            "source": [
                "## Use a WMI Query"
            ],
            "metadata": {
                "azdata_cell_guid": "6407f05c-096d-4a49-8d6a-6f3c5ba367be"
            }
        },
        {
            "cell_type": "code",
            "source": [
                "import wmi\n",
                "conn = wmi.WMI()\n",
                "wql  = 'SELECT Name,DisplayName,State,StartMode,StartName,PathName FROM Win32_Service WHERE Name = \"wuauserv\"'\n",
                "for service in conn.query(wql):\n",
                "    print(service)"
            ],
            "metadata": {
                "azdata_cell_guid": "72b66a66-4a3a-42f4-bc3c-a65cd78f3467"
            },
            "outputs": [],
            "execution_count": null
        },
        {
            "cell_type": "markdown",
            "source": [
                "## Connect to an remote machine"
            ],
            "metadata": {
                "azdata_cell_guid": "ecee7950-0975-4910-be99-1af551c07258"
            }
        },
        {
            "cell_type": "code",
            "source": [
                "import wmi\n",
                "import getpass\n",
                "username = getpass.getuser()\n",
                "password = getpass.getpass(prompt='Enter the password for '+str(user), stream=None)\n",
                "conn = wmi.WMI(\"13.76.128.231\", user=r'username', password=password)"
            ],
            "metadata": {
                "azdata_cell_guid": "c17a248e-52ec-4984-a9b9-7b7d0216d6df"
            },
            "outputs": [],
            "execution_count": null
        },
        {
            "cell_type": "markdown",
            "source": [
                "## Query for a class"
            ],
            "metadata": {
                "azdata_cell_guid": "b913a1e9-f234-4ca9-9973-1d69850db619"
            }
        },
        {
            "cell_type": "code",
            "source": [
                "import wmi\n",
                "conn = wmi.WMI()\n",
                "for os in conn.Win32_OperatingSystem():\n",
                "  print(os.Caption)"
            ],
            "metadata": {
                "azdata_cell_guid": "3975abff-c376-4dc6-839d-7458ffd584d9"
            },
            "outputs": [],
            "execution_count": null
        }
    ]
}
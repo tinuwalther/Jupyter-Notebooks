{
    "metadata": {
        "kernelspec": {
            "name": "python3",
            "display_name": "Python 3",
            "language": "python"
        },
        "language_info": {
            "name": "python",
            "version": "3.9.1",
            "mimetype": "text/x-python",
            "codemirror_mode": {
                "name": "ipython",
                "version": 3
            },
            "pygments_lexer": "ipython3",
            "nbconvert_exporter": "python",
            "file_extension": ".py"
        }
    },
    "nbformat_minor": 2,
    "nbformat": 4,
    "cells": [
        {
            "cell_type": "markdown",
            "source": [
                "# Python Website Reader\n",
                "\n",
                "Mit diesem Notebook werden die folgenden Websites besucht und die News in Markdown angezeigt und können auch als Markdown-file abgespeichert werden.\n",
                "\n",
                "Der Pfad und der Filename kann in der aufrufenden Function savefile('D:\\\\temp', 'srf.md', stream) angepasst werden. Aktuell ist die Function auskommentiert."
            ],
            "metadata": {
                "azdata_cell_guid": "ce9586c1-c828-49bd-a572-7bc6d33b3169"
            }
        },
        {
            "cell_type": "markdown",
            "source": [
                "<mark>**Bitte zuerst die class colors ausführen, damit die Farben für den Output geladen sind.**</mark>"
            ],
            "metadata": {
                "azdata_cell_guid": "4446ecb2-d37f-401f-90e9-74ca2be99268"
            }
        },
        {
            "cell_type": "code",
            "source": [
                "class colors: \n",
                "    '''Colors class:reset all colors with colors.reset'''\n",
                "\n",
                "    reset         = '\\033[0m'\n",
                "    bold          = '\\033[01m'\n",
                "    disable       = '\\033[02m'\n",
                "    underline     = '\\033[04m'\n",
                "    reverse       = '\\033[07m'\n",
                "    strikethrough = '\\033[09m'\n",
                "    invisible     = '\\033[08m'\n",
                "\n",
                "    class fg: \n",
                "        ''' Define the foreground-colors\n",
                "        use as colors.fg.colorname\n",
                "        '''\n",
                "        black      = '\\033[30m'\n",
                "        red        = '\\033[31m'\n",
                "        green      = '\\033[32m'\n",
                "        orange     = '\\033[33m'\n",
                "        blue       = '\\033[34m'\n",
                "        purple     = '\\033[35m'\n",
                "        cyan       = '\\033[36m'\n",
                "        lightgrey  = '\\033[37m'\n",
                "        darkgrey   = '\\033[90m'\n",
                "        lightred   = '\\033[91m'\n",
                "        lightgreen = '\\033[92m'\n",
                "        yellow     = '\\033[93m'\n",
                "        lightblue  = '\\033[94m'\n",
                "        pink       = '\\033[95m'\n",
                "        lightcyan  = '\\033[96m'\n",
                "\n",
                "    class bg: \n",
                "        ''' Define the background-colors\n",
                "        use as colors.bg.colorname\n",
                "        '''\n",
                "        black     = '\\033[40m'\n",
                "        red       = '\\033[41m'\n",
                "        green     = '\\033[42m'\n",
                "        orange    = '\\033[43m'\n",
                "        blue      = '\\033[44m'\n",
                "        purple    = '\\033[45m'\n",
                "        cyan      = '\\033[46m'\n",
                "        lightgrey = '\\033[47m'\n"
            ],
            "metadata": {
                "azdata_cell_guid": "4255a503-7896-4ffc-9c60-cf4a2a49c24b",
                "tags": [
                    "hide_input"
                ]
            },
            "outputs": [],
            "execution_count": 1
        },
        {
            "cell_type": "markdown",
            "source": [
                "## SRF News\n",
                "Code mit <mark> Run Cell </mark> ausführen um die SRF News anzuzeigen."
            ],
            "metadata": {
                "azdata_cell_guid": "b2c9c1e2-2a47-4369-a228-aaba4dc00b63"
            }
        },
        {
            "cell_type": "code",
            "source": [
                "news = ['https://www.srf.ch/news/neuste-beitraege']\n",
                "\n",
                "def newsreader(url, links=True, images=True, emphasis=True):\n",
                "    '''Reads the given url and print a markdown'''\n",
                "    import requests, html2text, re\n",
                "    from datetime import datetime\n",
                "    now = datetime.now()\n",
                "\n",
                "    response = requests.get(url)\n",
                "    if(response.status_code == 200):\n",
                "\n",
                "        print(colors.bold + colors.fg.blue +'{1}{0}{4} {2}{0}{3}{0}'.format('\\n', '>' * 100, f'NEWS FROM: {site}', '<' * 100, now.strftime(\"%Y-%m-%d %H:%M:%S\")) + colors.reset)\n",
                "\n",
                "        html = response.content.decode('utf-8')\n",
                "\n",
                "        md = html2text.HTML2Text()\n",
                "        md.ignore_links    = not links\n",
                "        md.ignore_images   = not images\n",
                "        md.ignore_emphasis = not emphasis\n",
                "        md.body_width      = 100\n",
                "        \n",
                "        data  = md.handle(html)\n",
                "\n",
                "        #read from '## Inhalt'\n",
                "        start = data.find('###  Neueste Beiträge')\n",
                "        end   = data.find('## Footer')\n",
                "        stream = [(data[start:end])]\n",
                "        #print(data)\n",
                "\n",
                "        for i in stream:\n",
                "            if(i is not None):\n",
                "                line = i.replace('Mit Video\\n\\n','').replace('Mit Audio\\n\\n','')\n",
                "                if str.startswith(line, '*'):\n",
                "                    print('{0}{1}{2}'.format(colors.fg.lightred, line, colors.reset))\n",
                "                else:\n",
                "                    print('{0}{1}{2}'.format(colors.fg.green, line, colors.reset))\n",
                "\n",
                "\n",
                "        return stream\n",
                "\n",
                "def savefile(filepath, filename, stream):\n",
                "    '''Save the stream to the file'''\n",
                "    import os\n",
                "\n",
                "    if not os.path.exists(filepath):\n",
                "        os.makedirs(filepath)\n",
                "\n",
                "    file = open(filepath + '\\\\' + filename, 'w')\n",
                "    for i in stream:\n",
                "        file.write(i)\n",
                "\n",
                "    file.close()\n",
                "\n",
                "for site in news:\n",
                "    stream = newsreader(site, False, False)\n",
                "    #savefile('D:\\\\temp', 'srf.md', stream)\n",
                ""
            ],
            "metadata": {
                "azdata_cell_guid": "a5ab20f1-383d-4972-8cb7-eda2eb57ae2d",
                "tags": [
                    "hide_input"
                ]
            },
            "outputs": [
                {
                    "output_type": "stream",
                    "name": "stdout",
                    "text": "\u001b[01m\u001b[34m>>>>>>>>>>>>>>>>>>>>>>>>>>>>>>>>>>>>>>>>>>>>>>>>>>>>>>>>>>>>>>>>>>>>>>>>>>>>>>>>>>>>>>>>>>>>>>>>>>>>\n2021-03-25 11:00:22 NEWS FROM: https://www.srf.ch/news/neuste-beitraege\n<<<<<<<<<<<<<<<<<<<<<<<<<<<<<<<<<<<<<<<<<<<<<<<<<<<<<<<<<<<<<<<<<<<<<<<<<<<<<<<<<<<<<<<<<<<<<<<<<<<<\n\u001b[0m\n\u001b[32m###  Neueste Beiträge\n\n  * Reaktion auf Liestal-Demo\n\n#NoLiestal: Tausende protestieren online gegen Corona-Demos\n\nAls Reaktion auf die Demonstration in Liestal rufen Massnahmen-Befürworterinnen und -Befürworter zum\nOnline-Protest auf.\n\n  * Klage zum Teil gutgeheissen\n\nZürcher Straftäter «Carlos» erhält keine Entschädigung\n\nDie Haftbedingungen von Brian alias «Carlos» waren teils persönlichkeitsverletzend, urteilt das\nZürcher Bezirksgericht.\n\n  * Ferien in der Coronakrise\n\nKönnen wir mit dem Impfzertifikat in die Sommerferien, Frau Lévy?\n\nBAG-Direktorin Anne Lévy ist zuversichtlich, dass bis im Sommer ein Impfzertifikat für die Schweiz\nda sein wird.\n\n  * Fragen rund ums Sackgeld\n\n«Taschengeld zur Bestrafung zu streichen, ist nicht sinnvoll»\n\nDen Umgang mit Geld können schon Erstklässler üben. Wichtig ist, dass sie frei über ihr Sackgeld\nverfügen können.\n\n  * Provokation der USA\n\nNordkorea schiesst zwei Raketen in Richtung Japan\n\nMit dem Raktetentest verstösst Machthaber Kim Jong-un einmal mehr gegen UNO-Resolutionen.\n\n  * Impfstreit in der EU\n\nSebastian Kurz sucht den Applaus nicht in Brüssel\n\nÖsterreichs Kanzler kritisiert die Impfstoff-Verteilung der EU. Sein Blick richtet sich dabei in das\neigene Land.\n\n  * Zusammenarbeit mit SIG\n\nFür Antisemitismus soll in der Armee kein Platz sein\n\nDie Schweizer Armee und der Schweizerische Israelitische Gemeindebund wollen Diskriminierung\ngemeinsam vorbeugen.\n\n  * Weg aus dem Newsroom\n\nDie BBC zieht in die britische Provinz\n\nDie BBC soll näher an die Menschen rücken: Hunderte Journalistinnen und Journalisten verlassen die\nLondoner Blase.\n\n  * Gewalt gegen LGBTIQ\n\nErstmals sollen Homosexuelle in Italien explizit geschützt werden\n\nEin Video mit Gewaltszenen sorgt für Aufruhr. Es könnte einem Anti-Diskriminierungs-Gesetz neuen\nSchub verleihen.\n\n  * Seit sechs Jahren Krieg\n\nMehrheit der Menschen im Jemen hat kein Geld für Essen\n\nSechs Jahre nach Beginn des Bürgerkriegs im Jemen verschärft sich die Situation weiter. Auch\nCovid-19 wird zum Problem.\n\n  * Verschärfte Exportkontrollen\n\nDie EU sagt dem Impfnationalismus den Kampf an\n\nMusterknabe Schweiz, Sorgenkind Grossbritannien: Brüssel zieht in der Impfdiplomatie härtere Saiten\nauf.\n\n  * Schweiz-Algerien\n\nKeller-Sutter strebt praktische Lösungen für Rückführungen an\n\nJustizministerin Karin Keller-Sutter hat bei ihrem Besuch in Algerien eine Verbesserung der\nRückführungen diskutiert.\n\n  * SVP droht mit Referendum\n\nZürich will Einbürgerungsgebühren für unter 25-Jährige abschaffen\n\nDer Gebührenerlass ist eine von mehreren Massnahmen der Stadt Zürich, damit die Hürde für\nEinbürgerungen tiefer ist.\n\n  * Wie kommt man zu gesundem Fast Food?\n\nFertigprodukte bieten gerade jetzt für viele eine schnelle Lösung. Ein Label soll Orientierung\nbieten.\n\n  * Bedeutender Seeweg\n\nSuezkanal: Eine Arterie des Welthandels ist blockiert\n\nDie Blockade des Suezkanals verdeutlicht wieder einmal, wie wichtig dieser Kanal eigentlich ist.\n\n  * Scherbenhaufen Impfplattform\n\nDie Schweiz hat ein Digitalisierungs-Problem\n\nWieso tut sich die Schweiz so schwer mit der Digitalisierung? Denn das Debakel um den Impfpass ist\nnur eines von vielen.\n\nAnalyse von Guido Berger\n\nLeiter Digitalredaktion, SRF\n\n  * Mit dem Bischof im Kraftraum\n\n«Auch Jesus hatte Muskeln»\n\nDer neue Bischof von Chur ist ein Kraftsportler. Ein Besuch im privaten Fitnessraum bei Joseph\nBonnemain.\n\n  * Digitec-Gründer zu IT-Desaster\n\nKann der Bund digital nicht, Herr Dobler?\n\nGrundrechte einschränken, aber keine Gesetzesgrundlage für eine Impfapp? Nationalrat Marcel Dobler\nkritisiert den Bund.\n\n  * Gartenboom wegen Corona\n\nApfelbäume und Beerensträucher werden knapp\n\nCorona hat viele Hobby-Gärtner hervorgebracht, diese stürmen nun die Gärtnereien. Doch langsam geht\ndie Ware aus.\n\n  * Covid-19 bei Kindern\n\n«Für steigende Zahlen bei Kindern gibt es mehrere Gründe»\n\nDie Fallzahlen steigen bei Kindern an. Woran das liegen könnte, erklärt die SRF-\nWissenschaftsjournalistin Katrin Zöfel.\n\n  * Zoo Zürich\n\nStaatsanwaltschaft: Tödlicher Tiger-Angriff war selbstverschuldet\n\nIm Sommer 2020 hatte ein Tiger eine Tierpflegerin tödlich verletzt. Das Verfahren ist nun\neingestellt worden.\n\n  * Kehrtwende von Merkel\n\nOsterpanik in Berlin\n\nBundeskanzlerin Merkel gesteht Fehler ein und kippt die «Osterruhe». Das habe Grösse, so der\nDeutschlandkorrespondent.\n\nAnalyse von Peter Voegeli\n\nDeutschland-Korrespondent, SRF\n\n  * Impf-Debatte\n\nBAG: Bis im Sommer gibt es ein Impfzertifikat\n\nDas BAG weist die Verantwortung beim Datenleck bei meineimpfung.ch zurück. Ein Drittel der\nRisikopersonen ist geimpft.\n\n  * Wichtiges Corona-Urteil\n\nLuzerner Corona-Betrüger muss ins Gefängnis\n\nEin Unternehmer hat 110'000 Franken unrechtmässig bezogen und muss nun ins Gefängnis. Das Urteil hat\nSignalwirkung.\n\n  * Berufungsprozess in Paris\n\nSteuerbetrug: Punktsieg für die UBS – Milliardenbusse schrumpft\n\nAm Tatbestand des Steuerbetrugs in Frankreich ändert sich nichts, aber die Milliardenbusse wird\nreduziert..\n\n  * Aktuelle Risikoliste des BAG\n\nQuarantänepflicht gilt bald auch für Griechenland\n\nKeine Osterferien in Griechenland ohne Quarantäne. Die Quarantänepflicht für Reisende aus den USA\nwurde aufgehoben.\n\n  * Sexualisierte Gewalt:\n\n«Ich wünschte, ich wäre nie zur Polizei gegangen.»\n\nAndrea sagt, sie sei vergewaltigt worden. Sie meldet sich bei der Polizei. Heute bereut sie diesen\nSchritt.\n\n  * Fifa-Ethikkommission\n\nMillionenbusse und weitere Sperren für Sepp Blatter\n\nBlatter ist von der Fifa für mehr als sechs Jahre für nationale und internationale Fussball-\nTätigkeiten gesperrt worden.\n\n  * Deutscher Oster-Lockdown\n\nMerkel kippt Osterruhe: «Bitte um Verzeihung»\n\nNach massiver Kritik hat die Bundeskanzlerin die geplante Corona-Osterruhe gekippt: «Die Idee war\nein Fehler.»\n\n  * Abstimmungen im Juni\n\nNaturschutzorganisationen unterstützen beide Umwelt-Initiativen\n\nDas Volk solle Trinkwasser- und Pestizid-Initiative annehmen, so WWF und Co. Weiter wie bisher sei\nkeine Option.\n\n\u001b[0m\n"
                }
            ],
            "execution_count": 8
        },
        {
            "cell_type": "markdown",
            "source": [
                "## BAG Covid-⁠19 Schweiz\r\n",
                "Code mit <mark> Run Cell </mark> ausführen um die aktuellen Covidzahlen vom BAG anzuzeigen."
            ],
            "metadata": {
                "azdata_cell_guid": "10dcd19c-1c38-410d-8c9e-ceb20ba108a6"
            }
        },
        {
            "cell_type": "code",
            "source": [
                "news = ['https://www.covid19.admin.ch/de/overview']\r\n",
                "\r\n",
                "def newsreader(url, links=True, images=True, emphasis=True):\r\n",
                "    '''Reads the given url and print a markdown'''\r\n",
                "    import requests, html2text, re\r\n",
                "    from datetime import datetime\r\n",
                "    now = datetime.now()\r\n",
                "\r\n",
                "    response = requests.get(url)\r\n",
                "    if(response.status_code == 200):\r\n",
                "\r\n",
                "        print(colors.bold + colors.fg.blue +'{1}{0}{4} {2}{0}{3}{0}'.format('\\n', '>' * 100, f'NEWS FROM: {site}', '<' * 100, now.strftime(\"%Y-%m-%d %H:%M:%S\")) + colors.reset)\r\n",
                "\r\n",
                "        html = response.content.decode('utf-8')\r\n",
                "\r\n",
                "        md = html2text.HTML2Text()\r\n",
                "        md.ignore_links    = not links\r\n",
                "        md.ignore_images   = not images\r\n",
                "        md.ignore_emphasis = not emphasis\r\n",
                "        md.body_width      = 100\r\n",
                "        \r\n",
                "        data  = md.handle(html)\r\n",
                "        #print(data)\r\n",
                "\r\n",
                "        #read from '## Inhalt'\r\n",
                "        start = data.find('### Laborbestätigte Fälle')\r\n",
                "        end   = data.find('### Tests und Anteil positive Tests')\r\n",
                "        stream = [(data[start:end])]\r\n",
                "\r\n",
                "        for i in stream:\r\n",
                "            if(i is not None):\r\n",
                "\r\n",
                "                line = i.replace('Detailinformationen\\n\\n','')\r\n",
                "                line = line.replace('7-⁠Tage-⁠Schnitt\\n\\n','')\r\n",
                "                line = line.replace('Beschreibungen einblenden\\n\\n','')\r\n",
                "                line = line.replace('Neu gemeldet\\n\\n','')\r\n",
                "                line = line.replace('\\nFälle\\n','')\r\n",
                "\r\n",
                "                print('{0}{1}{2}'.format(colors.fg.green, line, colors.reset))\r\n",
                "\r\n",
                "        return stream\r\n",
                "\r\n",
                "def savefile(filepath, filename, stream):\r\n",
                "    '''Save the stream to the file'''\r\n",
                "    import os\r\n",
                "\r\n",
                "    if not os.path.exists(filepath):\r\n",
                "        os.makedirs(filepath)\r\n",
                "\r\n",
                "    file = open(filepath + '\\\\' + filename, 'w')\r\n",
                "    for i in stream:\r\n",
                "        file.write(i)\r\n",
                "\r\n",
                "    file.close()\r\n",
                "\r\n",
                "for site in news:\r\n",
                "    stream = newsreader(site, False, False)\r\n",
                "    #savefile('D:\\\\temp', 'srf.md', stream)\r\n",
                ""
            ],
            "metadata": {
                "azdata_cell_guid": "07c27c54-14b9-4c87-9061-a4e219201f68",
                "tags": [
                    "hide_input"
                ]
            },
            "outputs": [
                {
                    "name": "stdout",
                    "text": "\u001b[01m\u001b[34m>>>>>>>>>>>>>>>>>>>>>>>>>>>>>>>>>>>>>>>>>>>>>>>>>>>>>>>>>>>>>>>>>>>>>>>>>>>>>>>>>>>>>>>>>>>>>>>>>>>>\n2021-03-25 16:37:07 NEWS FROM: https://www.covid19.admin.ch/de/overview\n<<<<<<<<<<<<<<<<<<<<<<<<<<<<<<<<<<<<<<<<<<<<<<<<<<<<<<<<<<<<<<<<<<<<<<<<<<<<<<<<<<<<<<<<<<<<<<<<<<<<\n\u001b[0m\n\u001b[32m### Laborbestätigte Fälle\n\nQuelle: BAG – Stand: 25.03.2021, 07.53h\n\nDifferenz zum Vortag| 2046  \n---|---  \nTotal seit 11.03.2021| 20 392  \nPro 100 000 Einwohner/innen| 235,89  \n  \n### Laborbestätigte Hospitalisationen\n\nQuelle: BAG – Stand: 25.03.2021, 07.53h\n\nDie Zahlen zu den Hospitalisationen sind aufgrund von Meldelücken und Meldeverzug mit Vorsicht zu\ninterpretieren.\n\nDifferenz zum Vortag| 74  \n---|---  \nTotal seit 11.03.2021| 583  \nPro 100 000 Einwohner/innen| 6,74  \n  \n### Laborbestätigte Todesfälle\n\nQuelle: BAG – Stand: 25.03.2021, 07.53h\n\nDie Zahlen zu den Todesfällen haben wir per heute angepasst. Sie wurden mit Nach-⁠, Falsch- oder\nDoppelmeldungen aus dem Zeitraum September 2020 bis Februar 2021 ergänzt. Aus diesem Grund sind\nunter «Differenz zum Vortag» zusätzlich 58 Todesfälle aufgeführt.\n\nDifferenz zum Vortag| 69  \n---|---  \nTotal seit 11.03.2021| 111  \nPro 100 000 Einwohner/innen| 1,28  \n  \n\u001b[0m\n",
                    "output_type": "stream"
                }
            ],
            "execution_count": 3
        },
        {
            "cell_type": "markdown",
            "source": [
                "### MongoDB\n",
                "\n",
                "Code mit <mark>Run Cell</mark> ausführen um die Daten in die MongoDB abzuspeichern."
            ],
            "metadata": {
                "azdata_cell_guid": "63d17f4a-3e21-427c-8ca0-0964a0168c64"
            }
        },
        {
            "cell_type": "code",
            "source": [
                "news = 'https://www.covid19.admin.ch/de/overview'\r\n",
                "\r\n",
                "def get_htmldata(url, search_from, search_to, links=True, images=True, emphasis=True):\r\n",
                "    import requests, html2text, re\r\n",
                "    response = requests.get(url)\r\n",
                "    if(response.status_code == 200):\r\n",
                "        html = response.content.decode('utf-8')\r\n",
                "        md = html2text.HTML2Text()\r\n",
                "        md.ignore_links    = not links\r\n",
                "        md.ignore_images   = not images\r\n",
                "        md.ignore_emphasis = not emphasis\r\n",
                "        md.body_width      = 100\r\n",
                "        data  = md.handle(html)\r\n",
                "\r\n",
                "        start  = data.find(search_from)\r\n",
                "        end    = data.find(search_to)\r\n",
                "        stream = [(data[start:end])]\r\n",
                "\r\n",
                "    return stream\r\n",
                "\r\n",
                "\r\n",
                "def add_document(connectionstring, mongodatabase, collection, document):\r\n",
                "    '''Connect to MongoDB and add a document'''\r\n",
                "    import pymongo, dns\r\n",
                "    mongo_client = pymongo.MongoClient(connectionstring)\r\n",
                "    mongo_db     = mongo_client[mongodatabase]\r\n",
                "    mongo_col    = mongo_db[collection]\r\n",
                "    mongo_col.insert_one(document)\r\n",
                "    mongo_client.close()\r\n",
                "\r\n",
                "\r\n",
                "#process\r\n",
                "import re\r\n",
                "import pandas as pd\r\n",
                "\r\n",
                "credentials = input('user:password')\r\n",
                "connectionstring = \"mongodb+srv://\"+credentials+\"@cluster0.epl3x.mongodb.net/?retryWrites=true&w=majority\"\r\n",
                "\r\n",
                "list_html = get_htmldata(news, '### Laborbestätigte Fälle', '### Laborbestätigte Hospitalisationen')\r\n",
                "for line in list_html:\r\n",
                "    if(line is not None):\r\n",
                "        Datum = (re.findall('\\w+\\:\\s\\d{2}\\.\\d{2}\\.\\d{4}',line)[0]).replace('Stand: ','')\r\n",
                "        Fälle = (re.findall('[A-Z][a-z]+\\|\\s\\d{2,}',line)[0]).replace('Vortag| ','')\r\n",
                "        break\r\n",
                "\r\n",
                "list_html = get_htmldata(news, '### Laborbestätigte Hospitalisationen', '### Laborbestätigte Todesfälle')\r\n",
                "for line in list_html:\r\n",
                "    if(line is not None):\r\n",
                "        Hospitalisationen = (re.findall('[A-Z][a-z]+\\|\\s\\d{2,}',line)[0]).replace('Vortag| ','')\r\n",
                "        break\r\n",
                "\r\n",
                "list_html = get_htmldata(news, '### Laborbestätigte Todesfälle','### Tests und Anteil positive Tests')\r\n",
                "for line in list_html:\r\n",
                "    if(line is not None):\r\n",
                "        Todesfälle = (re.findall('[A-Z][a-z]+\\|\\s\\d{2,}',line)[0]).replace('Vortag| ','')\r\n",
                "        break\r\n",
                "\r\n",
                "mongodb_doc = {\r\n",
                "    'Datum'             : Datum, \r\n",
                "    'Neue Fälle'        : Fälle,\r\n",
                "    'Hospitalisationen' : Hospitalisationen,\r\n",
                "    'Todesfälle'        : Todesfälle\r\n",
                "}\r\n",
                "\r\n",
                "print(mongodb_doc)\r\n",
                "add_document(connectionstring, 'JupyterNB', 'Covid19', mongodb_doc)"
            ],
            "metadata": {
                "azdata_cell_guid": "e056659e-2ab5-43c5-9423-866a70d98f5b",
                "tags": [
                    "hide_input"
                ]
            },
            "outputs": [
                {
                    "name": "stdout",
                    "text": "{'Datum': '25.03.2021', 'Neue Fälle': '2046', 'Hospitalisationen': '74', 'Todesfälle': '69'}\n",
                    "output_type": "stream"
                }
            ],
            "execution_count": 4
        },
        {
            "cell_type": "markdown",
            "source": [
                "Code mit <mark>Run Cell</mark> ausführen um die MongoDB abzufragen."
            ],
            "metadata": {
                "azdata_cell_guid": "97ebb995-e6ad-41bc-8039-89453eb2267e"
            }
        },
        {
            "cell_type": "code",
            "source": [
                "def get_collection(connectionstring, database, collection):\r\n",
                "\r\n",
                "    '''Connect to MongoDB and return data'''\r\n",
                "    import pymongo, dns\r\n",
                "    mongo_client = pymongo.MongoClient(connectionstring)\r\n",
                "    mongo_db     = mongo_client[database]\r\n",
                "    mongo_col    = mongo_db[collection]\r\n",
                "    mongo_client.close()\r\n",
                "    return mongo_col.find()\r\n",
                "\r\n",
                "\r\n",
                "import pandas as pd\r\n",
                "import matplotlib\r\n",
                "import datetime\r\n",
                "\r\n",
                "result = []\r\n",
                "credentials = input('user:password')\r\n",
                "connectionstring = \"mongodb+srv://\"+credentials+\"@cluster0.epl3x.mongodb.net/?retryWrites=true&w=majority\"\r\n",
                "for doc in get_collection(connectionstring, 'JupyterNB', 'Covid19'):\r\n",
                "    #print(doc['Datum'],doc['Case'],doc['Difference']\r\n",
                "    thisdict = {                                \r\n",
                "            #'Datum'             : doc['Datum'],\r\n",
                "            'Datum'             : datetime.datetime.strptime(doc['Datum'], '%d.%m.%Y'),\r\n",
                "            'Neue Fälle'        : int(doc['Neue Fälle']),\r\n",
                "            'Hospitalisationen' : int(doc['Hospitalisationen']),\r\n",
                "            'Todesfälle'        : int(doc['Todesfälle']),\r\n",
                "    }\r\n",
                "    result.append(thisdict)\r\n",
                "\r\n",
                "# create a data frame set\r\n",
                "df = pd.DataFrame(result)\r\n",
                "df.head()"
            ],
            "metadata": {
                "azdata_cell_guid": "7450fdbc-61b4-49a0-8f89-2be45e41b751",
                "tags": [
                    "hide_input"
                ]
            },
            "outputs": [
                {
                    "data": {
                        "text/plain": "       Datum  Neue Fälle  Hospitalisationen  Todesfälle\n0 2021-03-23        1844                 74          11\n1 2021-03-24        2022                 83          20\n2 2021-03-25        2046                 74          69",
                        "text/html": "<div>\n<style scoped>\n    .dataframe tbody tr th:only-of-type {\n        vertical-align: middle;\n    }\n\n    .dataframe tbody tr th {\n        vertical-align: top;\n    }\n\n    .dataframe thead th {\n        text-align: right;\n    }\n</style>\n<table border=\"1\" class=\"dataframe\">\n  <thead>\n    <tr style=\"text-align: right;\">\n      <th></th>\n      <th>Datum</th>\n      <th>Neue Fälle</th>\n      <th>Hospitalisationen</th>\n      <th>Todesfälle</th>\n    </tr>\n  </thead>\n  <tbody>\n    <tr>\n      <th>0</th>\n      <td>2021-03-23</td>\n      <td>1844</td>\n      <td>74</td>\n      <td>11</td>\n    </tr>\n    <tr>\n      <th>1</th>\n      <td>2021-03-24</td>\n      <td>2022</td>\n      <td>83</td>\n      <td>20</td>\n    </tr>\n    <tr>\n      <th>2</th>\n      <td>2021-03-25</td>\n      <td>2046</td>\n      <td>74</td>\n      <td>69</td>\n    </tr>\n  </tbody>\n</table>\n</div>"
                    },
                    "metadata": {},
                    "execution_count": 61,
                    "output_type": "execute_result"
                }
            ],
            "execution_count": 61
        },
        {
            "cell_type": "code",
            "source": [
                "# Out charts\r\n",
                "df = pd.DataFrame(result)\r\n",
                "# Print data frame set as line chart\r\n",
                "df.plot.line(x=\"Datum\", y=[\"Neue Fälle\"], title=\"Laborbestätige Fälle\", grid=True, legend=False)\r\n",
                "df.plot.bar(x=\"Datum\", y=[\"Hospitalisationen\",\"Todesfälle\"], title=\"Laborbestätigte Hospitalisierungen und Todesfälle\", grid=True)\r\n",
                "#df.plot.area(x=\"Datum\", y=[\"Hospitalisationen\",\"Todesfälle\"], title=\"Laborbestätigte Hospitalisierungen und Todesfälle\", grid=True, legend=True, subplots=True)\r\n",
                "df.head()"
            ],
            "metadata": {
                "azdata_cell_guid": "fcdc6f15-902e-42a3-859d-ea8a7473c446",
                "tags": [
                    "hide_input"
                ]
            },
            "outputs": [
                {
                    "data": {
                        "text/plain": "<Figure size 432x288 with 1 Axes>",
                        "image/png": "[encoded data removed]"
                    },
                    "metadata": {
                        "needs_background": "light"
                    },
                    "output_type": "display_data"
                },
                {
                    "data": {
                        "text/plain": "<Figure size 432x288 with 1 Axes>",
                        "image/png": "[encoded data removed]"
                    },
                    "metadata": {
                        "needs_background": "light"
                    },
                    "output_type": "display_data"
                },
                {
                    "data": {
                        "text/plain": "       Datum  Neue Fälle  Hospitalisationen  Todesfälle\n0 2021-03-23        1844                 74          11\n1 2021-03-24        2022                 83          20\n2 2021-03-25        2046                 74          69",
                        "text/html": "<div>\n<style scoped>\n    .dataframe tbody tr th:only-of-type {\n        vertical-align: middle;\n    }\n\n    .dataframe tbody tr th {\n        vertical-align: top;\n    }\n\n    .dataframe thead th {\n        text-align: right;\n    }\n</style>\n<table border=\"1\" class=\"dataframe\">\n  <thead>\n    <tr style=\"text-align: right;\">\n      <th></th>\n      <th>Datum</th>\n      <th>Neue Fälle</th>\n      <th>Hospitalisationen</th>\n      <th>Todesfälle</th>\n    </tr>\n  </thead>\n  <tbody>\n    <tr>\n      <th>0</th>\n      <td>2021-03-23</td>\n      <td>1844</td>\n      <td>74</td>\n      <td>11</td>\n    </tr>\n    <tr>\n      <th>1</th>\n      <td>2021-03-24</td>\n      <td>2022</td>\n      <td>83</td>\n      <td>20</td>\n    </tr>\n    <tr>\n      <th>2</th>\n      <td>2021-03-25</td>\n      <td>2046</td>\n      <td>74</td>\n      <td>69</td>\n    </tr>\n  </tbody>\n</table>\n</div>"
                    },
                    "metadata": {},
                    "execution_count": 67,
                    "output_type": "execute_result"
                }
            ],
            "execution_count": 67
        },
        {
            "cell_type": "markdown",
            "source": [
                "## Südostschweiz\n",
                "Code  mit <mark> Run Cell </mark> ausführen um die Südostschweiz News anzuzeigen."
            ],
            "metadata": {
                "azdata_cell_guid": "380735d8-63b5-4136-886b-eebd7a8f69a2"
            }
        },
        {
            "cell_type": "code",
            "source": [
                "news = ['https://www.suedostschweiz.ch']\r\n",
                "\r\n",
                "def newsreader(url, links=True, images=True, emphasis=True):\r\n",
                "    '''Reads the given url and print a markdown'''\r\n",
                "    import requests, html2text\r\n",
                "    from datetime import datetime\r\n",
                "    now = datetime.now()\r\n",
                "\r\n",
                "    response = requests.get(url)\r\n",
                "    if(response.status_code == 200):\r\n",
                "        \r\n",
                "        print(colors.bold + colors.fg.blue +'{1}{0}{4} {2}{0}{3}{0}'.format('\\n', '>' * 100, f'NEWS FROM: {site}', '<' * 100, now.strftime(\"%Y-%m-%d %H:%M:%S\")) + colors.reset)\r\n",
                "\r\n",
                "        html = response.content.decode('utf-8')\r\n",
                "\r\n",
                "        md = html2text.HTML2Text()\r\n",
                "        md.ignore_links    = not links\r\n",
                "        md.ignore_images   = not images\r\n",
                "        md.ignore_emphasis = not emphasis\r\n",
                "        md.body_width      = 100\r\n",
                "        \r\n",
                "        data  = md.handle(html)\r\n",
                "\r\n",
                "        #read from '# Startseite'\r\n",
                "        start  = data.find('# Startseite')\r\n",
                "        end    = data.find('## 2\\. GR Template Menu')\r\n",
                "        stream = [(data[start:end])]\r\n",
                "        \r\n",
                "        for i in stream:\r\n",
                "            if(i is not None):\r\n",
                "                line = i.replace('ABO\\n\\n','').replace('Sponsored Content\\n\\n','').replace('video\\n\\n','').replace('bilder\\n\\n','').replace('Mehr\\n\\n','').replace('Bildergalerie\\n\\n','')\r\n",
                "                print('{0}{1}{2}'.format(colors.fg.green, line, colors.reset))\r\n",
                "\r\n",
                "        return stream\r\n",
                "\r\n",
                "def savefile(filepath, filename, stream):\r\n",
                "    '''Save the stream to the file'''\r\n",
                "    import os\r\n",
                "\r\n",
                "    if not os.path.exists(filepath):\r\n",
                "        os.makedirs(filepath)\r\n",
                "\r\n",
                "    file = open(filepath + '\\\\' + filename, 'w')\r\n",
                "    for i in stream:\r\n",
                "        file.write(i)\r\n",
                "\r\n",
                "    file.close()\r\n",
                "\r\n",
                "for site in news:\r\n",
                "    stream = newsreader(site, False, False)\r\n",
                "    #savefile('D:\\\\temp', 'somedia.md', stream)\r\n",
                ""
            ],
            "metadata": {
                "azdata_cell_guid": "9895d271-ca99-46c4-a050-643b17e91188",
                "tags": [
                    "hide_input"
                ]
            },
            "outputs": [
                {
                    "output_type": "stream",
                    "name": "stdout",
                    "text": "\u001b[01m\u001b[34m>>>>>>>>>>>>>>>>>>>>>>>>>>>>>>>>>>>>>>>>>>>>>>>>>>>>>>>>>>>>>>>>>>>>>>>>>>>>>>>>>>>>>>>>>>>>>>>>>>>>\n2021-03-25 11:01:09 NEWS FROM: https://www.suedostschweiz.ch\n<<<<<<<<<<<<<<<<<<<<<<<<<<<<<<<<<<<<<<<<<<<<<<<<<<<<<<<<<<<<<<<<<<<<<<<<<<<<<<<<<<<<<<<<<<<<<<<<<<<<\n\u001b[0m\n\u001b[32m# Startseite\n\nHCD spricht von Wunschkandidat\n\n## Jan Alston wird Sportchef beim HCD\n\nJan Alston wir per 1. Mai neuer General Manager (Sportchef) beim HC Davos. Alston kann einen\nLeistungsausweis als Sportdirektor des HC Lausanne aufweisen. Doch passt er zur HCD-Philosophie?\n\nvideo  audio\n\nNach Corona geht es los\n\n## Die grosse Schuldenwelle rollt auf Graubünden zu\n\nSeit März 2020 müssen viele Haushalte den Gürtel enger schnallen.\n\nMehr Sport-News aus Graubünden\n\n## Ehemaliger EHC-Chur-Trainer Alex Andjelic gestorben\n\nResultate, Ereignisse, Events und mehr: Hier entdeckt Ihr die kleinen Geschichten aus der grossen\nBündner Sportwelt.\n\nProjekt\n\n## In der Surselva soll die Gesundheit vernetzt werden\n\nIn der Surselva soll ein integriertes Gesundheitsnetz entstehen. Dazu wollen sich verschiedene\nLeistungserbringer aus dem Bereich Gesundheit zusammenschliessen.\n\nFerienwohnungen sind gefragt\n\n## Wenn die Berge rufen\n\nDie Nachfrage nach dem eigenen Feriendomizil in den Alpen war im Coronajahr 2020 riesig. Der Bündner\nFerienwohnungsmarkt boomt wie seit zehn Jahren nicht mehr.\n\nNormalität in Sicht?\n\n## Szenarienpapier lässt Bündner Touristiker hoffen\n\nDas Wirtschaftsforum Graubünden wirft einen Blick in die Zukunft. Treffen die prophezeiten Szenarien\nein, kann der Bündner Tourismus einigermassen optimistisch Richtung Sommer schauen.\n\n«Schwitza im Homeoffice»\n\n## Workout für Zuhause: Rückentraining für ein starkes Kreuz\n\nIn den vierten Folge von «Schwitza im Homeoffice» geht es um euere Rückengesundheit. Denn\nRückenleiden kennen keinen Lockdown. Deshalb wäre gezieltes Rückentraining wichtiger denn je.\n\nFischbestand wird erfasst\n\n## Start für Monitoring in der ersten Fliegenfischerstrecke\n\nSeit 2020 gibt es am Inn unterhalb von Ramosch eine reine Fliegenfischerstrecke. Ob der Fischbestand\nnachhaltiger genutzt werden kann, wird nun mithilfe von Fischbestandeserhebungen untersucht.\n\nGeplante Fusion\n\n## Mit geeinter Kraft wollen CVP und BDP an die Spitze\n\nDie Parteileitungen von CVP und BDP haben sich gefunden: Sie machen ihrer Basis und den\nRegionalparteien die Fusion mit einem hohen Ziel und besseren Wahlchancen im Proporzsystem\nschmackhaft.\n\nKommentar\n\n## Das Signal der BDP\n\nEs ist nicht mehr die BDP Graubünden, die nach dem Debakel bei den nationalen Wahlen hilfesuchend um\ndie Hand der CVP Graubünden bittet.\n\nSPONSORED\n\n## Stellt Euer Osterwissen unter Beweis\n\nKommendes Wochenende feiern wir Ostern. Um Euch auf das Fest einzustimmen, haben wir ein Osterquiz\nzusammengestellt, bei dem es eine süsse Überraschung zu gewinnen gibt.\n\nMeistgeklickt  1. Eishockey\n\nMagnus Nygren verlängert beim HCD\n\n23.03.2021\n\n  2. Aus dem Leben\n\nBio-Grischun-Publikumspreis 2021: Stimmt jetzt für Eure Favoritin oder Euren Favoriten ab\n\n24.03.2021\n\n  3. Aus dem Leben\n\nDie grosse Schuldenwelle rollt auf Graubünden zu\n\n25.03.2021\n\nNationale Titelkämpfe zum Abschluss\n\n## Saisonausklang auf dem Campingplatz\n\nMit dem zweiten Teil der Schweizer Meisterschaften in Sedrun/Rueras wird von Freitag bis Sonntag die\nnationale Langlaufsaison abgeschlossen.\n\n«Davoser Revue»\n\n## Grossgauner machen Davos unsicher\n\nEine fiktive Geschichte von den angeblich letzten Grossgaunern Europas steht im Zentrum der neuen\n«Davoser Revue»-Ausgabe.\n\n### Freut Ihr Euch auf wärmere Frühlingstemperaturen ?\n\nAuswahlmöglichkeiten\n\nJa\n\nNein\n\nBLOG\n\nKai Bock: Der Single-Blog!\n\n## Die Schattenseiten\n\nHerzschmerz. Bei mir geht im Departement der Liebe immer noch gar nichts. Ich spreche also in den\nkommenden Zeilen nicht von mir, sondern viel eher hat es jemand aus meinem Umfeld erwischt.\n\n\u001b[0m\n"
                }
            ],
            "execution_count": 9
        }
    ]
}
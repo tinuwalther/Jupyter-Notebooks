{
    "metadata": {
        "kernelspec": {
            "name": "python3",
            "display_name": "Python 3",
            "language": "python"
        },
        "language_info": {
            "name": "python",
            "version": "3.9.1",
            "mimetype": "text/x-python",
            "codemirror_mode": {
                "name": "ipython",
                "version": 3
            },
            "pygments_lexer": "ipython3",
            "nbconvert_exporter": "python",
            "file_extension": ".py"
        }
    },
    "nbformat_minor": 2,
    "nbformat": 4,
    "cells": [
        {
            "cell_type": "markdown",
            "source": [
                "# Python Website Reader\n",
                "\n",
                "Mit diesem Notebook werden die folgenden Webstites besucht und die News in Markdown angezeigt und können auch als Markdown-file abgespeichert.\n",
                "\n",
                "Der Pfad und der Filename kann in der aufrufenden Function savefile('D:\\\\temp', 'srf.md', stream) angepasst werden. Aktuell ist die Function auskommentiert."
            ],
            "metadata": {
                "azdata_cell_guid": "ce9586c1-c828-49bd-a572-7bc6d33b3169"
            }
        },
        {
            "cell_type": "markdown",
            "source": [
                "<mark>**Bitte zuerst die class colors ausführen, damit die Farben für den Output geladen sind.**</mark>"
            ],
            "metadata": {
                "azdata_cell_guid": "4446ecb2-d37f-401f-90e9-74ca2be99268"
            }
        },
        {
            "cell_type": "code",
            "source": [
                "class colors: \r\n",
                "    '''Colors class:reset all colors with colors.reset'''\r\n",
                "\r\n",
                "    reset         = '\\033[0m'\r\n",
                "    bold          = '\\033[01m'\r\n",
                "    disable       = '\\033[02m'\r\n",
                "    underline     = '\\033[04m'\r\n",
                "    reverse       = '\\033[07m'\r\n",
                "    strikethrough = '\\033[09m'\r\n",
                "    invisible     = '\\033[08m'\r\n",
                "\r\n",
                "    class fg: \r\n",
                "        ''' Define the foreground-colors\r\n",
                "        use as colors.fg.colorname\r\n",
                "        '''\r\n",
                "        black      = '\\033[30m'\r\n",
                "        red        = '\\033[31m'\r\n",
                "        green      = '\\033[32m'\r\n",
                "        orange     = '\\033[33m'\r\n",
                "        blue       = '\\033[34m'\r\n",
                "        purple     = '\\033[35m'\r\n",
                "        cyan       = '\\033[36m'\r\n",
                "        lightgrey  = '\\033[37m'\r\n",
                "        darkgrey   = '\\033[90m'\r\n",
                "        lightred   = '\\033[91m'\r\n",
                "        lightgreen = '\\033[92m'\r\n",
                "        yellow     = '\\033[93m'\r\n",
                "        lightblue  = '\\033[94m'\r\n",
                "        pink       = '\\033[95m'\r\n",
                "        lightcyan  = '\\033[96m'\r\n",
                "\r\n",
                "    class bg: \r\n",
                "        ''' Define the background-colors\r\n",
                "        use as colors.bg.colorname\r\n",
                "        '''\r\n",
                "        black     = '\\033[40m'\r\n",
                "        red       = '\\033[41m'\r\n",
                "        green     = '\\033[42m'\r\n",
                "        orange    = '\\033[43m'\r\n",
                "        blue      = '\\033[44m'\r\n",
                "        purple    = '\\033[45m'\r\n",
                "        cyan      = '\\033[46m'\r\n",
                "        lightgrey = '\\033[47m'\r\n",
                ""
            ],
            "metadata": {
                "azdata_cell_guid": "4255a503-7896-4ffc-9c60-cf4a2a49c24b",
                "tags": [
                    "hide_input"
                ]
            },
            "outputs": [],
            "execution_count": 1
        },
        {
            "cell_type": "markdown",
            "source": [
                "## SRF News\n",
                "Code mit <mark> Run Cell </mark> ausführen um die SRF News anzuzeigen."
            ],
            "metadata": {
                "azdata_cell_guid": "b2c9c1e2-2a47-4369-a228-aaba4dc00b63"
            }
        },
        {
            "cell_type": "code",
            "source": [
                "news = ['https://www.srf.ch/news/neuste-beitraege']\r\n",
                "\r\n",
                "def newsreader(url, links=True, images=True, emphasis=True):\r\n",
                "    '''Reads the given url and print a markdown'''\r\n",
                "    import requests, html2text, re\r\n",
                "    from datetime import datetime\r\n",
                "    now = datetime.now()\r\n",
                "\r\n",
                "    response = requests.get(url)\r\n",
                "    if(response.status_code == 200):\r\n",
                "\r\n",
                "        print(colors.bold + colors.fg.blue +'{1}{0}{4} {2}{0}{3}{0}'.format('\\n', '>' * 100, f'NEWS FROM: {site}', '<' * 100, now.strftime(\"%Y-%m-%d %H:%M:%S\")) + colors.reset)\r\n",
                "\r\n",
                "        html = response.content.decode('utf-8')\r\n",
                "\r\n",
                "        md = html2text.HTML2Text()\r\n",
                "        md.ignore_links    = not links\r\n",
                "        md.ignore_images   = not images\r\n",
                "        md.ignore_emphasis = not emphasis\r\n",
                "        md.body_width      = 100\r\n",
                "        \r\n",
                "        data  = md.handle(html)\r\n",
                "\r\n",
                "        #read from '## Inhalt'\r\n",
                "        start = data.find('###  Neuste Beiträge')\r\n",
                "        end   = data.find('## Footer')\r\n",
                "        stream = [(data[start:end])]\r\n",
                "\r\n",
                "        for i in stream:\r\n",
                "            if(i is not None):\r\n",
                "                line = i.replace('Mit Video\\n\\n','').replace('Mit Audio\\n\\n','')\r\n",
                "                print('{0}{1}{2}'.format(colors.fg.green, line, colors.reset))\r\n",
                "\r\n",
                "        return stream\r\n",
                "\r\n",
                "def savefile(filepath, filename, stream):\r\n",
                "    '''Save the stream to the file'''\r\n",
                "    import os\r\n",
                "\r\n",
                "    if not os.path.exists(filepath):\r\n",
                "        os.makedirs(filepath)\r\n",
                "\r\n",
                "    file = open(filepath + '\\\\' + filename, 'w')\r\n",
                "    for i in stream:\r\n",
                "        file.write(i)\r\n",
                "\r\n",
                "    file.close()\r\n",
                "\r\n",
                "for site in news:\r\n",
                "    stream = newsreader(site, False, False)\r\n",
                "    #savefile('D:\\\\temp', 'srf.md', stream)\r\n",
                ""
            ],
            "metadata": {
                "azdata_cell_guid": "a5ab20f1-383d-4972-8cb7-eda2eb57ae2d",
                "tags": [
                    "hide_input"
                ]
            },
            "outputs": [
{
    "name": "stdout",
    "text": "\u001b[01m\u001b[34m>>>>>>>>>>>>>>>>>>>>>>>>>>>>>>>>>>>>>>>>>>>>>>>>>>>>>>>>>>>>>>>>>>>>>>>>>>>>>>>>>>>>>>>>>>>>>>>>>>>>\n2021-03-04 21:04:01 NEWS FROM: https://www.srf.ch/news/neuste-beitraege\n<<<<<<<<<<<<<<<<<<<<<<<<<<<<<<<<<<<<<<<<<<<<<<<<<<<<<<<<<<<<<<<<<<<<<<<<<<<<<<<<<<<<<<<<<<<<<<<<<<<<\n\u001b[0m\n\u001b[32m###  Neuste Beiträge\n\n  * Corona-Massnahmen\n\nIst die SP zur «Bundesratsversteher»-Partei mutiert, Herr Levrat?\n\nDer Bundesrat mache es in der Krise alles in allem nicht so schlecht, so SP-Ständerat Christian\nLevrat im Gespräch.\n\n  * Burmesische Flüchtlinge\n\nZuflucht in Thailand und bange Blicke in die Heimat\n\nMillionen burmesische Flüchtlinge und Migranten leben in Thailand. Ihre erste Anlaufstelle ist ein\nSpital an der Grenze.\n\n  * Fluggesellschaft in der Krise\n\nNeuer Swiss-CEO: «Der Markt wird nach Corona anders aussehen»\n\nDie Swiss steht vor schwierigen Zeiten. CEO Dieter Vranckx über die Herausforderungen in der\nZukunft.\n\n  * Kampf gegen Pandemie\n\nCorona-Selbsttests: Bundesrat und BAG uneinig?\n\nTesten, testen, testen, auch mit Selbsttests? Hier gehen die Meinungen auseinander – nicht nur in\nBundesbern.\n\n  * Qualität in der Medizin\n\nFreie Spitalwahl – so können Sie profitieren\n\nIn der Schweiz gilt das Prinzip der freien Spitalwahl. Die wichtigsten Fragen und Antworten dazu.\n\n  * Weniger Spitäler – mehr Qualität?\n\nExperten sagen, dass die Qualität von Spitälern steigt, wenn es weniger davon gibt. Stimmt das\nwirklich?\n\n  * Pandemie-Strategie\n\nCorona-Lockerungen: Schweiz und Deutschland im Vergleich\n\nWo steht das Nachbarland in der Pandemiebekämpfung? Deutschland lockert die Corona-Massnahmen\ndeutlich vorsichtiger.\n\n  * Kritik an Corona-Massnahmen\n\nÖffnen oder nicht öffnen – das ist die grosse Frage\n\nDer Bundesrat hat vier Kriterien definiert, die erfüllt sein müssen vor weiteren Öffnungen – wo wir\nheute stehen.\n\n  * Erstes Hallenturnier\n\nIn der «Bubble» am Badminton Swiss Open in Basel\n\nDank aufwendigem Schutzkonzept kann das erste internationale Hallenturnier seit Corona in der\nSchweiz stattfinden.\n\n  * Geschäftsreisen in der Zukunft\n\nLäutet die Coronakrise das Ende der Geschäftsreisen ein?\n\nDie Coronakrise hat der Flugbranche einen Dämpfer versetzt. Auf Geschäftsreisen wird aber auch\nkünftig öfter verzichtet.\n\n  * Keine Fälle registriert\n\nGrippesaison ohne Grippe: Einzelfall oder künftig die Regel?\n\nWährend Corona die Welt in Atem hält, macht sich ein anderes Virus hierzulande rar: Von Grippewelle\nkeine Spur.\n\n  * UNO-Bericht\n\nFast ein Fünftel aller Lebensmittel landet im Müll\n\nPro Erdenbürger fallen auf Verbraucher-Ebene jährlich 121 Kilogramm Lebensmittel-Abfall an, zeigt\nein neuer UNO-Bericht.\n\n  * Mindestfallzahlen\n\nSo (un)routiniert operiert Ihr Spital\n\nWie routiniert führt ein Spital bestimmte Eingriffe durch? Neue Daten zeigen: Die Unterschiede sind\nriesig.\n\n  * Corona-Impfung\n\nDas meint die SRF-Community zu einem möglichen Impfprivileg\n\nDer Bundesrat spricht sich für ein Impfprivileg aus. Das hält die SRF-Community davon.\n\n  * Atomabkommen\n\nIran zeigt sich offen für Gespräche über ungeklärte Atom-Fragen\n\nAnfang April soll es zum Treffen zwischen Experten der Internationalen Atomenergiebehörde und\nVertretern Irans kommen.\n\n  * Missstände in Uni-Kliniken\n\nParlamentsbericht will beachtliche Änderungen am Unispital Zürich\n\nDas Universitätsspital soll nebulöse Nebengeschäfte und die verbreitete Angstkultur angehen. Ein\nBericht sagt nun wie.\n\n  * Bruch des Brexit-Vertrags\n\nLondon zögert Zollkontrollen an nordirischen Häfen hinaus\n\nDie Grenze zwischen Nordirland und Grossbritannien war die Knacknuss bei den Brexit-Verhandlungen –\nund sie ist es noch.\n\n  * Coronakrise\n\nDeutschlands Shutdown-Exit: Es wird kompliziert\n\nMerkel beugt sich dem Druck und will lockern. Doch der Weg aus dem Shutdown ist kompliziert. Es\nmangelt an Pragmatismus.\n\nAnalyse von Bettina Ramseier\n\nDeutschland-Korrespondentin, SRF\n\n  * Urteil in Karachi-Affäre\n\nFreispruch für früheren französischen Premierminister\n\nDer ehemalige Premier Edouard Balladur stand wegen angeblicher verdeckter Wahlkampffinanzierung vor\nGericht.\n\n  * Nach Militärputsch\n\nErneut blutige Proteste in Burma – EU reagiert\n\nNach weiterer Polizeigewalt und Tausenden Festnahmen setzt die Europäische Union ihre\nEntwicklungshilfe für Burma aus.\n\n  * Corona-Hilfe\n\nZürcher Kulturschaffende erhalten drei Monate «Grundeinkommen»\n\nDer Kanton Zürich zahlt seinen Kulturschaffenden 3840 Franken pro Monat – und plädiert für eine\nnationale Lösung.\n\n  * Mehr Funde wegen Corona\n\nZoll beschlagnahmt deutlich mehr Fälschungen\n\nDer Zoll hat die Kontrollen verstärkt und 2020 deutlich mehr gefälschte Taschen oder Uhren aus dem\nVerkehr gezogen.\n\n  * Aufatmen im Buckingham-Palast\n\nPrinz Philip übersteht Eingriff am Herzen\n\nGood News für die Royals: Die Operation des 99-jährigen Mitglieds der britischen Königsfamilie ist\ngeglückt.\n\n  * Veloboom wegen Corona\n\nDer Schweiz gehen die Velos aus\n\nIn der Coronazeit ist die Nachfrage nach Velos stark gestiegen. E-Bike-Hersteller Flyer baut die\nProduktion aus.\n\n  * Umweltkatastrophe\n\nIsrael macht iranischen Tanker für Ölpest verantwortlich\n\nUmweltministerin Gamliel spricht von «Umwelt-Terrorismus». Auch Küsten im Libanon und im Gaza-\nStreifen waren betroffen.\n\n  * Fluggesellschaft in der Krise\n\nSwiss setzt erneut den Rotstift an\n\nWegen Corona steckt die Swiss zum ersten Mal seit 15 Jahren tief in den roten Zahlen. Die Erholung\nwird schwierig.\n\nAnalyse von Maren Peters\n\nWirtschaftsredaktorin SRF\n\n  * Covid-19-Gesetz\n\nCorona-Massnahmen: Ständerat will Bundesrat nicht entmachten\n\nDer Ständerat will zur Bewältigung der Pandemie weitere 14.97 Milliarden Franken an Bundesgeldern\nzur Verfügung stellen.\n\n  * Rechtsextremismus\n\n«Aufruf zu Hass und Gewalt»: Frankreich verbietet Identitäre\n\nDie «Génération identitaire» wird in Frankreich aufgelöst, doch ihre Ideen wuchern weiter. In ganz\nEuropa.\n\n  * Oberster Mediziner\n\nVom Fifa-Personalchef zum Schaffhauser Kantonsarzt\n\nEr war im Kader der Fifa. Ist Arzt und Rechtsanwalt. Und neuerdings ist Martin Vaso einer der\njüngsten Kantonsärzte.\n\n  * Lageabhängige Lockerungen\n\nDeutschland verlängert den Shutdown – mit Öffnungsstrategie\n\nGrundsätzlich bleiben die Massnahmen bis am 28. März bestehen. Doch je nach Lage soll es Lockerungen\ngeben.\n\n\u001b[0m\n",
    "output_type": "stream"
}
],
            "execution_count": null
        },
        {
            "cell_type": "markdown",
            "source": [
                "## Südostschweiz\n",
                "Code  mit <mark> Run Cell </mark> ausführen um die Südostschweiz News anzuzeigen."
            ],
            "metadata": {
                "azdata_cell_guid": "380735d8-63b5-4136-886b-eebd7a8f69a2"
            }
        },
        {
            "cell_type": "code",
            "source": [
                "news = ['https://www.suedostschweiz.ch']\r\n",
                "\r\n",
                "def newsreader(url, links=True, images=True, emphasis=True):\r\n",
                "    '''Reads the given url and print a markdown'''\r\n",
                "    import requests, html2text\r\n",
                "    from datetime import datetime\r\n",
                "    now = datetime.now()\r\n",
                "\r\n",
                "    response = requests.get(url)\r\n",
                "    if(response.status_code == 200):\r\n",
                "        \r\n",
                "        print(colors.bold + colors.fg.blue +'{1}{0}{4} {2}{0}{3}{0}'.format('\\n', '>' * 100, f'NEWS FROM: {site}', '<' * 100, now.strftime(\"%Y-%m-%d %H:%M:%S\")) + colors.reset)\r\n",
                "\r\n",
                "        html = response.content.decode('utf-8')\r\n",
                "\r\n",
                "        md = html2text.HTML2Text()\r\n",
                "        md.ignore_links    = not links\r\n",
                "        md.ignore_images   = not images\r\n",
                "        md.ignore_emphasis = not emphasis\r\n",
                "        md.body_width      = 100\r\n",
                "        \r\n",
                "        data  = md.handle(html)\r\n",
                "\r\n",
                "        #read from '# Startseite'\r\n",
                "        start  = data.find('# Startseite')\r\n",
                "        end    = data.find('## 2\\. GR Template Menu')\r\n",
                "        stream = [(data[start:end])]\r\n",
                "        \r\n",
                "        for i in stream:\r\n",
                "            if(i is not None):\r\n",
                "                line = i.replace('ABO\\n\\n','').replace('Sponsored Content\\n\\n','').replace('video\\n\\n','').replace('bilder\\n\\n','').replace('Mehr\\n\\n','')\r\n",
                "                print('{0}{1}{2}'.format(colors.fg.green, line, colors.reset))\r\n",
                "\r\n",
                "        return stream\r\n",
                "\r\n",
                "def savefile(filepath, filename, stream):\r\n",
                "    '''Save the stream to the file'''\r\n",
                "    import os\r\n",
                "\r\n",
                "    if not os.path.exists(filepath):\r\n",
                "        os.makedirs(filepath)\r\n",
                "\r\n",
                "    file = open(filepath + '\\\\' + filename, 'w')\r\n",
                "    for i in stream:\r\n",
                "        file.write(i)\r\n",
                "\r\n",
                "    file.close()\r\n",
                "\r\n",
                "for site in news:\r\n",
                "    stream = newsreader(site, False, False)\r\n",
                "    #savefile('D:\\\\temp', 'somedia.md', stream)\r\n",
                ""
            ],
            "metadata": {
                "azdata_cell_guid": "9895d271-ca99-46c4-a050-643b17e91188",
                "tags": [
                    "hide_input"
                ]
            },
            "outputs": [],
            "execution_count": null
        }
    ]
}
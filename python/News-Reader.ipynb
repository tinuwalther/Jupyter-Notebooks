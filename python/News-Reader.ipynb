{
    "metadata": {
        "kernelspec": {
            "name": "python3",
            "display_name": "Python 3",
            "language": "python"
        },
        "language_info": {
            "name": "python",
            "version": "3.9.2",
            "mimetype": "text/x-python",
            "codemirror_mode": {
                "name": "ipython",
                "version": 3
            },
            "pygments_lexer": "ipython3",
            "nbconvert_exporter": "python",
            "file_extension": ".py"
        }
    },
    "nbformat_minor": 2,
    "nbformat": 4,
    "cells": [
        {
            "cell_type": "markdown",
            "source": [
                "# Python Website Reader\n",
                "\n",
                "Mit diesem Notebook werden die folgenden Websites besucht und die News in Markdown angezeigt und können auch als Markdown-file abgespeichert werden.\n",
                "\n",
                "Der Pfad und der Filename kann in der aufrufenden Function savefile('D:\\\\temp', 'srf.md', stream) angepasst werden. Aktuell ist die Function auskommentiert."
            ],
            "metadata": {
                "azdata_cell_guid": "ce9586c1-c828-49bd-a572-7bc6d33b3169"
            }
        },
        {
            "cell_type": "markdown",
            "source": [
                "<mark>**Bitte zuerst die class colors ausführen, damit die Farben für den Output geladen sind.**</mark>"
            ],
            "metadata": {
                "azdata_cell_guid": "4446ecb2-d37f-401f-90e9-74ca2be99268"
            }
        },
        {
            "cell_type": "code",
            "source": [
                "class colors: \n",
                "    '''Colors class:reset all colors with colors.reset'''\n",
                "\n",
                "    reset         = '\\033[0m'\n",
                "    bold          = '\\033[01m'\n",
                "    disable       = '\\033[02m'\n",
                "    underline     = '\\033[04m'\n",
                "    reverse       = '\\033[07m'\n",
                "    strikethrough = '\\033[09m'\n",
                "    invisible     = '\\033[08m'\n",
                "\n",
                "    class fg: \n",
                "        ''' Define the foreground-colors\n",
                "        use as colors.fg.colorname\n",
                "        '''\n",
                "        black      = '\\033[30m'\n",
                "        red        = '\\033[31m'\n",
                "        green      = '\\033[32m'\n",
                "        orange     = '\\033[33m'\n",
                "        blue       = '\\033[34m'\n",
                "        purple     = '\\033[35m'\n",
                "        cyan       = '\\033[36m'\n",
                "        lightgrey  = '\\033[37m'\n",
                "        darkgrey   = '\\033[90m'\n",
                "        lightred   = '\\033[91m'\n",
                "        lightgreen = '\\033[92m'\n",
                "        yellow     = '\\033[93m'\n",
                "        lightblue  = '\\033[94m'\n",
                "        pink       = '\\033[95m'\n",
                "        lightcyan  = '\\033[96m'\n",
                "\n",
                "    class bg: \n",
                "        ''' Define the background-colors\n",
                "        use as colors.bg.colorname\n",
                "        '''\n",
                "        black     = '\\033[40m'\n",
                "        red       = '\\033[41m'\n",
                "        green     = '\\033[42m'\n",
                "        orange    = '\\033[43m'\n",
                "        blue      = '\\033[44m'\n",
                "        purple    = '\\033[45m'\n",
                "        cyan      = '\\033[46m'\n",
                "        lightgrey = '\\033[47m'\n"
            ],
            "metadata": {
                "azdata_cell_guid": "4255a503-7896-4ffc-9c60-cf4a2a49c24b",
                "tags": [
                    "hide_input"
                ]
            },
            "outputs": [],
            "execution_count": 6
        },
        {
            "cell_type": "markdown",
            "source": [
                "## SRF News\n",
                "Code mit <mark> Run Cell </mark> ausführen um die SRF News anzuzeigen."
            ],
            "metadata": {
                "azdata_cell_guid": "b2c9c1e2-2a47-4369-a228-aaba4dc00b63"
            }
        },
        {
            "cell_type": "code",
            "source": [
                "news = ['https://www.srf.ch/news/neuste-beitraege']\n",
                "\n",
                "def newsreader(url, links=True, images=True, emphasis=True):\n",
                "    '''Reads the given url and print a markdown'''\n",
                "    import requests, html2text, re\n",
                "    from datetime import datetime\n",
                "    now = datetime.now()\n",
                "\n",
                "    response = requests.get(url)\n",
                "    if(response.status_code == 200):\n",
                "\n",
                "        print(colors.bold + colors.fg.blue +'{1}{0}{4} {2}{0}{3}{0}'.format('\\n', '>' * 100, f'NEWS FROM: {url}', '<' * 100, now.strftime(\"%Y-%m-%d %H:%M:%S\")) + colors.reset)\n",
                "\n",
                "        html = response.content.decode('utf-8')\n",
                "\n",
                "        md = html2text.HTML2Text()\n",
                "        md.ignore_links    = not links\n",
                "        md.ignore_images   = not images\n",
                "        md.ignore_emphasis = not emphasis\n",
                "        md.body_width      = 100\n",
                "        \n",
                "        data  = md.handle(html)\n",
                "\n",
                "        #read from '## Inhalt'\n",
                "        start = data.find('###  Neueste Beiträge')\n",
                "        end   = data.find('## Footer')\n",
                "        stream = [(data[start:end])]\n",
                "        #print(data)\n",
                "\n",
                "        for i in stream:\n",
                "            if(i is not None):\n",
                "                line = i.replace('Mit Video\\n\\n','').replace('Mit Audio\\n\\n','')\n",
                "                if str.startswith(line, '*'):\n",
                "                    print('{0}{1}{2}'.format(colors.fg.lightred, line, colors.reset))\n",
                "                else:\n",
                "                    print('{0}{1}{2}'.format(colors.fg.green, line, colors.reset))\n",
                "\n",
                "\n",
                "        return stream\n",
                "\n",
                "def savefile(filepath, filename, stream):\n",
                "    '''Save the stream to the file'''\n",
                "    import os\n",
                "\n",
                "    if not os.path.exists(filepath):\n",
                "        os.makedirs(filepath)\n",
                "\n",
                "    file = open(filepath + '\\\\' + filename, 'w')\n",
                "    for i in stream:\n",
                "        file.write(i)\n",
                "\n",
                "    file.close()\n",
                "\n",
                "for site in news:\n",
                "    stream = newsreader(site, False, False)\n",
                "    #savefile('D:\\\\temp', 'srf.md', stream)\n",
                ""
            ],
            "metadata": {
                "azdata_cell_guid": "a5ab20f1-383d-4972-8cb7-eda2eb57ae2d",
                "tags": [
                    "hide_input"
                ]
            },
            "outputs": [],
            "execution_count": null
        },
        {
            "cell_type": "markdown",
            "source": [
                "## BAG Covid-⁠19 Schweiz\r\n",
                "Code mit <mark> Run Cell </mark> ausführen um die aktuellen Covidzahlen vom BAG anzuzeigen."
            ],
            "metadata": {
                "azdata_cell_guid": "10dcd19c-1c38-410d-8c9e-ceb20ba108a6"
            }
        },
        {
            "cell_type": "code",
            "source": [
                "news = ['https://www.covid19.admin.ch/de/overview']\r\n",
                "\r\n",
                "def covidnewsreader(url, links=True, images=True, emphasis=True):\r\n",
                "    '''Reads the given url and print a markdown'''\r\n",
                "    import requests, html2text, re\r\n",
                "    from datetime import datetime\r\n",
                "    now = datetime.now()\r\n",
                "\r\n",
                "    response = requests.get(url)\r\n",
                "    if(response.status_code == 200):\r\n",
                "\r\n",
                "        print(colors.bold + colors.fg.blue +'{1}{0}{4} {2}{0}{3}{0}'.format('\\n', '>' * 100, f'NEWS FROM: {url}', '<' * 100, now.strftime(\"%Y-%m-%d %H:%M:%S\")) + colors.reset)\r\n",
                "\r\n",
                "        html = response.content.decode('utf-8')\r\n",
                "\r\n",
                "        md = html2text.HTML2Text()\r\n",
                "        md.ignore_links    = not links\r\n",
                "        md.ignore_images   = not images\r\n",
                "        md.ignore_emphasis = not emphasis\r\n",
                "        md.body_width      = 100\r\n",
                "        \r\n",
                "        data  = md.handle(html)\r\n",
                "        #print(data)\r\n",
                "\r\n",
                "        #read from '## Inhalt'\r\n",
                "        start = data.find('### Laborbestätigte Fälle')\r\n",
                "        end   = data.find('### Tests und Anteil positive Tests')\r\n",
                "        stream = [(data[start:end])]\r\n",
                "\r\n",
                "        for i in stream:\r\n",
                "            if(i is not None):\r\n",
                "\r\n",
                "                line = i.replace('Detailinformationen\\n\\n','')\r\n",
                "                line = line.replace('7-⁠Tage-⁠Schnitt\\n\\n','')\r\n",
                "                line = line.replace('Beschreibungen einblenden\\n\\n','')\r\n",
                "                line = line.replace('Neu gemeldet\\n\\n','')\r\n",
                "                line = line.replace('\\nFälle\\n','')\r\n",
                "\r\n",
                "                print('{0}{1}{2}'.format(colors.fg.green, line, colors.reset))\r\n",
                "\r\n",
                "        return stream\r\n",
                "\r\n",
                "def savefile(filepath, filename, stream):\r\n",
                "    '''Save the stream to the file'''\r\n",
                "    import os\r\n",
                "\r\n",
                "    if not os.path.exists(filepath):\r\n",
                "        os.makedirs(filepath)\r\n",
                "\r\n",
                "    file = open(filepath + '\\\\' + filename, 'w')\r\n",
                "    for i in stream:\r\n",
                "        file.write(i)\r\n",
                "\r\n",
                "    file.close()\r\n",
                "\r\n",
                "for site in news:\r\n",
                "    stream = covidnewsreader(site, False, False)\r\n",
                "    #savefile('D:\\\\temp', 'srf.md', stream)\r\n",
                ""
            ],
            "metadata": {
                "azdata_cell_guid": "07c27c54-14b9-4c87-9061-a4e219201f68",
                "tags": [
                    "hide_input"
                ]
            },
            "outputs": [],
            "execution_count": null
        },
        {
            "cell_type": "markdown",
            "source": [
                "### MongoDB\n",
                "\n",
                "Code mit <mark>Run Cell</mark> ausführen um die Daten in die MongoDB abzuspeichern."
            ],
            "metadata": {
                "azdata_cell_guid": "63d17f4a-3e21-427c-8ca0-0964a0168c64"
            }
        },
        {
            "cell_type": "code",
            "source": [
                "news = 'https://www.covid19.admin.ch/de/overview'\r\n",
                "\r\n",
                "def get_htmldata(url, search_from, search_to, links=True, images=True, emphasis=True):\r\n",
                "    import requests, html2text, re\r\n",
                "    response = requests.get(url)\r\n",
                "    if(response.status_code == 200):\r\n",
                "        html = response.content.decode('utf-8')\r\n",
                "        md = html2text.HTML2Text()\r\n",
                "        md.ignore_links    = not links\r\n",
                "        md.ignore_images   = not images\r\n",
                "        md.ignore_emphasis = not emphasis\r\n",
                "        md.body_width      = 100\r\n",
                "        data  = md.handle(html)\r\n",
                "\r\n",
                "        start  = data.find(search_from)\r\n",
                "        end    = data.find(search_to)\r\n",
                "        stream = [(data[start:end])]\r\n",
                "\r\n",
                "    return stream\r\n",
                "\r\n",
                "\r\n",
                "def add_document(connectionstring, mongodatabase, collection, document):\r\n",
                "    '''Connect to MongoDB and add a document'''\r\n",
                "    import pymongo, dns\r\n",
                "    mongo_client = pymongo.MongoClient(connectionstring)\r\n",
                "    mongo_db     = mongo_client[mongodatabase]\r\n",
                "    mongo_col    = mongo_db[collection]\r\n",
                "    mongo_col.insert_one(document)\r\n",
                "    mongo_client.close()\r\n",
                "\r\n",
                "\r\n",
                "#process\r\n",
                "import re\r\n",
                "import pandas as pd\r\n",
                "\r\n",
                "credentials = input('user:password')\r\n",
                "connectionstring = \"mongodb+srv://\"+credentials+\"@cluster0.epl3x.mongodb.net/?retryWrites=true&w=majority\"\r\n",
                "\r\n",
                "list_html = get_htmldata(news, '### Laborbestätigte Fälle', '### Laborbestätigte Hospitalisationen')\r\n",
                "for line in list_html:\r\n",
                "    if(line is not None):\r\n",
                "        if re.search('Freitag',line):\r\n",
                "            Datum = (re.findall('\\w+\\:\\s\\d{2}\\.\\d{2}\\.\\d{4}',line)[0]).replace('Stand: ','')\r\n",
                "            Fälle = int((re.findall('[A-Z][a-z]+\\|\\s\\d{2,}',line)[0]).replace('Vortag| ','').replace('Freitag| ',''))/3\r\n",
                "        else:\r\n",
                "            Datum = (re.findall('\\w+\\:\\s\\d{2}\\.\\d{2}\\.\\d{4}',line)[0]).replace('Stand: ','')\r\n",
                "            Fälle = (re.findall('[A-Z][a-z]+\\|\\s\\d{2,}',line)[0]).replace('Vortag| ','')\r\n",
                "        break\r\n",
                "\r\n",
                "list_html = get_htmldata(news, '### Laborbestätigte Hospitalisationen', '### Laborbestätigte Todesfälle')\r\n",
                "for line in list_html:\r\n",
                "    if(line is not None):\r\n",
                "        if re.search('Freitag',line):\r\n",
                "            Hospitalisationen = int((re.findall('[A-Z][a-z]+\\|\\s\\d{2,}',line)[0]).replace('Vortag| ','').replace('Freitag| ',''))/3\r\n",
                "        else:\r\n",
                "            Hospitalisationen = (re.findall('[A-Z][a-z]+\\|\\s\\d{2,}',line)[0]).replace('Vortag| ','')\r\n",
                "        break\r\n",
                "\r\n",
                "list_html = get_htmldata(news, '### Laborbestätigte Todesfälle','### Tests und Anteil positive Tests')\r\n",
                "for line in list_html:\r\n",
                "    if(line is not None):\r\n",
                "        if re.search('Freitag',line):\r\n",
                "            Todesfälle = int((re.findall('[A-Z][a-z]+\\|\\s\\d{2,}',line)[0]).replace('Vortag| ','').replace('Freitag| ',''))/3\r\n",
                "        else:\r\n",
                "            Todesfälle = (re.findall('[A-Z][a-z]+\\|\\s\\d{2,}',line)[0]).replace('Vortag| ','')\r\n",
                "        break\r\n",
                "\r\n",
                "mongodb_doc = {\r\n",
                "    'Datum'             : Datum, \r\n",
                "    'Neue Fälle'        : Fälle,\r\n",
                "    'Hospitalisationen' : Hospitalisationen,\r\n",
                "    'Todesfälle'        : Todesfälle\r\n",
                "}\r\n",
                "\r\n",
                "print(mongodb_doc)\r\n",
                "add_document(connectionstring, 'JupyterNB', 'Covid19', mongodb_doc)"
            ],
            "metadata": {
                "azdata_cell_guid": "e056659e-2ab5-43c5-9423-866a70d98f5b",
                "tags": [
                    "hide_input"
                ]
            },
            "outputs": [],
            "execution_count": null
        },
        {
            "cell_type": "markdown",
            "source": [
                "Add manual documents"
            ],
            "metadata": {
                "azdata_cell_guid": "332b9220-6309-488b-a9bc-501e9cd5a84b"
            }
        },
        {
            "cell_type": "code",
            "source": [
                "'''\n",
                "def add_document(connectionstring, mongodatabase, collection, document):\n",
                "    '''Connect to MongoDB and add a document'''\n",
                "    import pymongo\n",
                "    mongo_client = pymongo.MongoClient(connectionstring)\n",
                "    mongo_db     = mongo_client[mongodatabase]\n",
                "    mongo_col    = mongo_db[collection]\n",
                "    mongo_col.insert_one(document)\n",
                "    for doc in mongo_col.find():\n",
                "        print(doc)\n",
                "\n",
                "    mongo_client.close()\n",
                "\n",
                "credentials = input('user:password')\n",
                "connectionstring = \"mongodb+srv://\"+credentials+\"@cluster0.epl3x.mongodb.net/?retryWrites=true&w=majority\"\n",
                "add_document(connectionstring, 'JupyterNB', 'Covid19', { \"Datum\": \"05.04.2021\", \"Neue Fälle\": \"909\", \"Hospitalisationen\": \"7\", \"Todesfälle\": \"4\" })\n",
                "'''"
            ],
            "metadata": {
                "azdata_cell_guid": "78de6faa-5591-4e37-b10c-7dc559feca06",
                "tags": [
                    "hide_input"
                ]
            },
            "outputs": [],
            "execution_count": null
        },
        {
            "cell_type": "markdown",
            "source": [
                "Code mit <mark>Run Cell</mark> ausführen um die MongoDB abzufragen."
            ],
            "metadata": {
                "azdata_cell_guid": "97ebb995-e6ad-41bc-8039-89453eb2267e"
            }
        },
        {
            "cell_type": "code",
            "source": [
                "def get_collection(connectionstring, database, collection):\r\n",
                "\r\n",
                "    '''Connect to MongoDB and return data'''\r\n",
                "    import pymongo, dns\r\n",
                "    mongo_client = pymongo.MongoClient(connectionstring)\r\n",
                "    mongo_db     = mongo_client[database]\r\n",
                "    mongo_col    = mongo_db[collection]\r\n",
                "    mongo_client.close()\r\n",
                "    return mongo_col.find()\r\n",
                "\r\n",
                "\r\n",
                "import pandas as pd\r\n",
                "import matplotlib\r\n",
                "import datetime\r\n",
                "\r\n",
                "result = []\r\n",
                "credentials = input('user:password')\r\n",
                "connectionstring = \"mongodb+srv://\"+credentials+\"@cluster0.epl3x.mongodb.net/?retryWrites=true&w=majority\"\r\n",
                "for doc in get_collection(connectionstring, 'JupyterNB', 'Covid19'):\r\n",
                "    thisdict = {     \r\n",
                "            #'UUID'              : doc['_id'],                           \r\n",
                "            'Datum'             : datetime.datetime.strptime(doc['Datum'], '%d.%m.%Y'),\r\n",
                "            'Neue Fälle'        : int(doc['Neue Fälle']),\r\n",
                "            'Hospitalisationen' : int(doc['Hospitalisationen']),\r\n",
                "            'Todesfälle'        : int(doc['Todesfälle']),\r\n",
                "    }\r\n",
                "    result.append(thisdict)\r\n",
                "\r\n",
                "# create a data frame set\r\n",
                "df = pd.DataFrame(result)\r\n",
                "# print out last 7 records\r\n",
                "df.tail(7)"
            ],
            "metadata": {
                "azdata_cell_guid": "7450fdbc-61b4-49a0-8f89-2be45e41b751",
                "tags": [
                    "hide_input"
                ]
            },
            "outputs": [
                {
                    "data": {
                        "text/plain": "        Datum  Neue Fälle  Hospitalisationen  Todesfälle\n10 2021-04-02        2250                109          23\n11 2021-04-03        1302                 38           5\n12 2021-04-04         981                 25           5\n13 2021-04-05         909                  7           4\n14 2021-04-07        2301                112          21\n15 2021-04-08        2449                156          20\n16 2021-04-09        2519                134          12",
                        "text/html": "<div>\n<style scoped>\n    .dataframe tbody tr th:only-of-type {\n        vertical-align: middle;\n    }\n\n    .dataframe tbody tr th {\n        vertical-align: top;\n    }\n\n    .dataframe thead th {\n        text-align: right;\n    }\n</style>\n<table border=\"1\" class=\"dataframe\">\n  <thead>\n    <tr style=\"text-align: right;\">\n      <th></th>\n      <th>Datum</th>\n      <th>Neue Fälle</th>\n      <th>Hospitalisationen</th>\n      <th>Todesfälle</th>\n    </tr>\n  </thead>\n  <tbody>\n    <tr>\n      <th>10</th>\n      <td>2021-04-02</td>\n      <td>2250</td>\n      <td>109</td>\n      <td>23</td>\n    </tr>\n    <tr>\n      <th>11</th>\n      <td>2021-04-03</td>\n      <td>1302</td>\n      <td>38</td>\n      <td>5</td>\n    </tr>\n    <tr>\n      <th>12</th>\n      <td>2021-04-04</td>\n      <td>981</td>\n      <td>25</td>\n      <td>5</td>\n    </tr>\n    <tr>\n      <th>13</th>\n      <td>2021-04-05</td>\n      <td>909</td>\n      <td>7</td>\n      <td>4</td>\n    </tr>\n    <tr>\n      <th>14</th>\n      <td>2021-04-07</td>\n      <td>2301</td>\n      <td>112</td>\n      <td>21</td>\n    </tr>\n    <tr>\n      <th>15</th>\n      <td>2021-04-08</td>\n      <td>2449</td>\n      <td>156</td>\n      <td>20</td>\n    </tr>\n    <tr>\n      <th>16</th>\n      <td>2021-04-09</td>\n      <td>2519</td>\n      <td>134</td>\n      <td>12</td>\n    </tr>\n  </tbody>\n</table>\n</div>"
                    },
                    "metadata": {},
                    "execution_count": 3,
                    "output_type": "execute_result"
                }
            ],
            "execution_count": 3
        },
        {
            "cell_type": "code",
            "source": [
                "# Out charts\r\n",
                "import re\r\n",
                "df = pd.DataFrame(result)\r\n",
                "count_of_datum = df.Datum.count()\r\n",
                "sum_of_new = df['Neue Fälle'].sum()\r\n",
                "first_value = str(re.findall('\\d{4}\\-\\d{2}\\-\\d{2}', str(df.Datum.values[0]))[0])\r\n",
                "print('{0}Summe neue Fälle: {1}, Durchschnitt seit {3}: {2}{4}'.format(colors.fg.green, str(sum_of_new), str(int(sum_of_new / count_of_datum)), first_value, colors.reset))\r\n",
                "# Print data frame set as line chart\r\n",
                "df.plot.line(x=\"Datum\", y=[\"Neue Fälle\"], title=\"Laborbestätige Fälle\", grid=True, legend=False)\r\n",
                "df.plot.bar(x=\"Datum\", y=[\"Hospitalisationen\",\"Todesfälle\"], title=\"Laborbestätigte Hospitalisierungen und Todesfälle\", grid=True)"
            ],
            "metadata": {
                "azdata_cell_guid": "fcdc6f15-902e-42a3-859d-ea8a7473c446",
                "tags": [
                    "hide_input"
                ]
            },
            "outputs": [
                {
                    "name": "stdout",
                    "text": "\u001b[32mSumme neue Fälle: 30776, Durchschnitt seit 2021-03-23: 1810\u001b[0m\n",
                    "output_type": "stream"
                },
                {
                    "data": {
                        "text/plain": "<Figure size 432x288 with 1 Axes>",
                        "image/png": "[encoded data removed]"
                    },
                    "metadata": {
                        "needs_background": "light"
                    },
                    "output_type": "display_data"
                },
                {
                    "data": {
                        "text/plain": "<Figure size 432x288 with 1 Axes>",
                        "image/png": "[encoded data removed]"
                    },
                    "metadata": {
                        "needs_background": "light"
                    },
                    "output_type": "display_data"
                },
                {
                    "data": {
                        "text/plain": "<AxesSubplot:title={'center':'Laborbestätigte Hospitalisierungen und Todesfälle'}, xlabel='Datum'>"
                    },
                    "metadata": {},
                    "execution_count": 8,
                    "output_type": "execute_result"
                }
            ],
            "execution_count": 8
        },
        {
            "cell_type": "markdown",
            "source": [
                "## Südostschweiz\n",
                "Code  mit <mark> Run Cell </mark> ausführen um die Südostschweiz News anzuzeigen."
            ],
            "metadata": {
                "azdata_cell_guid": "380735d8-63b5-4136-886b-eebd7a8f69a2"
            }
        },
        {
            "cell_type": "code",
            "source": [
                "news = ['https://www.suedostschweiz.ch']\r\n",
                "\r\n",
                "def newsreader(url, links=True, images=True, emphasis=True):\r\n",
                "    '''Reads the given url and print a markdown'''\r\n",
                "    import requests, html2text\r\n",
                "    from datetime import datetime\r\n",
                "    now = datetime.now()\r\n",
                "\r\n",
                "    response = requests.get(url)\r\n",
                "    if(response.status_code == 200):\r\n",
                "        \r\n",
                "        print(colors.bold + colors.fg.blue +'{1}{0}{4} {2}{0}{3}{0}'.format('\\n', '>' * 100, f'NEWS FROM: {site}', '<' * 100, now.strftime(\"%Y-%m-%d %H:%M:%S\")) + colors.reset)\r\n",
                "\r\n",
                "        html = response.content.decode('utf-8')\r\n",
                "\r\n",
                "        md = html2text.HTML2Text()\r\n",
                "        md.ignore_links    = not links\r\n",
                "        md.ignore_images   = not images\r\n",
                "        md.ignore_emphasis = not emphasis\r\n",
                "        md.body_width      = 100\r\n",
                "        \r\n",
                "        data  = md.handle(html)\r\n",
                "\r\n",
                "        #read from '# Startseite'\r\n",
                "        start  = data.find('# Startseite')\r\n",
                "        end    = data.find('## 2\\. GR Template Menu')\r\n",
                "        stream = [(data[start:end])]\r\n",
                "        \r\n",
                "        for i in stream:\r\n",
                "            if(i is not None):\r\n",
                "                line = i.replace('ABO\\n\\n','').replace('Sponsored Content\\n\\n','').replace('video\\n\\n','').replace('bilder\\n\\n','').replace('Mehr\\n\\n','').replace('Bildergalerie\\n\\n','')\r\n",
                "                print('{0}{1}{2}'.format(colors.fg.green, line, colors.reset))\r\n",
                "\r\n",
                "        return stream\r\n",
                "\r\n",
                "def savefile(filepath, filename, stream):\r\n",
                "    '''Save the stream to the file'''\r\n",
                "    import os\r\n",
                "\r\n",
                "    if not os.path.exists(filepath):\r\n",
                "        os.makedirs(filepath)\r\n",
                "\r\n",
                "    file = open(filepath + '\\\\' + filename, 'w')\r\n",
                "    for i in stream:\r\n",
                "        file.write(i)\r\n",
                "\r\n",
                "    file.close()\r\n",
                "\r\n",
                "for site in news:\r\n",
                "    stream = newsreader(site, False, False)\r\n",
                "    #savefile('D:\\\\temp', 'somedia.md', stream)\r\n",
                ""
            ],
            "metadata": {
                "azdata_cell_guid": "9895d271-ca99-46c4-a050-643b17e91188",
                "tags": [
                    "hide_input"
                ]
            },
            "outputs": [],
            "execution_count": null
        }
    ]
}
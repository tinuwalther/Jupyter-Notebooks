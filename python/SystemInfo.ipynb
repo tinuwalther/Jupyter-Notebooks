{
    "metadata": {
        "kernelspec": {
            "name": "python3",
            "display_name": "Python 3",
            "language": "python"
        },
        "language_info": {
            "name": "python",
            "version": "3.9.2",
            "mimetype": "text/x-python",
            "codemirror_mode": {
                "name": "ipython",
                "version": 3
            },
            "pygments_lexer": "ipython3",
            "nbconvert_exporter": "python",
            "file_extension": ".py"
        }
    },
    "nbformat_minor": 2,
    "nbformat": 4,
    "cells": [
        {
            "cell_type": "markdown",
            "source": [
                "# System Info\n",
                "\n",
                "References: [thepythoncode.com](https://www.thepythoncode.com/article/get-hardware-system-information-python)\n",
                "\n",
                "Open a shell an enter install psutil\n",
                "\n",
                "```\n",
                "pip3 install psutil\n",
                "```"
            ],
            "metadata": {
                "azdata_cell_guid": "8cd03ff6-0af0-426d-bb0e-f7c875282840"
            }
        },
        {
            "cell_type": "markdown",
            "source": [
                "Let's make a function that converts large number of bytes into a scaled format (e.g in kilo, mega, giga, etc.):"
            ],
            "metadata": {
                "azdata_cell_guid": "e755a608-3d34-4a4f-b590-801fc1f18359"
            }
        },
        {
            "cell_type": "code",
            "source": [
                "import psutil\n",
                "import platform\n",
                "import pandas as pd\n",
                "from datetime import datetime\n",
                "\n",
                "def get_size(bytes, suffix=\"B\"):\n",
                "    \"\"\"\n",
                "    Scale bytes to its proper format\n",
                "    e.g:\n",
                "        1253656 => '1.20MB'\n",
                "        1253656678 => '1.17GB'\n",
                "    \"\"\"\n",
                "    factor = 1024\n",
                "    for unit in [\"\", \"K\", \"M\", \"G\", \"T\", \"P\"]:\n",
                "        if bytes < factor:\n",
                "            return f\"{bytes:.2f}{unit}{suffix}\"\n",
                "        bytes /= factor\n",
                ""
            ],
            "metadata": {
                "azdata_cell_guid": "7d6f5dea-245e-40b2-8ff5-19dda447e7c8",
                "tags": [
                    "hide_input"
                ]
            },
            "outputs": [],
            "execution_count": 157
        },
        {
            "cell_type": "markdown",
            "source": [
                "## System Information\n",
                "\n",
                "We gonna need platform module here:"
            ],
            "metadata": {
                "azdata_cell_guid": "e0beb2da-8d77-488a-9c34-92913b5c5eec"
            }
        },
        {
            "cell_type": "markdown",
            "source": [
                "### Platform information"
            ],
            "metadata": {
                "azdata_cell_guid": "737a1322-d25c-4f29-9184-8a885ec21b71"
            }
        },
        {
            "cell_type": "code",
            "source": [
                "def get_sysinfo():\n",
                "    \"\"\"\n",
                "    Get some system information from platform module\n",
                "    \"\"\"\n",
                "    # Get systeminfo\n",
                "    uname = platform.uname()\n",
                "\n",
                "    # Boot Time\n",
                "    boot_time_timestamp = psutil.boot_time()\n",
                "    boot_time_formated  = datetime.fromtimestamp(boot_time_timestamp)\n",
                "    \n",
                "    table_data = [{\n",
                "        'System'   : uname.system,\n",
                "        'Node Name': uname.node,\n",
                "        'Release'  : uname.release,\n",
                "        'Version'  : uname.version,\n",
                "        'Machine'  : uname.machine,\n",
                "        'Processor': uname.processor,\n",
                "        'Boot Time': boot_time_formated,\n",
                "    }]\n",
                "\n",
                "    return pd.DataFrame(data = table_data)"
            ],
            "metadata": {
                "azdata_cell_guid": "47a9a9ad-044a-4620-990c-9e470146a354",
                "tags": [
                    "hide_input"
                ]
            },
            "outputs": [],
            "execution_count": 158
        },
        {
            "cell_type": "markdown",
            "source": [
                "### CPU information"
            ],
            "metadata": {
                "azdata_cell_guid": "f5fa01f0-95a4-44b2-a4f8-838027eb9a91"
            }
        },
        {
            "cell_type": "code",
            "source": [
                "def get_cpu_info(detailed = False):\n",
                "    \"\"\"\n",
                "    Get some CPU information, such as total number of cores, usage, etc\n",
                "    \"\"\"\n",
                "    cpufreq = psutil.cpu_freq()\n",
                "\n",
                "    if detailed:\n",
                "        table_data = [{\n",
                "            \"Physical cores\"    : psutil.cpu_count(logical=False),\n",
                "            \"Total cores\"       : psutil.cpu_count(logical=True),\n",
                "            \"Max Frequency\"     : f\"{cpufreq.max:.0f}Mhz\",\n",
                "            \"Min Frequency\"     : f\"{cpufreq.min:.0f}Mhz\",\n",
                "            \"Current Frequency\" : f\"{cpufreq.current:.0f}Mhz\",\n",
                "            \"Total CPU Usage\"  : f\"{psutil.cpu_percent():.2f}%\",\n",
                "        }]\n",
                "        # CPU usage\n",
                "        print(\"CPU Usage Per Core:\")\n",
                "        for i, percentage in enumerate(psutil.cpu_percent(percpu=True, interval=1)):\n",
                "            print(f\"Core {i}:\\t{percentage}%\")\n",
                "    else:\n",
                "        table_data = [{\n",
                "            \"Physical cores\"   : psutil.cpu_count(logical=False),\n",
                "            \"Total cores\"      : psutil.cpu_count(logical=True),\n",
                "            \"Current Frequency\": f\"{cpufreq.current:.0f}Mhz\",\n",
                "            \"Total CPU Usage\"  : f\"{psutil.cpu_percent():.2f}%\",\n",
                "        }]      \n",
                "\n",
                "    return pd.DataFrame(data = table_data)"
            ],
            "metadata": {
                "azdata_cell_guid": "b3e44a98-0a42-443f-87e2-0a9c88a4ba7d",
                "tags": [
                    "hide_input"
                ]
            },
            "outputs": [],
            "execution_count": 159
        },
        {
            "cell_type": "markdown",
            "source": [
                "### Memory information"
            ],
            "metadata": {
                "azdata_cell_guid": "f1b3c622-5661-4694-86ff-15b3aa4b5056"
            }
        },
        {
            "cell_type": "code",
            "source": [
                "def get_memory_info():\n",
                "    \"\"\"\n",
                "    Get memory information\n",
                "    \"\"\"\n",
                "    # get the memory details\n",
                "    svmem = psutil.virtual_memory()\n",
                "    table_data = [{\n",
                "        \"Total\"     : f\"{get_size(svmem.total)}\",\n",
                "        \"Available\" : f\"{get_size(svmem.available)}\",\n",
                "        \"Used\"      : f\"{get_size(svmem.used)}\",\n",
                "        \"Percentage\": f\"{svmem.percent}%\",\n",
                "    }]      \n",
                "\n",
                "    return pd.DataFrame(data = table_data)      \n",
                "\n",
                "def get_swap_info():\n",
                "    \"\"\"\n",
                "    Get swap information\n",
                "    \"\"\"\n",
                "    # get the swap memory details (if exists)\n",
                "    swap = psutil.swap_memory()\n",
                "    table_data = [{\n",
                "        \"Total\"     : f\"{get_size(swap.total)}\",\n",
                "        \"Free\"      : f\"{get_size(swap.free)}\",\n",
                "        \"Used\"      : f\"{get_size(swap.used)}\",\n",
                "        \"Percentage\": f\"{swap.percent}%\",\n",
                "    }]      \n",
                "\n",
                "    return pd.DataFrame(data = table_data)    "
            ],
            "metadata": {
                "azdata_cell_guid": "9d3cd3ea-bf9b-43af-917f-da61174774c5",
                "tags": [
                    "hide_input"
                ]
            },
            "outputs": [],
            "execution_count": 160
        },
        {
            "cell_type": "markdown",
            "source": [
                "### Disk information"
            ],
            "metadata": {
                "azdata_cell_guid": "384396b8-6e69-4933-8e61-b9d94e1a3ea6"
            }
        },
        {
            "cell_type": "code",
            "source": [
                "def get_disk_info():\n",
                "    \"\"\"\n",
                "    Get disk information\n",
                "    \"\"\"\n",
                "    partitions = psutil.disk_partitions()\n",
                "    table_data = []\n",
                "    for partition in partitions:\n",
                "        try:\n",
                "            partition_usage = psutil.disk_usage(partition.mountpoint)\n",
                "        except PermissionError:\n",
                "            # this can be catched due to the disk that\n",
                "            # isn't ready\n",
                "            continue\n",
                "\n",
                "        thisdict = {  \n",
                "            \"Device\"          : f\"{partition.device}\",\n",
                "            \"Mountpoint\"      : f\"{partition.mountpoint}\",\n",
                "            \"File system type\": f\"{partition.fstype}\",\n",
                "            \"Total Size\"      : f\"{get_size(partition_usage.total)}\",\n",
                "            \"Used\"            : f\"{get_size(partition_usage.used)}\",\n",
                "            \"Free\"            : f\"{get_size(partition_usage.free)}\",\n",
                "            \"Percentage\"      : f\"{partition_usage.percent}%\",\n",
                "        }\n",
                "        table_data.append(thisdict)\n",
                "\n",
                "    return pd.DataFrame(data = table_data)    "
            ],
            "metadata": {
                "azdata_cell_guid": "c4f407b8-87c1-48b6-b54a-3c57b62c12be",
                "tags": [
                    "hide_input"
                ]
            },
            "outputs": [],
            "execution_count": 161
        },
        {
            "cell_type": "markdown",
            "source": [
                "### Network information"
            ],
            "metadata": {
                "azdata_cell_guid": "d2544f77-4bba-46c5-80f1-07aa87e91076"
            }
        },
        {
            "cell_type": "code",
            "source": [
                "def get_net_info():\n",
                "    \"\"\"\n",
                "    Get network information\n",
                "    \"\"\"\n",
                "    # get all network interfaces (virtual and physical)\n",
                "    table_data = []\n",
                "    if_addrs = psutil.net_if_addrs()\n",
                "    for interface_name, interface_addresses in if_addrs.items():\n",
                "        for address in interface_addresses:\n",
                "            if str(address.family) == 'AddressFamily.AF_INET':\n",
                "                thisdict = {  \n",
                "                    \"Interface\"   : f\"{interface_name}\",\n",
                "                    \"IP Address\"  : f\"{address.address}\",\n",
                "                    \"Netmask\"     : f\"{address.netmask}\",\n",
                "                    \"Broadcast IP\": f\"{address.broadcast}\",\n",
                "                }\n",
                "            elif str(address.family) == 'AddressFamily.AF_PACKET':\n",
                "                thisdict = {  \n",
                "                    \"Interface\"    : f\"{interface_name}\",\n",
                "                    \"MAC Address\"  : f\"{address.address}\",\n",
                "                    \"Netmask\"      : f\"{address.netmask}\",\n",
                "                    \"Broadcast MAC\": f\"{address.broadcast}\",\n",
                "                }\n",
                "        table_data.append(thisdict)\n",
                "\n",
                "    return pd.DataFrame(data = table_data)"
            ],
            "metadata": {
                "azdata_cell_guid": "848fb7d8-420a-44f7-a74e-912e6e64a2d0",
                "tags": [
                    "hide_input"
                ]
            },
            "outputs": [],
            "execution_count": 163
        },
        {
            "cell_type": "markdown",
            "source": [
                "### Print all information"
            ],
            "metadata": {
                "azdata_cell_guid": "74c6609e-90f4-4a23-8b70-939d6a44e196"
            }
        },
        {
            "cell_type": "code",
            "source": [
                "totallength = 110\n",
                "\n",
                "# let's print system information\n",
                "displaystr = \"System Information\"\n",
                "sidelengt = ((totallength - len(displaystr)) / 2)\n",
                "print(\"=\"*int(sidelengt), displaystr, \"=\"*int(sidelengt))\n",
                "display(get_sysinfo())\n",
                "\n",
                "# let's print CPU information\n",
                "displaystr = \"CPU Information\"\n",
                "sidelengt = ((totallength - len(displaystr)) / 2)\n",
                "print(\"=\"*int(sidelengt), displaystr, \"=\"*int(sidelengt))\n",
                "display(get_cpu_info())\n",
                "\n",
                "# let's print memory information\n",
                "displaystr = \"Memory Information\"\n",
                "sidelengt = ((totallength - len(displaystr)) / 2)\n",
                "print(\"=\"*int(sidelengt), displaystr, \"=\"*int(sidelengt))\n",
                "display(get_memory_info())\n",
                "\n",
                "# let's print swap information\n",
                "displaystr = \"Swap Information\"\n",
                "sidelengt = ((totallength - len(displaystr)) / 2)\n",
                "print(\"=\"*int(sidelengt), displaystr, \"=\"*int(sidelengt))\n",
                "display(get_swap_info())\n",
                "\n",
                "# let's print Disk information\n",
                "displaystr = \"Disk Information\"\n",
                "sidelengt = ((totallength - len(displaystr)) / 2)\n",
                "print(\"=\"*int(sidelengt), displaystr, \"=\"*int(sidelengt))\n",
                "display(get_disk_info())\n",
                "\n",
                "# get IO statistics since boot\n",
                "disk_io = psutil.disk_io_counters()\n",
                "print(f\"Total read : {get_size(disk_io.read_bytes)}\")\n",
                "print(f\"Total write: {get_size(disk_io.write_bytes)}\")\n",
                "\n",
                "# let's print Network information\n",
                "displaystr = \"Network Information\"\n",
                "sidelengt = ((totallength - len(displaystr)) / 2)\n",
                "print(\"=\"*int(sidelengt), displaystr, \"=\"*int(sidelengt))\n",
                "display(get_net_info())\n",
                "\n",
                "# get IO statistics since boot\n",
                "net_io = psutil.net_io_counters()\n",
                "print(f\"Total Bytes Sent    : {get_size(net_io.bytes_sent)}\")\n",
                "print(f\"Total Bytes Received: {get_size(net_io.bytes_recv)}\")\n",
                "\n",
                "displaystr = \"END\"\n",
                "sidelengt = ((totallength - len(displaystr)) / 2)\n",
                "print(\"=\"*int(sidelengt), displaystr, \"=\"*int(sidelengt))"
            ],
            "metadata": {
                "azdata_cell_guid": "63726da2-ea3a-49e2-a852-0208b44a8d3c",
                "tags": [
                    "hide_input"
                ]
            },
            "outputs": [
                {
                    "name": "stdout",
                    "text": "============================================== System Information ==============================================\n",
                    "output_type": "stream"
                },
                {
                    "data": {
                        "text/plain": "   System        Node Name Release  \\\n0  Darwin  tinus-imac.home  20.3.0   \n\n                                             Version Machine Processor  \\\n0  Darwin Kernel Version 20.3.0: Thu Jan 21 00:07...  x86_64      i386   \n\n            Boot Time  \n0 2021-05-20 07:54:08  ",
                        "text/html": "<div>\n<style scoped>\n    .dataframe tbody tr th:only-of-type {\n        vertical-align: middle;\n    }\n\n    .dataframe tbody tr th {\n        vertical-align: top;\n    }\n\n    .dataframe thead th {\n        text-align: right;\n    }\n</style>\n<table border=\"1\" class=\"dataframe\">\n  <thead>\n    <tr style=\"text-align: right;\">\n      <th></th>\n      <th>System</th>\n      <th>Node Name</th>\n      <th>Release</th>\n      <th>Version</th>\n      <th>Machine</th>\n      <th>Processor</th>\n      <th>Boot Time</th>\n    </tr>\n  </thead>\n  <tbody>\n    <tr>\n      <th>0</th>\n      <td>Darwin</td>\n      <td>tinus-imac.home</td>\n      <td>20.3.0</td>\n      <td>Darwin Kernel Version 20.3.0: Thu Jan 21 00:07...</td>\n      <td>x86_64</td>\n      <td>i386</td>\n      <td>2021-05-20 07:54:08</td>\n    </tr>\n  </tbody>\n</table>\n</div>"
                    },
                    "metadata": {},
                    "output_type": "display_data"
                },
                {
                    "name": "stdout",
                    "text": "=============================================== CPU Information ===============================================\n",
                    "output_type": "stream"
                },
                {
                    "data": {
                        "text/plain": "   Physical cores  Total cores Current Frequency Total CPU Usage\n0               4            8           3600Mhz          39.00%",
                        "text/html": "<div>\n<style scoped>\n    .dataframe tbody tr th:only-of-type {\n        vertical-align: middle;\n    }\n\n    .dataframe tbody tr th {\n        vertical-align: top;\n    }\n\n    .dataframe thead th {\n        text-align: right;\n    }\n</style>\n<table border=\"1\" class=\"dataframe\">\n  <thead>\n    <tr style=\"text-align: right;\">\n      <th></th>\n      <th>Physical cores</th>\n      <th>Total cores</th>\n      <th>Current Frequency</th>\n      <th>Total CPU Usage</th>\n    </tr>\n  </thead>\n  <tbody>\n    <tr>\n      <th>0</th>\n      <td>4</td>\n      <td>8</td>\n      <td>3600Mhz</td>\n      <td>39.00%</td>\n    </tr>\n  </tbody>\n</table>\n</div>"
                    },
                    "metadata": {},
                    "output_type": "display_data"
                },
                {
                    "name": "stdout",
                    "text": "============================================== Memory Information ==============================================\n",
                    "output_type": "stream"
                },
                {
                    "data": {
                        "text/plain": "     Total Available    Used Percentage\n0  16.00GB    6.63GB  8.53GB      58.5%",
                        "text/html": "<div>\n<style scoped>\n    .dataframe tbody tr th:only-of-type {\n        vertical-align: middle;\n    }\n\n    .dataframe tbody tr th {\n        vertical-align: top;\n    }\n\n    .dataframe thead th {\n        text-align: right;\n    }\n</style>\n<table border=\"1\" class=\"dataframe\">\n  <thead>\n    <tr style=\"text-align: right;\">\n      <th></th>\n      <th>Total</th>\n      <th>Available</th>\n      <th>Used</th>\n      <th>Percentage</th>\n    </tr>\n  </thead>\n  <tbody>\n    <tr>\n      <th>0</th>\n      <td>16.00GB</td>\n      <td>6.63GB</td>\n      <td>8.53GB</td>\n      <td>58.5%</td>\n    </tr>\n  </tbody>\n</table>\n</div>"
                    },
                    "metadata": {},
                    "output_type": "display_data"
                },
                {
                    "name": "stdout",
                    "text": "=============================================== Swap Information ===============================================\n",
                    "output_type": "stream"
                },
                {
                    "data": {
                        "text/plain": "    Total      Free     Used Percentage\n0  1.00GB  994.75MB  29.25MB       2.9%",
                        "text/html": "<div>\n<style scoped>\n    .dataframe tbody tr th:only-of-type {\n        vertical-align: middle;\n    }\n\n    .dataframe tbody tr th {\n        vertical-align: top;\n    }\n\n    .dataframe thead th {\n        text-align: right;\n    }\n</style>\n<table border=\"1\" class=\"dataframe\">\n  <thead>\n    <tr style=\"text-align: right;\">\n      <th></th>\n      <th>Total</th>\n      <th>Free</th>\n      <th>Used</th>\n      <th>Percentage</th>\n    </tr>\n  </thead>\n  <tbody>\n    <tr>\n      <th>0</th>\n      <td>1.00GB</td>\n      <td>994.75MB</td>\n      <td>29.25MB</td>\n      <td>2.9%</td>\n    </tr>\n  </tbody>\n</table>\n</div>"
                    },
                    "metadata": {},
                    "output_type": "display_data"
                },
                {
                    "name": "stdout",
                    "text": "=============================================== Disk Information ===============================================\n",
                    "output_type": "stream"
                },
                {
                    "data": {
                        "text/plain": "           Device               Mountpoint File system type Total Size  \\\n0  /dev/disk1s5s1                        /             apfs   465.63GB   \n1    /dev/disk1s4       /System/Volumes/VM             apfs   465.63GB   \n2    /dev/disk1s2  /System/Volumes/Preboot             apfs   465.63GB   \n3    /dev/disk1s6   /System/Volumes/Update             apfs   465.63GB   \n4    /dev/disk1s1     /System/Volumes/Data             apfs   465.63GB   \n\n       Used     Free Percentage  \n0   14.02GB  95.80GB      12.8%  \n1    3.00GB  95.80GB       3.0%  \n2  412.00MB  95.80GB       0.4%  \n3    4.07MB  95.80GB       0.0%  \n4  351.67GB  95.80GB      78.6%  ",
                        "text/html": "<div>\n<style scoped>\n    .dataframe tbody tr th:only-of-type {\n        vertical-align: middle;\n    }\n\n    .dataframe tbody tr th {\n        vertical-align: top;\n    }\n\n    .dataframe thead th {\n        text-align: right;\n    }\n</style>\n<table border=\"1\" class=\"dataframe\">\n  <thead>\n    <tr style=\"text-align: right;\">\n      <th></th>\n      <th>Device</th>\n      <th>Mountpoint</th>\n      <th>File system type</th>\n      <th>Total Size</th>\n      <th>Used</th>\n      <th>Free</th>\n      <th>Percentage</th>\n    </tr>\n  </thead>\n  <tbody>\n    <tr>\n      <th>0</th>\n      <td>/dev/disk1s5s1</td>\n      <td>/</td>\n      <td>apfs</td>\n      <td>465.63GB</td>\n      <td>14.02GB</td>\n      <td>95.80GB</td>\n      <td>12.8%</td>\n    </tr>\n    <tr>\n      <th>1</th>\n      <td>/dev/disk1s4</td>\n      <td>/System/Volumes/VM</td>\n      <td>apfs</td>\n      <td>465.63GB</td>\n      <td>3.00GB</td>\n      <td>95.80GB</td>\n      <td>3.0%</td>\n    </tr>\n    <tr>\n      <th>2</th>\n      <td>/dev/disk1s2</td>\n      <td>/System/Volumes/Preboot</td>\n      <td>apfs</td>\n      <td>465.63GB</td>\n      <td>412.00MB</td>\n      <td>95.80GB</td>\n      <td>0.4%</td>\n    </tr>\n    <tr>\n      <th>3</th>\n      <td>/dev/disk1s6</td>\n      <td>/System/Volumes/Update</td>\n      <td>apfs</td>\n      <td>465.63GB</td>\n      <td>4.07MB</td>\n      <td>95.80GB</td>\n      <td>0.0%</td>\n    </tr>\n    <tr>\n      <th>4</th>\n      <td>/dev/disk1s1</td>\n      <td>/System/Volumes/Data</td>\n      <td>apfs</td>\n      <td>465.63GB</td>\n      <td>351.67GB</td>\n      <td>95.80GB</td>\n      <td>78.6%</td>\n    </tr>\n  </tbody>\n</table>\n</div>"
                    },
                    "metadata": {},
                    "output_type": "display_data"
                },
                {
                    "name": "stdout",
                    "text": "Total read : 22.75GB\nTotal write: 935.33GB\n============================================= Network Information =============================================\n",
                    "output_type": "stream"
                },
                {
                    "data": {
                        "text/plain": "    Interface     IP Address        Netmask    Broadcast IP\n0         lo0      127.0.0.1      255.0.0.0            None\n1         en1  192.168.1.112  255.255.255.0   192.168.1.255\n2   bridge100   192.168.64.1  255.255.255.0  192.168.64.255\n3   bridge100   192.168.64.1  255.255.255.0  192.168.64.255\n4   bridge100   192.168.64.1  255.255.255.0  192.168.64.255\n5   bridge100   192.168.64.1  255.255.255.0  192.168.64.255\n6   bridge100   192.168.64.1  255.255.255.0  192.168.64.255\n7   bridge100   192.168.64.1  255.255.255.0  192.168.64.255\n8   bridge100   192.168.64.1  255.255.255.0  192.168.64.255\n9   bridge100   192.168.64.1  255.255.255.0  192.168.64.255\n10  bridge100   192.168.64.1  255.255.255.0  192.168.64.255\n11  bridge100   192.168.64.1  255.255.255.0  192.168.64.255\n12  bridge100   192.168.64.1  255.255.255.0  192.168.64.255",
                        "text/html": "<div>\n<style scoped>\n    .dataframe tbody tr th:only-of-type {\n        vertical-align: middle;\n    }\n\n    .dataframe tbody tr th {\n        vertical-align: top;\n    }\n\n    .dataframe thead th {\n        text-align: right;\n    }\n</style>\n<table border=\"1\" class=\"dataframe\">\n  <thead>\n    <tr style=\"text-align: right;\">\n      <th></th>\n      <th>Interface</th>\n      <th>IP Address</th>\n      <th>Netmask</th>\n      <th>Broadcast IP</th>\n    </tr>\n  </thead>\n  <tbody>\n    <tr>\n      <th>0</th>\n      <td>lo0</td>\n      <td>127.0.0.1</td>\n      <td>255.0.0.0</td>\n      <td>None</td>\n    </tr>\n    <tr>\n      <th>1</th>\n      <td>en1</td>\n      <td>192.168.1.112</td>\n      <td>255.255.255.0</td>\n      <td>192.168.1.255</td>\n    </tr>\n    <tr>\n      <th>2</th>\n      <td>bridge100</td>\n      <td>192.168.64.1</td>\n      <td>255.255.255.0</td>\n      <td>192.168.64.255</td>\n    </tr>\n    <tr>\n      <th>3</th>\n      <td>bridge100</td>\n      <td>192.168.64.1</td>\n      <td>255.255.255.0</td>\n      <td>192.168.64.255</td>\n    </tr>\n    <tr>\n      <th>4</th>\n      <td>bridge100</td>\n      <td>192.168.64.1</td>\n      <td>255.255.255.0</td>\n      <td>192.168.64.255</td>\n    </tr>\n    <tr>\n      <th>5</th>\n      <td>bridge100</td>\n      <td>192.168.64.1</td>\n      <td>255.255.255.0</td>\n      <td>192.168.64.255</td>\n    </tr>\n    <tr>\n      <th>6</th>\n      <td>bridge100</td>\n      <td>192.168.64.1</td>\n      <td>255.255.255.0</td>\n      <td>192.168.64.255</td>\n    </tr>\n    <tr>\n      <th>7</th>\n      <td>bridge100</td>\n      <td>192.168.64.1</td>\n      <td>255.255.255.0</td>\n      <td>192.168.64.255</td>\n    </tr>\n    <tr>\n      <th>8</th>\n      <td>bridge100</td>\n      <td>192.168.64.1</td>\n      <td>255.255.255.0</td>\n      <td>192.168.64.255</td>\n    </tr>\n    <tr>\n      <th>9</th>\n      <td>bridge100</td>\n      <td>192.168.64.1</td>\n      <td>255.255.255.0</td>\n      <td>192.168.64.255</td>\n    </tr>\n    <tr>\n      <th>10</th>\n      <td>bridge100</td>\n      <td>192.168.64.1</td>\n      <td>255.255.255.0</td>\n      <td>192.168.64.255</td>\n    </tr>\n    <tr>\n      <th>11</th>\n      <td>bridge100</td>\n      <td>192.168.64.1</td>\n      <td>255.255.255.0</td>\n      <td>192.168.64.255</td>\n    </tr>\n    <tr>\n      <th>12</th>\n      <td>bridge100</td>\n      <td>192.168.64.1</td>\n      <td>255.255.255.0</td>\n      <td>192.168.64.255</td>\n    </tr>\n  </tbody>\n</table>\n</div>"
                    },
                    "metadata": {},
                    "output_type": "display_data"
                },
                {
                    "name": "stdout",
                    "text": "Total Bytes Sent    : 152.78MB\nTotal Bytes Received: 419.16MB\n===================================================== END =====================================================\n",
                    "output_type": "stream"
                }
            ],
            "execution_count": 165
        }
    ]
}
{
    "metadata": {
        "kernelspec": {
            "name": "python3",
            "display_name": "Python 3",
            "language": "python"
        },
        "language_info": {
            "name": "python",
            "version": "3.9.2",
            "mimetype": "text/x-python",
            "codemirror_mode": {
                "name": "ipython",
                "version": 3
            },
            "pygments_lexer": "ipython3",
            "nbconvert_exporter": "python",
            "file_extension": ".py"
        }
    },
    "nbformat_minor": 2,
    "nbformat": 4,
    "cells": [
        {
            "cell_type": "markdown",
            "source": [
                "# System Info\n",
                "\n",
                "References: [thepythoncode.com](https://www.thepythoncode.com/article/get-hardware-system-information-python)\n",
                "\n",
                "Open a shell an enter install psutil\n",
                "\n",
                "```\n",
                "pip3 install psutil\n",
                "```"
            ],
            "metadata": {
                "azdata_cell_guid": "8cd03ff6-0af0-426d-bb0e-f7c875282840"
            }
        },
        {
            "cell_type": "markdown",
            "source": [
                "Let's make a function that converts large number of bytes into a scaled format (e.g in kilo, mega, giga, etc.):"
            ],
            "metadata": {
                "azdata_cell_guid": "e755a608-3d34-4a4f-b590-801fc1f18359"
            }
        },
        {
            "cell_type": "code",
            "source": [
                "import psutil\n",
                "import platform\n",
                "import pandas as pd\n",
                "from datetime import datetime\n",
                "\n",
                "def get_size(bytes, suffix=\"B\"):\n",
                "    \"\"\"\n",
                "    Scale bytes to its proper format\n",
                "    e.g:\n",
                "        1253656 => '1.20MB'\n",
                "        1253656678 => '1.17GB'\n",
                "    \"\"\"\n",
                "    factor = 1024\n",
                "    for unit in [\"\", \"K\", \"M\", \"G\", \"T\", \"P\"]:\n",
                "        if bytes < factor:\n",
                "            return f\"{bytes:.2f}{unit}{suffix}\"\n",
                "        bytes /= factor\n",
                ""
            ],
            "metadata": {
                "azdata_cell_guid": "7d6f5dea-245e-40b2-8ff5-19dda447e7c8",
                "tags": [
                    "hide_input"
                ]
            },
            "outputs": [],
            "execution_count": 198
        },
        {
            "cell_type": "markdown",
            "source": [
                "## System Information\n",
                "\n",
                "We gonna need platform module here:"
            ],
            "metadata": {
                "azdata_cell_guid": "e0beb2da-8d77-488a-9c34-92913b5c5eec"
            }
        },
        {
            "cell_type": "markdown",
            "source": [
                "### Platform information"
            ],
            "metadata": {
                "azdata_cell_guid": "737a1322-d25c-4f29-9184-8a885ec21b71"
            }
        },
        {
            "cell_type": "code",
            "source": [
                "def get_sysinfo():\n",
                "    \"\"\"\n",
                "    Get some system information from platform module\n",
                "    \"\"\"\n",
                "    # Get systeminfo\n",
                "    uname = platform.uname()\n",
                "\n",
                "    # Boot Time\n",
                "    boot_time_timestamp = psutil.boot_time()\n",
                "    boot_time_formated  = datetime.fromtimestamp(boot_time_timestamp)\n",
                "\n",
                "    table_data = {\n",
                "        'Systeminfo' : ['System','Node Name','Release','Version','Machine','Processor','Boot Time'],\n",
                "        'Value': [uname.system,uname.node,uname.release,uname.version,uname.machine,uname.processor,boot_time_formated],\n",
                "    }\n",
                "\n",
                "    return pd.DataFrame(data = table_data)"
            ],
            "metadata": {
                "azdata_cell_guid": "47a9a9ad-044a-4620-990c-9e470146a354",
                "tags": [
                    "hide_input"
                ]
            },
            "outputs": [],
            "execution_count": 199
        },
        {
            "cell_type": "markdown",
            "source": [
                "### CPU information"
            ],
            "metadata": {
                "azdata_cell_guid": "f5fa01f0-95a4-44b2-a4f8-838027eb9a91"
            }
        },
        {
            "cell_type": "code",
            "source": [
                "def get_cpu_info():\n",
                "    \"\"\"\n",
                "    Get some CPU information, such as total number of cores, usage, etc\n",
                "    \"\"\"\n",
                "    cpufreq = psutil.cpu_freq()\n",
                "    table_data = {\n",
                "        'CPUs' : [\"Physical cores\",\"Total cores\",\"Max Frequency\",\"Min Frequency\",\"Current Frequency\",\"Total CPU Usage\"],\n",
                "        'Value': [psutil.cpu_count(logical=False),psutil.cpu_count(logical=True),f\"{cpufreq.max:.0f}Mhz\",f\"{cpufreq.min:.0f}Mhz\",f\"{cpufreq.current:.0f}Mhz\",f\"{psutil.cpu_percent():.2f}%\"],\n",
                "    }\n",
                "\n",
                "    return pd.DataFrame(data = table_data)\n",
                "\n",
                "def get_cpu_info_det():\n",
                "    \"\"\"\n",
                "    Get some CPU information, such as total number of cores, usage, etc\n",
                "    \"\"\"\n",
                "    cpufreq = psutil.cpu_freq()\n",
                "    cores = []\n",
                "    usage = []\n",
                "    # CPU Usage Per Core\n",
                "    for i, percentage in enumerate(psutil.cpu_percent(percpu=True, interval=1)):\n",
                "        cores.append(f\"Core {i}\")\n",
                "        usage.append(f\"{percentage}%\")\n",
                "\n",
                "    table_data = {\n",
                "        'Core' : cores,\n",
                "        'Usage': usage,\n",
                "    }\n",
                "    return pd.DataFrame(table_data)"
            ],
            "metadata": {
                "azdata_cell_guid": "b3e44a98-0a42-443f-87e2-0a9c88a4ba7d",
                "tags": [
                    "hide_input"
                ]
            },
            "outputs": [],
            "execution_count": 200
        },
        {
            "cell_type": "markdown",
            "source": [
                "### Memory information"
            ],
            "metadata": {
                "azdata_cell_guid": "f1b3c622-5661-4694-86ff-15b3aa4b5056"
            }
        },
        {
            "cell_type": "code",
            "source": [
                "def get_memory_info():\n",
                "    \"\"\"\n",
                "    Get memory information\n",
                "    \"\"\"\n",
                "    # get the memory details\n",
                "    svmem = psutil.virtual_memory()\n",
                "    # get the swap memory details (if exists)\n",
                "    swap = psutil.swap_memory()\n",
                "\n",
                "    table_data = {\n",
                "        'Memory'   : [\"Total\",\"Available\",\"Used\",\"Percentage\"],\n",
                "        'Physical' : [f\"{get_size(svmem.total)}\",f\"{get_size(svmem.available)}\",f\"{get_size(svmem.used)}\",f\"{svmem.percent}%\"],\n",
                "        'Swap'     : [f\"{get_size(swap.total)}\",f\"{get_size(swap.free)}\",f\"{get_size(swap.used)}\",f\"{swap.percent}%\",],\n",
                "    }    \n",
                "\n",
                "    return pd.DataFrame(data = table_data)         "
            ],
            "metadata": {
                "azdata_cell_guid": "9d3cd3ea-bf9b-43af-917f-da61174774c5",
                "tags": [
                    "hide_input"
                ]
            },
            "outputs": [],
            "execution_count": 201
        },
        {
            "cell_type": "markdown",
            "source": [
                "### Disk information"
            ],
            "metadata": {
                "azdata_cell_guid": "384396b8-6e69-4933-8e61-b9d94e1a3ea6"
            }
        },
        {
            "cell_type": "code",
            "source": [
                "def get_disk_info():\n",
                "    \"\"\"\n",
                "    Get disk information\n",
                "    \"\"\"\n",
                "    partitions = psutil.disk_partitions()\n",
                "    table_data = []\n",
                "    for partition in partitions:\n",
                "        try:\n",
                "            partition_usage = psutil.disk_usage(partition.mountpoint)\n",
                "        except PermissionError:\n",
                "            # this can be catched due to the disk that\n",
                "            # isn't ready\n",
                "            continue\n",
                "\n",
                "        thisdict = {  \n",
                "            \"Device\"          : f\"{partition.device}\",\n",
                "            \"Mountpoint\"      : f\"{partition.mountpoint}\",\n",
                "            \"File system type\": f\"{partition.fstype}\",\n",
                "            \"Total Size\"      : f\"{get_size(partition_usage.total)}\",\n",
                "            \"Used\"            : f\"{get_size(partition_usage.used)}\",\n",
                "            \"Free\"            : f\"{get_size(partition_usage.free)}\",\n",
                "            \"Percentage\"      : f\"{partition_usage.percent}%\",\n",
                "        }\n",
                "        table_data.append(thisdict)\n",
                "\n",
                "    return pd.DataFrame(data = table_data)    "
            ],
            "metadata": {
                "azdata_cell_guid": "c4f407b8-87c1-48b6-b54a-3c57b62c12be",
                "tags": [
                    "hide_input"
                ]
            },
            "outputs": [],
            "execution_count": 202
        },
        {
            "cell_type": "markdown",
            "source": [
                "### Network information"
            ],
            "metadata": {
                "azdata_cell_guid": "d2544f77-4bba-46c5-80f1-07aa87e91076"
            }
        },
        {
            "cell_type": "code",
            "source": [
                "def get_net_info():\n",
                "    \"\"\"\n",
                "    Get network information\n",
                "    \"\"\"\n",
                "    # get all network interfaces (virtual and physical)\n",
                "    table_data = []\n",
                "    if_addrs = psutil.net_if_addrs()\n",
                "    for interface_name, interface_addresses in if_addrs.items():\n",
                "        for address in interface_addresses:\n",
                "            if str(address.family) == 'AddressFamily.AF_INET':\n",
                "                thisdict = {  \n",
                "                    \"Interface\"   : f\"{interface_name}\",\n",
                "                    \"IP Address\"  : f\"{address.address}\",\n",
                "                    \"Netmask\"     : f\"{address.netmask}\",\n",
                "                    \"Broadcast IP\": f\"{address.broadcast}\",\n",
                "                }\n",
                "            elif str(address.family) == 'AddressFamily.AF_PACKET':\n",
                "                thisdict = {  \n",
                "                    \"Interface\"    : f\"{interface_name}\",\n",
                "                    \"MAC Address\"  : f\"{address.address}\",\n",
                "                    \"Netmask\"      : f\"{address.netmask}\",\n",
                "                    \"Broadcast MAC\": f\"{address.broadcast}\",\n",
                "                }\n",
                "        table_data.append(thisdict)\n",
                "\n",
                "    return pd.DataFrame(data = table_data)"
            ],
            "metadata": {
                "azdata_cell_guid": "848fb7d8-420a-44f7-a74e-912e6e64a2d0",
                "tags": [
                    "hide_input"
                ]
            },
            "outputs": [],
            "execution_count": 203
        },
        {
            "cell_type": "markdown",
            "source": [
                "### Print all information"
            ],
            "metadata": {
                "azdata_cell_guid": "74c6609e-90f4-4a23-8b70-939d6a44e196"
            }
        },
        {
            "cell_type": "code",
            "source": [
                "totallength = 110\n",
                "\n",
                "# let's print system information\n",
                "displaystr = \"System Information\"\n",
                "sidelengt = ((totallength - len(displaystr)) / 2)\n",
                "print(\"=\"*int(sidelengt), displaystr, \"=\"*int(sidelengt))\n",
                "display(get_sysinfo())\n",
                "\n",
                "# let's print CPU information\n",
                "displaystr = \"CPU Information\"\n",
                "sidelengt = ((totallength - len(displaystr)) / 2)\n",
                "print(\"=\"*int(sidelengt), displaystr, \"=\"*int(sidelengt))\n",
                "display(get_cpu_info())\n",
                "display(get_cpu_info_det())\n",
                "\n",
                "# let's print memory information\n",
                "displaystr = \"Memory Information\"\n",
                "sidelengt = ((totallength - len(displaystr)) / 2)\n",
                "print(\"=\"*int(sidelengt), displaystr, \"=\"*int(sidelengt))\n",
                "display(get_memory_info())\n",
                "\n",
                "# let's print Disk information\n",
                "displaystr = \"Disk Information\"\n",
                "sidelengt = ((totallength - len(displaystr)) / 2)\n",
                "print(\"=\"*int(sidelengt), displaystr, \"=\"*int(sidelengt))\n",
                "display(get_disk_info())\n",
                "\n",
                "# get IO statistics since boot\n",
                "disk_io = psutil.disk_io_counters()\n",
                "print(f\"Total read : {get_size(disk_io.read_bytes)}\")\n",
                "print(f\"Total write: {get_size(disk_io.write_bytes)}\")\n",
                "\n",
                "# let's print Network information\n",
                "displaystr = \"Network Information\"\n",
                "sidelengt = ((totallength - len(displaystr)) / 2)\n",
                "print(\"=\"*int(sidelengt), displaystr, \"=\"*int(sidelengt))\n",
                "display(get_net_info())\n",
                "\n",
                "# get IO statistics since boot\n",
                "net_io = psutil.net_io_counters()\n",
                "print(f\"Total Bytes Sent    : {get_size(net_io.bytes_sent)}\")\n",
                "print(f\"Total Bytes Received: {get_size(net_io.bytes_recv)}\")\n",
                "\n",
                "displaystr = \"END\"\n",
                "sidelengt = ((totallength - len(displaystr)) / 2)\n",
                "print(\"=\"*int(sidelengt), displaystr, \"=\"*int(sidelengt))"
            ],
            "metadata": {
                "azdata_cell_guid": "63726da2-ea3a-49e2-a852-0208b44a8d3c",
                "tags": [
                    "hide_input"
                ]
            },
            "outputs": [
                {
                    "name": "stdout",
                    "text": "============================================== System Information ==============================================\n",
                    "output_type": "stream"
                },
                {
                    "data": {
                        "text/plain": "  Systeminfo                                              Value\n0     System                                             Darwin\n1  Node Name                                    tinus-imac.home\n2    Release                                             20.3.0\n3    Version  Darwin Kernel Version 20.3.0: Thu Jan 21 00:07...\n4    Machine                                             x86_64\n5  Processor                                               i386\n6  Boot Time                                2021-05-21 07:37:04",
                        "text/html": "<div>\n<style scoped>\n    .dataframe tbody tr th:only-of-type {\n        vertical-align: middle;\n    }\n\n    .dataframe tbody tr th {\n        vertical-align: top;\n    }\n\n    .dataframe thead th {\n        text-align: right;\n    }\n</style>\n<table border=\"1\" class=\"dataframe\">\n  <thead>\n    <tr style=\"text-align: right;\">\n      <th></th>\n      <th>Systeminfo</th>\n      <th>Value</th>\n    </tr>\n  </thead>\n  <tbody>\n    <tr>\n      <th>0</th>\n      <td>System</td>\n      <td>Darwin</td>\n    </tr>\n    <tr>\n      <th>1</th>\n      <td>Node Name</td>\n      <td>tinus-imac.home</td>\n    </tr>\n    <tr>\n      <th>2</th>\n      <td>Release</td>\n      <td>20.3.0</td>\n    </tr>\n    <tr>\n      <th>3</th>\n      <td>Version</td>\n      <td>Darwin Kernel Version 20.3.0: Thu Jan 21 00:07...</td>\n    </tr>\n    <tr>\n      <th>4</th>\n      <td>Machine</td>\n      <td>x86_64</td>\n    </tr>\n    <tr>\n      <th>5</th>\n      <td>Processor</td>\n      <td>i386</td>\n    </tr>\n    <tr>\n      <th>6</th>\n      <td>Boot Time</td>\n      <td>2021-05-21 07:37:04</td>\n    </tr>\n  </tbody>\n</table>\n</div>"
                    },
                    "metadata": {},
                    "output_type": "display_data"
                },
                {
                    "name": "stdout",
                    "text": "=============================================== CPU Information ===============================================\n",
                    "output_type": "stream"
                },
                {
                    "data": {
                        "text/plain": "                CPUs    Value\n0     Physical cores        4\n1        Total cores        8\n2      Max Frequency  3600Mhz\n3      Min Frequency  3600Mhz\n4  Current Frequency  3600Mhz\n5    Total CPU Usage   41.40%",
                        "text/html": "<div>\n<style scoped>\n    .dataframe tbody tr th:only-of-type {\n        vertical-align: middle;\n    }\n\n    .dataframe tbody tr th {\n        vertical-align: top;\n    }\n\n    .dataframe thead th {\n        text-align: right;\n    }\n</style>\n<table border=\"1\" class=\"dataframe\">\n  <thead>\n    <tr style=\"text-align: right;\">\n      <th></th>\n      <th>CPUs</th>\n      <th>Value</th>\n    </tr>\n  </thead>\n  <tbody>\n    <tr>\n      <th>0</th>\n      <td>Physical cores</td>\n      <td>4</td>\n    </tr>\n    <tr>\n      <th>1</th>\n      <td>Total cores</td>\n      <td>8</td>\n    </tr>\n    <tr>\n      <th>2</th>\n      <td>Max Frequency</td>\n      <td>3600Mhz</td>\n    </tr>\n    <tr>\n      <th>3</th>\n      <td>Min Frequency</td>\n      <td>3600Mhz</td>\n    </tr>\n    <tr>\n      <th>4</th>\n      <td>Current Frequency</td>\n      <td>3600Mhz</td>\n    </tr>\n    <tr>\n      <th>5</th>\n      <td>Total CPU Usage</td>\n      <td>41.40%</td>\n    </tr>\n  </tbody>\n</table>\n</div>"
                    },
                    "metadata": {},
                    "output_type": "display_data"
                },
                {
                    "data": {
                        "text/plain": "     Core  Usage\n0  Core 0  80.2%\n1  Core 1  26.7%\n2  Core 2  77.2%\n3  Core 3  26.0%\n4  Core 4  74.7%\n5  Core 5  25.0%\n6  Core 6  71.3%\n7  Core 7  23.0%",
                        "text/html": "<div>\n<style scoped>\n    .dataframe tbody tr th:only-of-type {\n        vertical-align: middle;\n    }\n\n    .dataframe tbody tr th {\n        vertical-align: top;\n    }\n\n    .dataframe thead th {\n        text-align: right;\n    }\n</style>\n<table border=\"1\" class=\"dataframe\">\n  <thead>\n    <tr style=\"text-align: right;\">\n      <th></th>\n      <th>Core</th>\n      <th>Usage</th>\n    </tr>\n  </thead>\n  <tbody>\n    <tr>\n      <th>0</th>\n      <td>Core 0</td>\n      <td>80.2%</td>\n    </tr>\n    <tr>\n      <th>1</th>\n      <td>Core 1</td>\n      <td>26.7%</td>\n    </tr>\n    <tr>\n      <th>2</th>\n      <td>Core 2</td>\n      <td>77.2%</td>\n    </tr>\n    <tr>\n      <th>3</th>\n      <td>Core 3</td>\n      <td>26.0%</td>\n    </tr>\n    <tr>\n      <th>4</th>\n      <td>Core 4</td>\n      <td>74.7%</td>\n    </tr>\n    <tr>\n      <th>5</th>\n      <td>Core 5</td>\n      <td>25.0%</td>\n    </tr>\n    <tr>\n      <th>6</th>\n      <td>Core 6</td>\n      <td>71.3%</td>\n    </tr>\n    <tr>\n      <th>7</th>\n      <td>Core 7</td>\n      <td>23.0%</td>\n    </tr>\n  </tbody>\n</table>\n</div>"
                    },
                    "metadata": {},
                    "output_type": "display_data"
                },
                {
                    "name": "stdout",
                    "text": "============================================== Memory Information ==============================================\n",
                    "output_type": "stream"
                },
                {
                    "data": {
                        "text/plain": "       Memory Physical   Swap\n0       Total  16.00GB  0.00B\n1   Available   7.01GB  0.00B\n2        Used   8.94GB  0.00B\n3  Percentage    56.2%   0.0%",
                        "text/html": "<div>\n<style scoped>\n    .dataframe tbody tr th:only-of-type {\n        vertical-align: middle;\n    }\n\n    .dataframe tbody tr th {\n        vertical-align: top;\n    }\n\n    .dataframe thead th {\n        text-align: right;\n    }\n</style>\n<table border=\"1\" class=\"dataframe\">\n  <thead>\n    <tr style=\"text-align: right;\">\n      <th></th>\n      <th>Memory</th>\n      <th>Physical</th>\n      <th>Swap</th>\n    </tr>\n  </thead>\n  <tbody>\n    <tr>\n      <th>0</th>\n      <td>Total</td>\n      <td>16.00GB</td>\n      <td>0.00B</td>\n    </tr>\n    <tr>\n      <th>1</th>\n      <td>Available</td>\n      <td>7.01GB</td>\n      <td>0.00B</td>\n    </tr>\n    <tr>\n      <th>2</th>\n      <td>Used</td>\n      <td>8.94GB</td>\n      <td>0.00B</td>\n    </tr>\n    <tr>\n      <th>3</th>\n      <td>Percentage</td>\n      <td>56.2%</td>\n      <td>0.0%</td>\n    </tr>\n  </tbody>\n</table>\n</div>"
                    },
                    "metadata": {},
                    "output_type": "display_data"
                },
                {
                    "name": "stdout",
                    "text": "=============================================== Disk Information ===============================================\n",
                    "output_type": "stream"
                },
                {
                    "data": {
                        "text/plain": "           Device                     Mountpoint File system type Total Size  \\\n0  /dev/disk1s5s1                              /             apfs   465.63GB   \n1    /dev/disk1s4             /System/Volumes/VM             apfs   465.63GB   \n2    /dev/disk1s2        /System/Volumes/Preboot             apfs   465.63GB   \n3    /dev/disk1s6         /System/Volumes/Update             apfs   465.63GB   \n4    /dev/disk1s1           /System/Volumes/Data             apfs   465.63GB   \n5    /dev/disk2s2  /Volumes/Time Machine-Backups              hfs   931.19GB   \n\n       Used      Free Percentage  \n0   14.02GB   96.79GB      12.7%  \n1    2.00GB   96.79GB       2.0%  \n2  412.00MB   96.79GB       0.4%  \n3    4.07MB   96.79GB       0.0%  \n4  351.69GB   96.79GB      78.4%  \n5  505.90GB  425.29GB      54.3%  ",
                        "text/html": "<div>\n<style scoped>\n    .dataframe tbody tr th:only-of-type {\n        vertical-align: middle;\n    }\n\n    .dataframe tbody tr th {\n        vertical-align: top;\n    }\n\n    .dataframe thead th {\n        text-align: right;\n    }\n</style>\n<table border=\"1\" class=\"dataframe\">\n  <thead>\n    <tr style=\"text-align: right;\">\n      <th></th>\n      <th>Device</th>\n      <th>Mountpoint</th>\n      <th>File system type</th>\n      <th>Total Size</th>\n      <th>Used</th>\n      <th>Free</th>\n      <th>Percentage</th>\n    </tr>\n  </thead>\n  <tbody>\n    <tr>\n      <th>0</th>\n      <td>/dev/disk1s5s1</td>\n      <td>/</td>\n      <td>apfs</td>\n      <td>465.63GB</td>\n      <td>14.02GB</td>\n      <td>96.79GB</td>\n      <td>12.7%</td>\n    </tr>\n    <tr>\n      <th>1</th>\n      <td>/dev/disk1s4</td>\n      <td>/System/Volumes/VM</td>\n      <td>apfs</td>\n      <td>465.63GB</td>\n      <td>2.00GB</td>\n      <td>96.79GB</td>\n      <td>2.0%</td>\n    </tr>\n    <tr>\n      <th>2</th>\n      <td>/dev/disk1s2</td>\n      <td>/System/Volumes/Preboot</td>\n      <td>apfs</td>\n      <td>465.63GB</td>\n      <td>412.00MB</td>\n      <td>96.79GB</td>\n      <td>0.4%</td>\n    </tr>\n    <tr>\n      <th>3</th>\n      <td>/dev/disk1s6</td>\n      <td>/System/Volumes/Update</td>\n      <td>apfs</td>\n      <td>465.63GB</td>\n      <td>4.07MB</td>\n      <td>96.79GB</td>\n      <td>0.0%</td>\n    </tr>\n    <tr>\n      <th>4</th>\n      <td>/dev/disk1s1</td>\n      <td>/System/Volumes/Data</td>\n      <td>apfs</td>\n      <td>465.63GB</td>\n      <td>351.69GB</td>\n      <td>96.79GB</td>\n      <td>78.4%</td>\n    </tr>\n    <tr>\n      <th>5</th>\n      <td>/dev/disk2s2</td>\n      <td>/Volumes/Time Machine-Backups</td>\n      <td>hfs</td>\n      <td>931.19GB</td>\n      <td>505.90GB</td>\n      <td>425.29GB</td>\n      <td>54.3%</td>\n    </tr>\n  </tbody>\n</table>\n</div>"
                    },
                    "metadata": {},
                    "output_type": "display_data"
                },
                {
                    "name": "stdout",
                    "text": "Total read : 24.91GB\nTotal write: 360.25GB\n============================================= Network Information =============================================\n",
                    "output_type": "stream"
                },
                {
                    "data": {
                        "text/plain": "    Interface     IP Address        Netmask    Broadcast IP\n0         lo0      127.0.0.1      255.0.0.0            None\n1         en1  192.168.1.112  255.255.255.0   192.168.1.255\n2   bridge100   192.168.64.1  255.255.255.0  192.168.64.255\n3   bridge100   192.168.64.1  255.255.255.0  192.168.64.255\n4   bridge100   192.168.64.1  255.255.255.0  192.168.64.255\n5   bridge100   192.168.64.1  255.255.255.0  192.168.64.255\n6   bridge100   192.168.64.1  255.255.255.0  192.168.64.255\n7   bridge100   192.168.64.1  255.255.255.0  192.168.64.255\n8   bridge100   192.168.64.1  255.255.255.0  192.168.64.255\n9   bridge100   192.168.64.1  255.255.255.0  192.168.64.255\n10  bridge100   192.168.64.1  255.255.255.0  192.168.64.255\n11  bridge100   192.168.64.1  255.255.255.0  192.168.64.255\n12  bridge100   192.168.64.1  255.255.255.0  192.168.64.255",
                        "text/html": "<div>\n<style scoped>\n    .dataframe tbody tr th:only-of-type {\n        vertical-align: middle;\n    }\n\n    .dataframe tbody tr th {\n        vertical-align: top;\n    }\n\n    .dataframe thead th {\n        text-align: right;\n    }\n</style>\n<table border=\"1\" class=\"dataframe\">\n  <thead>\n    <tr style=\"text-align: right;\">\n      <th></th>\n      <th>Interface</th>\n      <th>IP Address</th>\n      <th>Netmask</th>\n      <th>Broadcast IP</th>\n    </tr>\n  </thead>\n  <tbody>\n    <tr>\n      <th>0</th>\n      <td>lo0</td>\n      <td>127.0.0.1</td>\n      <td>255.0.0.0</td>\n      <td>None</td>\n    </tr>\n    <tr>\n      <th>1</th>\n      <td>en1</td>\n      <td>192.168.1.112</td>\n      <td>255.255.255.0</td>\n      <td>192.168.1.255</td>\n    </tr>\n    <tr>\n      <th>2</th>\n      <td>bridge100</td>\n      <td>192.168.64.1</td>\n      <td>255.255.255.0</td>\n      <td>192.168.64.255</td>\n    </tr>\n    <tr>\n      <th>3</th>\n      <td>bridge100</td>\n      <td>192.168.64.1</td>\n      <td>255.255.255.0</td>\n      <td>192.168.64.255</td>\n    </tr>\n    <tr>\n      <th>4</th>\n      <td>bridge100</td>\n      <td>192.168.64.1</td>\n      <td>255.255.255.0</td>\n      <td>192.168.64.255</td>\n    </tr>\n    <tr>\n      <th>5</th>\n      <td>bridge100</td>\n      <td>192.168.64.1</td>\n      <td>255.255.255.0</td>\n      <td>192.168.64.255</td>\n    </tr>\n    <tr>\n      <th>6</th>\n      <td>bridge100</td>\n      <td>192.168.64.1</td>\n      <td>255.255.255.0</td>\n      <td>192.168.64.255</td>\n    </tr>\n    <tr>\n      <th>7</th>\n      <td>bridge100</td>\n      <td>192.168.64.1</td>\n      <td>255.255.255.0</td>\n      <td>192.168.64.255</td>\n    </tr>\n    <tr>\n      <th>8</th>\n      <td>bridge100</td>\n      <td>192.168.64.1</td>\n      <td>255.255.255.0</td>\n      <td>192.168.64.255</td>\n    </tr>\n    <tr>\n      <th>9</th>\n      <td>bridge100</td>\n      <td>192.168.64.1</td>\n      <td>255.255.255.0</td>\n      <td>192.168.64.255</td>\n    </tr>\n    <tr>\n      <th>10</th>\n      <td>bridge100</td>\n      <td>192.168.64.1</td>\n      <td>255.255.255.0</td>\n      <td>192.168.64.255</td>\n    </tr>\n    <tr>\n      <th>11</th>\n      <td>bridge100</td>\n      <td>192.168.64.1</td>\n      <td>255.255.255.0</td>\n      <td>192.168.64.255</td>\n    </tr>\n    <tr>\n      <th>12</th>\n      <td>bridge100</td>\n      <td>192.168.64.1</td>\n      <td>255.255.255.0</td>\n      <td>192.168.64.255</td>\n    </tr>\n  </tbody>\n</table>\n</div>"
                    },
                    "metadata": {},
                    "output_type": "display_data"
                },
                {
                    "name": "stdout",
                    "text": "Total Bytes Sent    : 66.93MB\nTotal Bytes Received: 193.98MB\n===================================================== END =====================================================\n",
                    "output_type": "stream"
                }
            ],
            "execution_count": 204
        }
    ]
}
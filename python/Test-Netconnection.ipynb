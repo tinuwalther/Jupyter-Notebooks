{
    "metadata": {
        "kernelspec": {
            "name": "python3",
            "display_name": "Python 3",
            "language": "python"
        },
        "language_info": {
            "name": "python",
            "version": "3.9.1",
            "mimetype": "text/x-python",
            "codemirror_mode": {
                "name": "ipython",
                "version": 3
            },
            "pygments_lexer": "ipython3",
            "nbconvert_exporter": "python",
            "file_extension": ".py"
        },
        "orig_nbformat": 2
    },
    "nbformat_minor": 2,
    "nbformat": 4,
    "cells": [
        {
            "cell_type": "code",
            "source": [
                "#region Classes\n",
                "class PyNet:\n",
                "\n",
                "    '''\n",
                "---------------------------------------------------\n",
                "        Network tests with a python-class        \n",
                "---------------------------------------------------\n",
                "Included functions:\n",
                "- digtest()\n",
                "- tping()\n",
                "---------------------------------------------------\n",
                "    '''\n",
                "\n",
                "    pass\n",
                "\n",
                "    # Constructor   \n",
                "    def __init__(self) -> None:\n",
                "        pass\n",
                "        \n",
                "    def digtest(self, input):\n",
                "\n",
                "        '''DigTests with python: digtest(hostname | ip address)'''\n",
                "\n",
                "        import socket\n",
                "        import re\n",
                "\n",
                "        ipv4 = '^((25[0-5]|2[0-4][0-9]|[01]?[0-9][0-9]?)\\.){3}(25[0-5]|2[0-4][0-9]|[01]?[0-9][0-9]?)'\n",
                "        ipv6 = '^(([0-9a-fA-F]{1,4}:){7,7}[0-9a-fA-F]{1,4}|([0-9a-fA-F]{1,4}:){1,7}:|([0-9a-fA-F]{1,4}:){1,6}:[0-9a-fA-F]{1,4}|([0-9a-fA-F]{1,4}:){1,5}(:[0-9a-fA-F]{1,4}){1,2}|([0-9a-fA-F]{1,4}:){1,4}(:[0-9a-fA-F]{1,4}){1,3}|([0-9a-fA-F]{1,4}:){1,3}(:[0-9a-fA-F]{1,4}){1,4}|([0-9a-fA-F]{1,4}:){1,2}(:[0-9a-fA-F]{1,4}){1,5}|[0-9a-fA-F]{1,4}:((:[0-9a-fA-F]{1,4}){1,6})|:((:[0-9a-fA-F]{1,4}){1,7}|:)|fe80:(:[0-9a-fA-F]{0,4}){0,4}%[0-9a-zA-Z]{1,}|::(ffff(:0{1,4}){0,1}:){0,1}((25[0-5]|(2[0-4]|1{0,1}[0-9]){0,1}[0-9])\\.){3,3}(25[0-5]|(2[0-4]|1{0,1}[0-9]){0,1}[0-9])|([0-9a-fA-F]{1,4}:){1,4}:((25[0-5]|(2[0-4]|1{0,1}[0-9]){0,1}[0-9])\\.){3,3}(25[0-5]|(2[0-4]|1{0,1}[0-9]){0,1}[0-9]))'\n",
                "        result = dict()\n",
                "\n",
                "        try: \n",
                "            \n",
                "            if(re.match(ipv4, input)):\n",
                "                # input is an ipv4 address\n",
                "                resolved = socket.gethostbyaddr(input)[0]\n",
                "                result['Function']  = 'digtest'\n",
                "                result['Input']     = input\n",
                "                result['Resolved']  = resolved\n",
                "                result['Succeeded'] = True\n",
                "            else:\n",
                "                if(re.match(ipv6, input)):\n",
                "                    # input is an ipv6 address\n",
                "                    resolved = socket.gethostbyaddr(input)[0]\n",
                "                    result['Function']  = 'digtest'\n",
                "                    result['Input']     = input\n",
                "                    result['Resolved']  = resolved\n",
                "                    result['Succeeded'] = True\n",
                "                    \n",
                "                else:\n",
                "                    # input is a hostname\n",
                "                    resolved = socket.gethostbyname(input)\n",
                "                    result['Function']  = 'digtest'\n",
                "                    result['Input']     = input\n",
                "                    result['Resolved']  = resolved\n",
                "                    result['Succeeded'] = True\n",
                "\n",
                "        except: \n",
                "            result['Function']  = 'digtest'\n",
                "            result['Input']     = input\n",
                "            result['Resolved']  = f'Could not resolve {input}'\n",
                "            result['Succeeded'] = False\n",
                "\n",
                "        return result\n",
                "        \n",
                "    def tping(self, host, port, timeout):\n",
                "\n",
                "        '''TcpTests with python: tping(hostname, tcp port, timeout)'''\n",
                "\n",
                "        import socket\n",
                "\n",
                "        s = socket.socket(socket.AF_INET, socket.SOCK_STREAM)\n",
                "        s.settimeout(timeout)\n",
                "        result = dict()\n",
                "\n",
                "        try:\n",
                "            # tries to connect to the host\n",
                "            s.connect((host, port))\n",
                "\n",
                "        except ConnectionRefusedError:\n",
                "            # if failed to connect\n",
                "            result['Function']  = 'tping'\n",
                "            result['Computer']  = host\n",
                "            result['Port']      = port\n",
                "            result['Succeeded'] = False\n",
                "            s.close()\n",
                "\n",
                "        while True:\n",
                "            # if connected to host\n",
                "            result['Function']  = 'tping'\n",
                "            result['Computer']  = host\n",
                "            result['Port']      = port\n",
                "            result['Succeeded'] = True\n",
                "            s.close()\n",
                "            return result\n",
                "#endregion\n",
                "\n",
                "# Process\n",
                "import json\n",
                "\n",
                "# Colors\n",
                "W  = '\\033[0m'  # white (normal)\n",
                "R  = '\\033[31m' # red\n",
                "G  = '\\033[32m' # green\n",
                "O  = '\\033[33m' # orange\n",
                "B  = '\\033[34m' # blue\n",
                "P  = '\\033[35m' # purple\n",
                "Y  = '\\033[93m' # yellow\n",
                "\n",
                "# create an instance of PyNet-class and run some functions\n",
                "print(G+PyNet.__doc__+W)\n",
                "do = PyNet()\n",
                "\n"
            ],
            "metadata": {
                "tags": [
                    "hide_input"
                ],
                "azdata_cell_guid": "6bb96d27-f5d2-4fb8-8efa-7f533322fcc7"
            },
            "outputs": [
                {
                    "output_type": "stream",
                    "name": "stdout",
                    "text": "\u001b[32m\n---------------------------------------------------\n        Network tests with a python-class        \n---------------------------------------------------\nIncluded functions:\n- digtest()\n- tping()\n---------------------------------------------------\n    \u001b[0m\n"
                }
            ],
            "execution_count": 1
        },
        {
            "cell_type": "code",
            "source": [
                "collection = ['sbb.ch','crazy.domain.io']\n",
                "for item in collection:\n",
                "    print('digtest', item)\n",
                "    digtest = do.digtest(item)\n",
                "    if(digtest['Succeeded'] == True):\n",
                "        tping = do.tping(digtest['Resolved'], 443, 100) \n",
                "        print(G+ \"TCP Port Test: \" + digtest['Input'] + \" -> \" + digtest['Resolved']  + \" -> \" + str(tping['Succeeded']) +W)\n",
                "        json_object = json.dumps(tping, indent = 4)\n",
                "        print(json_object)\n",
                "    else:\n",
                "        print(Y+ \"TCP Port Test: \" + digtest['Resolved'] +W)\n"
            ],
            "metadata": {
                "azdata_cell_guid": "bca561e9-601a-486a-bbcf-3da9b7302b43",
                "tags": [
                    "hide_input"
                ]
            },
            "outputs": [
                {
                    "output_type": "stream",
                    "name": "stdout",
                    "text": "digtest sbb.ch\n\u001b[32mTCP Port Test: sbb.ch -> 194.150.245.142 -> True\u001b[0m\n{\n    \"Function\": \"tping\",\n    \"Computer\": \"194.150.245.142\",\n    \"Port\": 443,\n    \"Succeeded\": true\n}\ndigtest crazy.domain.io\n\u001b[93mTCP Port Test: Could not resolve crazy.domain.io\u001b[0m\n"
                }
            ],
            "execution_count": 2
        },
        {
            "cell_type": "code",
            "source": [],
            "metadata": {
                "azdata_cell_guid": "10cc0a8e-c2c1-46bc-ae61-6abb798a6f3a",
                "tags": [
                    "hide_input"
                ]
            },
            "outputs": [],
            "execution_count": null
        }
    ]
}
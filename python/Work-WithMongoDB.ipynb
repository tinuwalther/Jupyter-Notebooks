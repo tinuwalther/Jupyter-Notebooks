{
    "metadata": {
        "kernelspec": {
            "name": "python3",
            "display_name": "Python 3",
            "language": "python"
        },
        "language_info": {
            "name": "python",
            "version": "3.8.5",
            "mimetype": "text/x-python",
            "codemirror_mode": {
                "name": "ipython",
                "version": 3
            },
            "pygments_lexer": "ipython3",
            "nbconvert_exporter": "python",
            "file_extension": ".py"
        }
    },
    "nbformat_minor": 2,
    "nbformat": 4,
    "cells": [
        {
            "cell_type": "markdown",
            "source": [
                "# Work with MongoDB Atlas\n",
                "\n",
                "A good Website with examples [https://www.simplifiedpython.net/](https://www.simplifiedpython.net/python-mongodb-connection/)"
            ],
            "metadata": {
                "azdata_cell_guid": "d418f2ba-c5a3-46c8-a7e5-c8ee02f43142"
            }
        },
        {
            "cell_type": "code",
            "source": [
                "credentials = input('user:password')\n",
                "connectionstring = \"mongodb+srv://\"+credentials+\"@cluster0.epl3x.mongodb.net/?retryWrites=true&w=majority\""
            ],
            "metadata": {
                "azdata_cell_guid": "577fd089-5a6f-4abf-af59-f10c26a125c2"
            },
            "outputs": [],
            "execution_count": 2
        },
        {
            "cell_type": "markdown",
            "source": [
                "## SELECT \\* FROM table\n",
                "\n",
                "Connect to the remote Mongo DB and return all document"
            ],
            "metadata": {
                "azdata_cell_guid": "e15108d9-7efd-4fe9-a5c2-498e7530f359"
            }
        },
        {
            "cell_type": "markdown",
            "source": [
                "**<mark>PoweredOffVMs</mark>**"
            ],
            "metadata": {
                "azdata_cell_guid": "66e195e4-993a-4a62-90ba-e7f1f619ff67"
            }
        },
        {
            "cell_type": "code",
            "source": [
                "def get_poweredoffvms(connectionstring, database, collection):\r\n",
                "    '''Connect to MongoDB and return data'''\r\n",
                "    import pymongo, dns\r\n",
                "    mongo_client = pymongo.MongoClient(connectionstring)\r\n",
                "    mongo_db     = mongo_client[database]\r\n",
                "    mongo_col    = mongo_db[collection]\r\n",
                "    mongo_client.close()\r\n",
                "    return mongo_col.find()\r\n",
                "\r\n",
                "result = get_poweredoffvms(connectionstring, 'JupyterNB', 'PoweredOffVMs')\r\n",
                "for doc in result:\r\n",
                "    print(doc)"
            ],
            "metadata": {
                "azdata_cell_guid": "59a6214a-6161-4098-8f82-faf6fc044285",
                "tags": [
                    "hide_input"
                ]
            },
            "outputs": [
                {
                    "output_type": "stream",
                    "name": "stdout",
                    "text": "{'_id': ObjectId('6055e8d45d839f102fa18107'), 'PSComputerName': 'vsc0000925.child.domain.com', 'PowerState': 'Off'}\n{'_id': ObjectId('60560b905d839f102fa18114'), 'PSComputerName': 'TIN87500803.child.domain.com', 'PowerState': 'Off'}\n{'_id': ObjectId('605628aa5d839f102fa18237'), 'PSComputerName': 'xsc0000983.child.domain.com', 'PowerState': 'Off'}\n{'_id': ObjectId('60562f255d839f102fa18242'), 'PSComputerName': 'xsc0000989.child.domain.com', 'PowerState': 'Off'}\n"
                }
            ],
            "execution_count": 372
        },
        {
            "cell_type": "markdown",
            "source": [
                "**<mark>FailedPatching</mark>**"
            ],
            "metadata": {
                "azdata_cell_guid": "64ce52fd-a78c-4ab1-98f8-ecbf3a09432a"
            }
        },
        {
            "cell_type": "code",
            "source": [
                "def get_failedpatching(connectionstring, database, collection):\r\n",
                "    '''Connect to MongoDB and return data'''\r\n",
                "    import pymongo, dns\r\n",
                "    mongo_client = pymongo.MongoClient(connectionstring)\r\n",
                "    mongo_db     = mongo_client[database]\r\n",
                "    mongo_col    = mongo_db[collection]\r\n",
                "    mongo_client.close()\r\n",
                "    return mongo_col.find()\r\n",
                "\r\n",
                "result = get_failedpatching(connectionstring, 'JupyterNB', 'FailedPatching')\r\n",
                "for doc in result:\r\n",
                "    print(doc)"
            ],
            "metadata": {
                "azdata_cell_guid": "b0859e96-5509-4844-b077-ddc28dba8c87",
                "tags": [
                    "hide_input"
                ]
            },
            "outputs": [
                {
                    "output_type": "stream",
                    "name": "stdout",
                    "text": "{'_id': ObjectId('6055e92d5d839f102fa1810c'), 'RunspaceId': '0a6c50fe-7a2a-4225-9f27-85dad48d2b74', 'PSComputerName': 'TIN87500803.child.domain.com', 'LastPatchRun': '2021.03.03 05:00:33', 'LastPatchStatus': '', 'UpdateServer': 'http://srv2dp-1.prd.child.domain.com:8530', 'UpdateServerStatus': 'OK', 'CcmExecVersion': '5.00.8968.1000', 'CcmExecInstallDate': '20201216', 'CCMManagementPoint': 'srv2dp-2.prd.child.domain.com', 'CCMCimInstanceStatus': 'Success'}\n{'_id': ObjectId('6055e92e5d839f102fa1810d'), 'RunspaceId': '0ea06798-482a-4628-869b-a190bf1df050', 'PSComputerName': 'vsc0000925.child.domain.com', 'LastPatchRun': '', 'LastPatchStatus': '', 'UpdateServer': 'http://srv2dp-1.prd.child.domain.com:8530', 'UpdateServerStatus': 'OK', 'CcmExecVersion': '5.00.8968.1000', 'CcmExecInstallDate': '20201103', 'CCMManagementPoint': 'srv2dp-1.prd.child.domain.com', 'CCMCimInstanceStatus': 'Success'}\n{'_id': ObjectId('6055e92e5d839f102fa1810e'), 'RunspaceId': 'abf4fdaf-e1fe-45bf-8977-e5b1f01b4519', 'PSComputerName': 'xsc0000930.child.domain.com', 'LastPatchRun': '2021.01.22 01:34:00', 'LastPatchStatus': '', 'UpdateServer': 'http://srv2dp-1.prd.child.domain.com:8530', 'UpdateServerStatus': 'OK', 'CcmExecVersion': '5.00.8968.1000', 'CcmExecInstallDate': '20201106', 'CCMManagementPoint': 'srv2dp-2.prd.child.domain.com', 'CCMCimInstanceStatus': 'Success'}\n{'_id': ObjectId('6055e92e5d839f102fa1810f'), 'RunspaceId': '4864c951-31b4-4157-ac1d-b1101016f1da', 'PSComputerName': 'xsc0000585.child.domain.com', 'LastPatchRun': '2021.01.03 03:34:34', 'LastPatchStatus': 'ERROR | Da ist was schief gelaufen - errorcode -123455667', 'UpdateServer': 'http://srv2dp-1.prd.child.domain.com:8530', 'UpdateServerStatus': 'OK', 'CcmExecVersion': '5.00.8968.1000', 'CcmExecInstallDate': '20201023', 'CCMManagementPoint': 'srv2dp-1.prd.child.domain.com', 'CCMCimInstanceStatus': 'Success'}\n{'_id': ObjectId('6055e92e5d839f102fa18110'), 'RunspaceId': '90be2cd0-bba1-430f-bf0e-7f93b5c69685', 'PSComputerName': 'xsc0000983.child.domain.com', 'LastPatchRun': '', 'LastPatchStatus': '', 'UpdateServer': 'http://srv2dp-1.prd.child.domain.com:8530', 'UpdateServerStatus': 'OK', 'CcmExecVersion': '5.00.8968.1000', 'CcmExecInstallDate': '20210120', 'CCMManagementPoint': 'srv2dp-1.prd.child.domain.com', 'CCMCimInstanceStatus': 'Success'}\n{'_id': ObjectId('6055e92e5d839f102fa18111'), 'RunspaceId': 'fbe43577-064a-48da-893d-06150762e776', 'PSComputerName': 'TIN87500802.child.domain.com', 'LastPatchRun': '2021.02.21 05:15:00', 'LastPatchStatus': '', 'UpdateServer': 'http://srv2dp-1.prd.child.domain.com:8530', 'UpdateServerStatus': 'OK', 'CcmExecVersion': '5.00.8968.1000', 'CcmExecInstallDate': '20201216', 'CCMManagementPoint': 'srv2dp-2.prd.child.domain.com', 'CCMCimInstanceStatus': 'Success'}\n"
                }
            ],
            "execution_count": 371
        },
        {
            "cell_type": "markdown",
            "source": [
                "**<mark>JOIN FailedPatching and PoweredOffVMs</mark>**"
            ],
            "metadata": {
                "azdata_cell_guid": "97e232f7-add7-4c7f-911a-a7044abc21ae"
            }
        },
        {
            "cell_type": "code",
            "source": [
                "def get_data(connectionstring, mongodatabase, collection):\r\n",
                "    '''Connect to MongoDB and return data'''\r\n",
                "    import pymongo, dns\r\n",
                "    mongo_client = pymongo.MongoClient(connectionstring)\r\n",
                "    mongo_db     = mongo_client[mongodatabase]\r\n",
                "    mongo_col    = mongo_db[collection]\r\n",
                "    result       = mongo_col.find().sort(\"PSComputerName\")\r\n",
                "    mongo_client.close()\r\n",
                "    return result\r\n",
                "\r\n",
                "import pandas as pd\r\n",
                "failed_and_poweroff = []\r\n",
                "for failedpatching in get_data(connectionstring, 'JupyterNB', 'FailedPatching'):\r\n",
                "    for poweredoffvms in get_data(connectionstring, 'JupyterNB', 'PoweredOffVMs'):\r\n",
                "        if failedpatching['PSComputerName'] == poweredoffvms['PSComputerName']:\r\n",
                "            thisdict = {                                \r\n",
                "                    #'RunspaceId'           : failedpatching['RunspaceId'],\r\n",
                "                    'PSComputerName'       : failedpatching['PSComputerName'],\r\n",
                "                    'LastPatchRun'         : failedpatching['LastPatchRun'],\r\n",
                "                    'LastPatchStatus'      : failedpatching['LastPatchStatus'],\r\n",
                "                    'UpdateServerStatus'   : failedpatching['UpdateServerStatus'],\r\n",
                "                    'CcmExecVersion'       : failedpatching['CcmExecVersion'],\r\n",
                "                    'CCMCimInstanceStatus' : failedpatching['CCMCimInstanceStatus'],\r\n",
                "                    'PowerState'           : poweredoffvms['PowerState'],\r\n",
                "            }\r\n",
                "            failed_and_poweroff.append(thisdict)\r\n",
                "\r\n",
                "# Print data frame set as table\r\n",
                "df = pd.DataFrame(failed_and_poweroff)\r\n",
                "print(df.to_string())\r\n",
                ""
            ],
            "metadata": {
                "azdata_cell_guid": "9821622c-5049-4957-be63-9631e4f0d901",
                "tags": [
                    "hide_input"
                ]
            },
            "outputs": [
                {
                    "output_type": "stream",
                    "name": "stdout",
                    "text": "                 PSComputerName         LastPatchRun LastPatchStatus UpdateServerStatus  CcmExecVersion CCMCimInstanceStatus PowerState\n0  TIN87500803.child.domain.com  2021.03.03 05:00:33                                 OK  5.00.8968.1000              Success        Off\n1   vsc0000925.child.domain.com                                                      OK  5.00.8968.1000              Success        Off\n2   xsc0000983.child.domain.com                                                      OK  5.00.8968.1000              Success        Off\n"
                }
            ],
            "execution_count": 370
        },
        {
            "cell_type": "markdown",
            "source": [
                "## INSERT INTO table\n",
                "\n",
                "Connect to the remote Mongo DB and insert one document"
            ],
            "metadata": {
                "azdata_cell_guid": "54d3810c-02f5-49c5-98eb-c1fddc8deb2a"
            }
        },
        {
            "cell_type": "code",
            "source": [
                "def add_document(connectionstring, mongodatabase, collection, document):\n",
                "    '''Connect to MongoDB and add a document'''\n",
                "    import pymongo, dns\n",
                "    mongo_client = pymongo.MongoClient(connectionstring)\n",
                "    mongo_db     = mongo_client[mongodatabase]\n",
                "    mongo_col    = mongo_db[collection]\n",
                "    mongo_col.insert_one(document)\n",
                "    for doc in mongo_col.find():\n",
                "        print(doc)\n",
                "\n",
                "    mongo_client.close()\n",
                "\n",
                "add_document(connectionstring, 'JupyterNB', 'PoweredOffVMs', { \"PSComputerName\": \"xsc0000989.child.domain.com\", \"PowerState\": \"Off\" })"
            ],
            "metadata": {
                "azdata_cell_guid": "ea5a793e-66cf-43d4-801e-3a0a70274436",
                "tags": [
                    "hide_input"
                ]
            },
            "outputs": [],
            "execution_count": null
        },
        {
            "cell_type": "markdown",
            "source": [
                "## DELETE FROM table\n",
                "\n",
                "Connect to the remote MongoDB and delete all Documents in the Collection PoweredOffVMs"
            ],
            "metadata": {
                "azdata_cell_guid": "a3486810-ee82-45f0-a071-a83dbf57ed4a"
            }
        },
        {
            "cell_type": "code",
            "source": [
                "def delete_collection(connectionstring, mongodatabase, collection):\r\n",
                "    '''Connect to MongoDB and add a document'''import pymongo\r\n",
                "    mongo_client = pymongo.MongoClient(connectionstring)\r\n",
                "    mongo_db     = mongo_client[mongodatabase]\r\n",
                "    mongo_col    = mongo_db[collection]\r\n",
                "    mongo_col.delete_many({})\r\n",
                "    for doc in mongo_col.find():\r\n",
                "        print(doc)\r\n",
                "\r\n",
                "    mongo_client.close()\r\n",
                "\r\n",
                "add_document(connectionstring, 'JupyterNB', 'PoweredOffVMs')"
            ],
            "metadata": {
                "azdata_cell_guid": "8cd286a8-2fca-4d42-b7fd-50de6e4ebfa7",
                "tags": [
                    "hide_input"
                ]
            },
            "outputs": [],
            "execution_count": null
        },
        {
            "cell_type": "markdown",
            "source": [
                "## Read from a CSV-file and print it out"
            ],
            "metadata": {
                "azdata_cell_guid": "2087f911-3c2f-47a6-8861-a129778e73fa"
            }
        },
        {
            "cell_type": "code",
            "source": [
                "def import_csv(file):\r\n",
                "    '''Import-CSV'''\r\n",
                "    import csv, sys, os\r\n",
                "\r\n",
                "    check_path = os.path.exists(file)\r\n",
                "    if(check_path == True):\r\n",
                "\r\n",
                "        with open(file, mode='r', newline='') as csv_file:\r\n",
                "            csv_reader = csv.DictReader(csv_file, delimiter=';')\r\n",
                "            try:\r\n",
                "                for row in csv_reader:\r\n",
                "                    print(row)\r\n",
                "\r\n",
                "            except csv.Error as e:\r\n",
                "                sys.exit('file {}, line {}: {}'.format(file, csv_reader.line_num, e))\r\n",
                "\r\n",
                "    else:\r\n",
                "        print(f'File not found: {file}')\r\n",
                "\r\n",
                "file_to_import = \"C:\\\\Users\\\\Tinu\\\\Downloads\\\\poweredOffVMs.csv\"\r\n",
                "import_csv(file_to_import)"
            ],
            "metadata": {
                "azdata_cell_guid": "e080a50a-b9c4-410c-a017-4ea4258de89d",
                "tags": [
                    "hide_input"
                ]
            },
            "outputs": [],
            "execution_count": null
        },
        {
            "cell_type": "markdown",
            "source": [
                "## Read from a JSON-file and print it out"
            ],
            "metadata": {
                "azdata_cell_guid": "f85adcc8-06e2-4523-9395-162eb20bb90f"
            }
        },
        {
            "cell_type": "code",
            "source": [
                "# region define colors\r\n",
                "class colors: \r\n",
                "    '''Colors class:reset all colors with colors.reset'''\r\n",
                "\r\n",
                "    reset         = '\\033[0m'\r\n",
                "    bold          = '\\033[01m'\r\n",
                "    disable       = '\\033[02m'\r\n",
                "    underline     = '\\033[04m'\r\n",
                "    reverse       = '\\033[07m'\r\n",
                "    strikethrough = '\\033[09m'\r\n",
                "    invisible     = '\\033[08m'\r\n",
                "\r\n",
                "    class fg: \r\n",
                "        ''' Define the foreground-colors\r\n",
                "        use as colors.fg.colorname\r\n",
                "        '''\r\n",
                "        black      = '\\033[30m'\r\n",
                "        red        = '\\033[31m'\r\n",
                "        green      = '\\033[32m'\r\n",
                "        orange     = '\\033[33m'\r\n",
                "        blue       = '\\033[34m'\r\n",
                "        purple     = '\\033[35m'\r\n",
                "        cyan       = '\\033[36m'\r\n",
                "        lightgrey  = '\\033[37m'\r\n",
                "        darkgrey   = '\\033[90m'\r\n",
                "        lightred   = '\\033[91m'\r\n",
                "        lightgreen = '\\033[92m'\r\n",
                "        yellow     = '\\033[93m'\r\n",
                "        lightblue  = '\\033[94m'\r\n",
                "        pink       = '\\033[95m'\r\n",
                "        lightcyan  = '\\033[96m'\r\n",
                "\r\n",
                "    class bg: \r\n",
                "        ''' Define the background-colors\r\n",
                "        use as colors.bg.colorname\r\n",
                "        '''\r\n",
                "        black     = '\\033[40m'\r\n",
                "        red       = '\\033[41m'\r\n",
                "        green     = '\\033[42m'\r\n",
                "        orange    = '\\033[43m'\r\n",
                "        blue      = '\\033[44m'\r\n",
                "        purple    = '\\033[45m'\r\n",
                "        cyan      = '\\033[46m'\r\n",
                "        lightgrey = '\\033[47m'\r\n",
                "#endregion"
            ],
            "metadata": {
                "azdata_cell_guid": "fde75247-d299-4c2e-a608-49a082fea00f",
                "tags": [
                    "hide_input"
                ]
            },
            "outputs": [],
            "execution_count": null
        },
        {
            "cell_type": "code",
            "source": [
                "# Function to search a specified key and print out the defined rows from a JSON-file\r\n",
                "def search_infile(file,search_identifier,search_field):\r\n",
                "    '''You can use json.load() method to read a file containing JSON object.'''\r\n",
                "    import os, json, sys\r\n",
                "    with open(file, \"r\") as read_file:\r\n",
                "        data = json.load(read_file)\r\n",
                "\r\n",
                "    try:\r\n",
                "        # Fetch through the list (array)\r\n",
                "        for key, value in data.items():\r\n",
                "            # Search for identifier\r\n",
                "            if key == search_identifier:\r\n",
                "                print(colors.fg.green + 'Found: ' + key + colors.reset)\r\n",
                "                # Value as list object\r\n",
                "                for row in value:\r\n",
                "                    print(f'Computer: {row[search_field[0]]}\\t{search_field[1]}: {row[search_field[1]]}')\r\n",
                "                    #print(row)\r\n",
                "\r\n",
                "    except:\r\n",
                "        sys.exit('file {}'.format(file))\r\n",
                "\r\n",
                "# Get defined results from the JSON-file\r\n",
                "import os\r\n",
                "file_to_import = \"C:/Users/Admin/Downloads/PatchingAnalyse.json\"\r\n",
                "check_path = os.path.exists(file_to_import)\r\n",
                "if(check_path == True):\r\n",
                "    search_key    = 'WindowsUpdate'\r\n",
                "    search_fields = ['PSComputerName','Connection']\r\n",
                "    print(colors.fg.cyan + f'Search for Key \"WindowsUpdate\"' + colors.reset)\r\n",
                "    search_infile(file_to_import, search_key, search_fields)\r\n",
                "\r\n",
                "    search_key    = 'LastPatchRun'\r\n",
                "    search_fields = ['PSComputerName','LastPatchRun']\r\n",
                "    print(colors.fg.cyan + f'Search for Key \"LastPatchRun\"' + colors.reset)\r\n",
                "    search_infile(file_to_import, search_key, search_fields)\r\n",
                "\r\n",
                "    search_key    = 'LastPatchStatus'\r\n",
                "    search_fields = ['PSComputerName','LastPatchStatus']\r\n",
                "    print(colors.fg.cyan + f'Search for Key \"LastPatchStatus\"' + colors.reset)\r\n",
                "    search_infile(file_to_import, search_key, search_fields)\r\n",
                "\r\n",
                "    search_key    = 'SoftwareKiosk'\r\n",
                "    search_fields = ['PSComputerName','State']\r\n",
                "    print(colors.fg.cyan + f'Search for Key \"SoftwareKiosk\"' + colors.reset)\r\n",
                "    search_infile(file_to_import, search_key, search_fields)\r\n",
                "\r\n",
                "    search_key    = 'CumulativeUpdate'\r\n",
                "    search_fields = ['PSComputerName','Description']\r\n",
                "    print(colors.fg.cyan + f'Search for Key \"CumulativeUpdate\"' + colors.reset)\r\n",
                "    search_infile(file_to_import, search_key, search_fields)\r\n",
                "\r\n",
                "    search_key    = 'SCCMErrors'\r\n",
                "    search_fields = ['PSComputerName','Message']\r\n",
                "    print(colors.fg.cyan + f'Search for Key \"SCCMErrors\"' + colors.reset)\r\n",
                "    search_infile(file_to_import, search_key, search_fields)"
            ],
            "metadata": {
                "azdata_cell_guid": "cde5cadb-20e4-48e9-a6c0-b2ddc58e57f1",
                "tags": [
                    "hide_input"
                ]
            },
            "outputs": [],
            "execution_count": null
        },
        {
            "cell_type": "code",
            "source": [
                "# Function to read and print out the whole JSON-file\r\n",
                "def list_jsonfile(file):\r\n",
                "    '''You can use json.load() method to read a file containing JSON object.'''\r\n",
                "    import os, json, sys\r\n",
                "    with open(file, \"r\") as read_file:\r\n",
                "        data = json.load(read_file)\r\n",
                "\r\n",
                "    try:\r\n",
                "        # Fetch through the list (array)\r\n",
                "        for key, value in data.items():\r\n",
                "            print(colors.fg.green + 'Found: ' + key + colors.reset)\r\n",
                "            # Value as list object\r\n",
                "            if value is None:\r\n",
                "                continue\r\n",
                "            else:\r\n",
                "                for row in value:\r\n",
                "                    print(row['RunspaceId'])\r\n",
                "\r\n",
                "    except:\r\n",
                "        sys.exit('file {}'.format(file))\r\n",
                "\r\n",
                "\r\n",
                "# Get all results from the JSON-file\r\n",
                "import os\r\n",
                "file_to_import = \"C:/Users/Admin/Downloads/PatchingAnalyse.json\"\r\n",
                "check_path = os.path.exists(file_to_import)\r\n",
                "if(check_path == True):\r\n",
                "    list_jsonfile(file_to_import)"
            ],
            "metadata": {
                "azdata_cell_guid": "17fec9ab-1097-4d99-a562-8f78a82cfa8c",
                "tags": [
                    "hide_input"
                ]
            },
            "outputs": [],
            "execution_count": null
        },
        {
            "cell_type": "code",
            "source": [
                "# Function to search for the specified key and print out the elements of it from a JSON-file\r\n",
                "def search_infile(file,search_identifier):\r\n",
                "    '''You can use json.load() method to read a file containing JSON object.'''\r\n",
                "    import os, json, sys\r\n",
                "    with open(file, \"r\") as read_file:\r\n",
                "        data = json.load(read_file)\r\n",
                "\r\n",
                "    try:\r\n",
                "        # Fetch through the list (array)\r\n",
                "        for item in search_identifier:\r\n",
                "            print(colors.fg.green + 'Found: ' + item + colors.reset)\r\n",
                "            for key, value in data.items():\r\n",
                "                #print(colors.fg.green + 'Found: ' + key + colors.reset)\r\n",
                "                if key == item:\r\n",
                "                    # Value as list object\r\n",
                "                    if value is None:\r\n",
                "                        continue\r\n",
                "                    else:\r\n",
                "                        for row in value:\r\n",
                "                            print(row)\r\n",
                "\r\n",
                "    except:\r\n",
                "        sys.exit('file {}'.format(file))\r\n",
                "\r\n",
                "# Get all results from the JSON-file\r\n",
                "import os\r\n",
                "file_to_import = \"C:/Users/Admin/Downloads/PatchingAnalyse.json\"\r\n",
                "check_path = os.path.exists(file_to_import)\r\n",
                "if(check_path == True):\r\n",
                "    search_identifier = ['LastPatchRun','LastPatchStatus','WindowsUpdate','SCCMAgent']\r\n",
                "    search_infile(file_to_import,search_identifier)"
            ],
            "metadata": {
                "azdata_cell_guid": "3fe680e1-2769-48ed-9030-c0edb7bd3bb8",
                "tags": [
                    "hide_input"
                ]
            },
            "outputs": [],
            "execution_count": null
        },
        {
            "cell_type": "markdown",
            "source": [
                "## Read from a JSON-file and import into MongoDB Atlas\n",
                "\n",
                "Connect to the remote Mongo DB and import data from JSON-file"
            ],
            "metadata": {
                "azdata_cell_guid": "fc606b94-df3c-4701-bfdd-11aac20665d0"
            }
        },
        {
            "cell_type": "code",
            "source": [
                "# Function to search for the specified key and return the elements of it from a JSON-file\r\n",
                "def search_infile(file,search_identifier):\r\n",
                "    '''You can use json.load() method to read a file containing JSON object.'''\r\n",
                "    import json, sys\r\n",
                "\r\n",
                "    with open(file, \"r\") as read_file:\r\n",
                "        data = json.load(read_file)\r\n",
                "\r\n",
                "    try:\r\n",
                "        # Fetch through the list (array)\r\n",
                "        for key, value in data.items():\r\n",
                "            if key == search_identifier:\r\n",
                "                if value is None:\r\n",
                "                    continue\r\n",
                "                else:\r\n",
                "                    return_data = value\r\n",
                "    except:\r\n",
                "        sys.exit('file {}'.format(file))\r\n",
                "\r\n",
                "    return return_data\r\n",
                "\r\n",
                "# Get all results from the JSON-file\r\n",
                "import os, pymongo, dns\r\n",
                "mongo_client = pymongo.MongoClient(connectionstring)\r\n",
                "mongo_db     = mongo_client['JupyterNB']\r\n",
                "mongo_col    = mongo_db['FailedPatching']\r\n",
                "\r\n",
                "file_to_import = \"C:/Users/Admin/Downloads/PatchingAnalyse.json\"\r\n",
                "check_path     = os.path.exists(file_to_import)\r\n",
                "\r\n",
                "if(check_path == True):\r\n",
                "    \r\n",
                "    # Create a new data and import into mongodb\r\n",
                "    for patchrun in search_infile(file_to_import,'LastPatchRun'):\r\n",
                "        for patchstatus in search_infile(file_to_import,'LastPatchStatus'):\r\n",
                "            # Join LastPatchRun with LastPatchStatus\r\n",
                "            if patchstatus['RunspaceId'] == patchrun['RunspaceId']:\r\n",
                "                for winupd in search_infile(file_to_import,'WindowsUpdate'):\r\n",
                "                    # Join LastPatchRun with LastPatchStatus and WindowsUpdate\r\n",
                "                    if winupd['RunspaceId'] == patchrun['RunspaceId']:\r\n",
                "                        for ccmexec in search_infile(file_to_import,'SCCMAgent'):\r\n",
                "                            # Join LastPatchRun with LastPatchStatus, WindowsUpdate and SCCMAgent\r\n",
                "                            if ccmexec['RunspaceId'] == patchrun['RunspaceId']:\r\n",
                "                                for cimsccm in search_infile(file_to_import,'SCCMCimInstance'):\r\n",
                "                                    # Join LastPatchRun with LastPatchStatus, WindowsUpdate, SCCMAgent and SCCMCimInstance\r\n",
                "                                    if cimsccm['RunspaceId'] == patchrun['RunspaceId']:\r\n",
                "                                        thisdict = {                                \r\n",
                "                                            'RunspaceId'           : patchrun['RunspaceId'],\r\n",
                "                                            'PSComputerName'       : patchrun['PSComputerName'],\r\n",
                "                                            'LastPatchRun'         : patchrun['LastPatchRun'],\r\n",
                "                                            'LastPatchStatus'      : patchstatus['LastPatchStatus'],\r\n",
                "                                            'UpdateServer'         : winupd['WUServer'],\r\n",
                "                                            'UpdateServerStatus'   : winupd['Connection'],\r\n",
                "                                            'CcmExecVersion'       : ccmexec['Version'],\r\n",
                "                                            'CcmExecInstallDate'   : ccmexec['InstallDate'],\r\n",
                "                                            'CCMManagementPoint'   : cimsccm['ManagementPoint'],\r\n",
                "                                            'CCMCimInstanceStatus' : cimsccm['Status']\r\n",
                "                                        }\r\n",
                "                                        mongo_col.insert_one(thisdict)\r\n",
                "\r\n",
                "mongo_client.close()"
            ],
            "metadata": {
                "azdata_cell_guid": "92b1da1e-94c0-4a63-8c69-6340e1ff060b",
                "tags": [
                    "hide_input"
                ]
            },
            "outputs": [],
            "execution_count": null
        },
        {
            "cell_type": "markdown",
            "source": [
                "## INSERT INTO table\n",
                "\n",
                "Import-CSV in the local MongoDB Collection PoweredOffVMs"
            ],
            "metadata": {
                "azdata_cell_guid": "235d20a9-c036-4f10-9f6b-0b8d1644af66"
            }
        },
        {
            "cell_type": "code",
            "source": [
                "def import_csv_mongodb(file, connectionstring, mongodatabase, collection):\r\n",
                "    '''Import-CSV in the MongoDB Atlas Collection PoweredOffVMs'''\r\n",
                "    import csv, sys, os, pymongo\r\n",
                "    check_path = os.path.exists(file)\r\n",
                "    if(check_path == True):\r\n",
                "        \r\n",
                "        mongo_client = pymongo.MongoClient(connectionstring)\r\n",
                "        mongo_db     = mongo_client[mongodatabase]\r\n",
                "        mongo_col    = mongo_db[collection]\r\n",
                "\r\n",
                "        with open(file, mode='r', newline='') as csv_file:\r\n",
                "            csv_reader = csv.DictReader(csv_file, delimiter=';')\r\n",
                "            try:\r\n",
                "                mongo_col.insert_many(csv_reader)\r\n",
                "\r\n",
                "            except csv.Error as e:\r\n",
                "                sys.exit('file {}, line {}: {}'.format(file, csv_reader.line_num, e))\r\n",
                "\r\n",
                "        mongo_client.close()\r\n",
                "\r\n",
                "    else:\r\n",
                "        print(f'File not found: {file}')\r\n",
                "\r\n",
                "file_to_import = \"C:\\\\Users\\\\Tinu\\\\Downloads\\\\poweredOffVMs.csv\"\r\n",
                "import_csv_mongodb(file_to_import, connectionstring, 'JupyterNB', 'PoweredOffVMs')"
            ],
            "metadata": {
                "azdata_cell_guid": "8a42b6a8-19bb-4e53-99cc-c9430e7dd563",
                "tags": [
                    "hide_input"
                ]
            },
            "outputs": [],
            "execution_count": null
        },
        {
            "cell_type": "markdown",
            "source": [
                "## SELECT \\* FROM table VALUES\n",
                "\n",
                "## <span style=\"font-size: 14px;\">Show tab-separated list</span>"
            ],
            "metadata": {
                "azdata_cell_guid": "ad36326a-4cec-491d-9944-30a8bf47dbe0"
            }
        },
        {
            "cell_type": "code",
            "source": [
                "def print_collection(connectionstring, mongodatabase, collection):\r\n",
                "    import pymongo\r\n",
                "    mongo_client = pymongo.MongoClient(connectionstring)\r\n",
                "    mongo_db     = mongo_client[mongodatabase]\r\n",
                "    mongo_col    = mongo_db[collection]\r\n",
                "    for doc in mongo_col.find():\r\n",
                "        print('{0}\\t{1}\\t{2}\\t{3}'.format(doc['PSComputerName'],doc['PowerState'],doc['LastPatched'],doc['PatchingWindow']))\r\n",
                "\r\n",
                "    mongo_client.close()\r\n",
                "\r\n",
                "print_collection(connectionstring, 'JupyterNB', 'PoweredOffVMs')"
            ],
            "metadata": {
                "azdata_cell_guid": "ee7dacfe-5386-4a4d-ad69-115bade48765",
                "tags": [
                    "hide_input"
                ]
            },
            "outputs": [],
            "execution_count": null
        },
        {
            "cell_type": "markdown",
            "source": [
                "## SELECT \\* FROM table WHERE VMName LIKE 'TINU005'\n",
                "\n",
                "### <span style=\"font-size: 14px;\">Connect to the remote Mongo DB and search for a document</span>"
            ],
            "metadata": {
                "azdata_cell_guid": "8821fbf7-cc10-48d0-ae33-dc89227d19d8"
            }
        },
        {
            "cell_type": "code",
            "source": [
                "def search_for_document(connectionstring, mongodatabase, collection, filter):\r\n",
                "    import pymongo, pandas as pd\r\n",
                "    result = []\r\n",
                "    mongo_client = pymongo.MongoClient(connectionstring))\r\n",
                "    mongo_db     = mongo_client[mongodatabase]\r\n",
                "    mongo_col    = mongo_db[collection]\r\n",
                "    for doc in mongo_col.find(filter):\r\n",
                "        #print('{0}\\t{1}\\t{2}\\t{3}\\t{4}\\t{5}'.format(doc['LastRunTime'],doc['VMName'],doc['PSComputerName'],doc['PowerState'],doc['LastPatched'],doc['PatchingWindow']))\r\n",
                "        thisdict = {                                \r\n",
                "            #'RunspaceId'           : failedpatching['RunspaceId'],\r\n",
                "            'PSComputerName'       : failedpatching['PSComputerName'],\r\n",
                "            #'LastPatchRun'         : failedpatching['LastPatchRun'],\r\n",
                "            'LastPatchStatus'      : failedpatching['LastPatchStatus'],\r\n",
                "            'UpdateServerStatus'   : failedpatching['UpdateServerStatus'],\r\n",
                "            'CcmExecVersion'       : failedpatching['CcmExecVersion'],\r\n",
                "            'CCMCimInstanceStatus' : failedpatching['CCMCimInstanceStatus'],\r\n",
                "        }\r\n",
                "        result.append(thisdict)\r\n",
                "\r\n",
                "    mongo_client.close()\r\n",
                "\r\n",
                "    # Print data frame set as table\r\n",
                "    df = pd.DataFrame(result)\r\n",
                "    print(df.to_string())\r\n",
                "\r\n",
                "searchdocument   = { \"PSComputerName\": \"xsc0000585.child.domain.com\" }\r\n",
                "search_for_document(connectionstring, 'JupyterNB', 'FailedPatching', searchdocument)"
            ],
            "metadata": {
                "azdata_cell_guid": "74331df7-2a4b-4dde-9a34-923074958972",
                "tags": [
                    "hide_input"
                ]
            },
            "outputs": [
                {
                    "output_type": "stream",
                    "name": "stdout",
                    "text": "                PSComputerName LastPatchStatus UpdateServerStatus  CcmExecVersion CCMCimInstanceStatus\n0  xsc0000983.child.domain.com                                 OK  5.00.8968.1000              Success\n"
                }
            ],
            "execution_count": 369
        }
    ]
}
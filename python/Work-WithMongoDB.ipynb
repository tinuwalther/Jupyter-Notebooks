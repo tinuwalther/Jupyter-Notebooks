{
    "metadata": {
        "kernelspec": {
            "name": "python3",
            "display_name": "Python 3",
            "language": "python"
        },
        "language_info": {
            "name": "python",
            "version": "3.9.1",
            "mimetype": "text/x-python",
            "codemirror_mode": {
                "name": "ipython",
                "version": 3
            },
            "pygments_lexer": "ipython3",
            "nbconvert_exporter": "python",
            "file_extension": ".py"
        }
    },
    "nbformat_minor": 2,
    "nbformat": 4,
    "cells": [
        {
            "cell_type": "markdown",
            "source": [
                "# Work with the local MongoDB\n",
                "\n",
                "## SELECT \\* FROM table\n",
                "\n",
                "Connect to the local MongoDB and return each document"
            ],
            "metadata": {
                "azdata_cell_guid": "d418f2ba-c5a3-46c8-a7e5-c8ee02f43142"
            }
        },
        {
            "cell_type": "code",
            "source": [
                "import pymongo\r\n",
                "mongo_client = pymongo.MongoClient('mongodb://localhost:27017')\r\n",
                "\r\n",
                "db  = mongo_client.JupyterNB\r\n",
                "col = db.PoweredOffVMs\r\n",
                "\r\n",
                "result = col.find()\r\n",
                "for doc in result:\r\n",
                "    print(doc)\r\n",
                "\r\n",
                "mongo_client.close()"
            ],
            "metadata": {
                "azdata_cell_guid": "24026d63-93a1-4697-9bcc-f2e6da40948b",
                "tags": [
                    "hide_input"
                ]
            },
            "outputs": [],
            "execution_count": null
        },
        {
            "cell_type": "markdown",
            "source": [
                "## INSERT INTO table\n",
                "\n",
                "Connect to the local MongoDB and insert one document"
            ],
            "metadata": {
                "azdata_cell_guid": "cded035e-c46a-45ed-bef9-df32da40eead"
            }
        },
        {
            "cell_type": "code",
            "source": [
                "import pymongo\r\n",
                "mongo_client = pymongo.MongoClient('mongodb://localhost:27017')\r\n",
                "\r\n",
                "db  = mongo_client.JupyterNB\r\n",
                "col = db.PoweredOffVMs\r\n",
                "\r\n",
                "mydict = { \"ComputerName\": \"TINU2015.domain.com\", \"PowerState\": \"On\" }\r\n",
                "col.insert_one(mydict)\r\n",
                "\r\n",
                "result = col.find()\r\n",
                "for doc in result:\r\n",
                "    print(\"ComputerName:\", doc[\"ComputerName\"], \"PowerState:\", doc[\"PowerState\"])\r\n",
                "\r\n",
                "mongo_client.close()"
            ],
            "metadata": {
                "azdata_cell_guid": "6c4a3cb9-0904-452e-a360-e11fd7a72787",
                "tags": [
                    "hide_input"
                ]
            },
            "outputs": [],
            "execution_count": null
        },
        {
            "cell_type": "markdown",
            "source": [
                "## DELETE FROM table\n",
                "\n",
                "Connect to the local MongoDB and delete all Documents in the Collection PoweredOffVMs"
            ],
            "metadata": {
                "azdata_cell_guid": "a3486810-ee82-45f0-a071-a83dbf57ed4a"
            }
        },
        {
            "cell_type": "code",
            "source": [
                "import pymongo\r\n",
                "mongo_client = pymongo.MongoClient('mongodb://localhost:27017')\r\n",
                "\r\n",
                "db  = mongo_client.JupyterNB\r\n",
                "col = db.PoweredOffVMs\r\n",
                "\r\n",
                "col.delete_many({})\r\n",
                "\r\n",
                "result = col.find()\r\n",
                "for doc in result:\r\n",
                "    print(doc)\r\n",
                "\r\n",
                "mongo_client.close()"
            ],
            "metadata": {
                "azdata_cell_guid": "8cd286a8-2fca-4d42-b7fd-50de6e4ebfa7",
                "tags": [
                    "hide_input"
                ]
            },
            "outputs": [],
            "execution_count": null
        },
        {
            "cell_type": "markdown",
            "source": [
                "## Read a CSV-file and print it out"
            ],
            "metadata": {
                "azdata_cell_guid": "2087f911-3c2f-47a6-8861-a129778e73fa"
            }
        },
        {
            "cell_type": "code",
            "source": [
                "file_to_import = \"C:\\\\Users\\\\Tinu\\\\Downloads\\\\poweredOffVMs.csv\"\r\n",
                "\r\n",
                "def import_csv(file):\r\n",
                "    '''Import-CSV'''\r\n",
                "    import csv, sys, os\r\n",
                "\r\n",
                "    check_path = os.path.exists(file)\r\n",
                "    if(check_path == True):\r\n",
                "\r\n",
                "        with open(file, mode='r', newline='') as csv_file:\r\n",
                "            csv_reader = csv.DictReader(csv_file, delimiter=';')\r\n",
                "            try:\r\n",
                "                for row in csv_reader:\r\n",
                "                    print(row)\r\n",
                "\r\n",
                "            except csv.Error as e:\r\n",
                "                sys.exit('file {}, line {}: {}'.format(file, csv_reader.line_num, e))\r\n",
                "\r\n",
                "    else:\r\n",
                "        print(f'File not found: {file}')\r\n",
                "\r\n",
                "import_csv(file_to_import)"
            ],
            "metadata": {
                "azdata_cell_guid": "e080a50a-b9c4-410c-a017-4ea4258de89d",
                "tags": [
                    "hide_input"
                ]
            },
            "outputs": [],
            "execution_count": null
        },
        {
            "cell_type": "markdown",
            "source": [
                "## INSERT INTO table\n",
                "\n",
                "Import-CSV in the local MongoDB Collection PoweredOffVMs"
            ],
            "metadata": {
                "azdata_cell_guid": "235d20a9-c036-4f10-9f6b-0b8d1644af66"
            }
        },
        {
            "cell_type": "code",
            "source": [
                "file_to_import = \"C:\\\\Users\\\\Tinu\\\\Downloads\\\\poweredOffVMs.csv\"\r\n",
                "\r\n",
                "def import_csv_mongodb(file):\r\n",
                "    '''Import-CSV in the local MongoDB Collection PoweredOffVMs'''\r\n",
                "    import csv, sys, os, pymongo\r\n",
                "\r\n",
                "    check_path = os.path.exists(file)\r\n",
                "    if(check_path == True):\r\n",
                "        \r\n",
                "        mongo_client = pymongo.MongoClient('mongodb://localhost:27017')\r\n",
                "        db  = mongo_client.JupyterNB\r\n",
                "        col = db.PoweredOffVMs\r\n",
                "\r\n",
                "        with open(file, mode='r', newline='') as csv_file:\r\n",
                "            csv_reader = csv.DictReader(csv_file, delimiter=';')\r\n",
                "            try:\r\n",
                "                col.insert_many(csv_reader)\r\n",
                "\r\n",
                "            except csv.Error as e:\r\n",
                "                sys.exit('file {}, line {}: {}'.format(file, csv_reader.line_num, e))\r\n",
                "\r\n",
                "        mongo_client.close()\r\n",
                "\r\n",
                "    else:\r\n",
                "        print(f'File not found: {file}')\r\n",
                "\r\n",
                "import_csv_mongodb(file_to_import)"
            ],
            "metadata": {
                "azdata_cell_guid": "8a42b6a8-19bb-4e53-99cc-c9430e7dd563",
                "tags": [
                    "hide_input"
                ]
            },
            "outputs": [],
            "execution_count": null
        },
        {
            "cell_type": "markdown",
            "source": [
                "Import-CSV in the local MongoDB Collection PoweredOffVMs foreach row"
            ],
            "metadata": {
                "azdata_cell_guid": "4b998f17-a728-4aa0-80af-c32b1eb5bc7b"
            }
        },
        {
            "cell_type": "code",
            "source": [
                "file_to_import = \"C:\\\\Users\\\\Tinu\\\\Downloads\\\\poweredOffVMs.csv\"\r\n",
                "\r\n",
                "def import_csv_mongodb(file):\r\n",
                "    '''Import-CSV in the local MongoDB Collection PoweredOffVMs'''\r\n",
                "    import csv, sys, os, pymongo\r\n",
                "\r\n",
                "    check_path = os.path.exists(file)\r\n",
                "    if(check_path == True):\r\n",
                "        \r\n",
                "        mongo_client = pymongo.MongoClient('mongodb://localhost:27017')\r\n",
                "        db  = mongo_client.JupyterNB\r\n",
                "        col = db.PoweredOffVMs\r\n",
                "\r\n",
                "        with open(file, mode='r', newline='') as csv_file:\r\n",
                "            csv_reader = csv.DictReader(csv_file, delimiter=';')\r\n",
                "            try:\r\n",
                "                for row in csv_reader:\r\n",
                "                    col.insert_one(row)\r\n",
                "\r\n",
                "            except csv.Error as e:\r\n",
                "                sys.exit('file {}, line {}: {}'.format(file, csv_reader.line_num, e))\r\n",
                "\r\n",
                "        mongo_client.close()\r\n",
                "\r\n",
                "    else:\r\n",
                "        print(f'File not found: {file}')\r\n",
                "\r\n",
                "import_csv_mongodb(file_to_import)"
            ],
            "metadata": {
                "azdata_cell_guid": "e46595f1-224f-4169-a938-203d3510d665",
                "tags": [
                    "hide_input"
                ]
            },
            "outputs": [],
            "execution_count": null
        },
        {
            "cell_type": "markdown",
            "source": [
                "## SELECT \\* FROM table VALUES\n",
                "\n",
                "## <span style=\"font-size: 14px;\">Show tab-separated list</span>"
            ],
            "metadata": {
                "azdata_cell_guid": "ad36326a-4cec-491d-9944-30a8bf47dbe0"
            }
        },
        {
            "cell_type": "code",
            "source": [
                "import pymongo\r\n",
                "mongo_client = pymongo.MongoClient('mongodb://localhost:27017')\r\n",
                "\r\n",
                "db  = mongo_client.JupyterNB\r\n",
                "col = db.PoweredOffVMs\r\n",
                "\r\n",
                "result = col.find()\r\n",
                "for doc in result:\r\n",
                "    print('{0}\\t{1}\\t{2}\\t{3}\\t{4}\\t{5}'.format(doc['LastRunTime'],doc['VMName'],doc['ComputerName'],doc['PowerState'],doc['LastPatched'],doc['PatchingWindow']))\r\n",
                "\r\n",
                "mongo_client.close()"
            ],
            "metadata": {
                "azdata_cell_guid": "ee7dacfe-5386-4a4d-ad69-115bade48765",
                "tags": [
                    "hide_input"
                ]
            },
            "outputs": [],
            "execution_count": null
        },
        {
            "cell_type": "markdown",
            "source": [
                "## SELECT \\* FROM table WHERE VMName LIKE 'TINU005'\n",
                "\n",
                "Search for a document"
            ],
            "metadata": {
                "azdata_cell_guid": "8821fbf7-cc10-48d0-ae33-dc89227d19d8"
            }
        },
        {
            "cell_type": "code",
            "source": [
                "import pymongo\r\n",
                "mongo_client = pymongo.MongoClient('mongodb://localhost:27017')\r\n",
                "\r\n",
                "db  = mongo_client.JupyterNB\r\n",
                "col = db.PoweredOffVMs\r\n",
                "\r\n",
                "myquery = { \"VMName\": \"TINU005\" }\r\n",
                "result = col.find(myquery)\r\n",
                "\r\n",
                "for doc in result:\r\n",
                "    print('{0}\\t{1}\\t{2}\\t{3}\\t{4}\\t{5}'.format(doc['LastRunTime'],doc['VMName'],doc['ComputerName'],doc['PowerState'],doc['LastPatched'],doc['PatchingWindow']))\r\n",
                "\r\n",
                "mongo_client.close()"
            ],
            "metadata": {
                "azdata_cell_guid": "1da1b1f4-3f0a-41b2-b7d7-5df9711cc0cf",
                "tags": [
                    "hide_input"
                ]
            },
            "outputs": [],
            "execution_count": null
        }
    ]
}
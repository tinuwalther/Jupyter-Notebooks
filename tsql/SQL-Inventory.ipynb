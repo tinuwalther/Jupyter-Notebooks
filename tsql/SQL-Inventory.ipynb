{
    "metadata": {
        "kernelspec": {
            "name": "SQL",
            "display_name": "SQL",
            "language": "sql"
        },
        "language_info": {
            "name": "sql",
            "version": ""
        }
    },
    "nbformat_minor": 2,
    "nbformat": 4,
    "cells": [
        {
            "cell_type": "markdown",
            "source": [
                "# Inventory"
            ],
            "metadata": {
                "azdata_cell_guid": "3359cb1e-1fc4-4fc8-8729-d54db4d1926c"
            }
        },
        {
            "cell_type": "markdown",
            "source": [
                "## Create table inventory\n",
                "\n",
                "Create the inventory table\n",
                "\n",
                "| Name | Datatype | Null |\n",
                "| --- | --- | --- |\n",
                "| ID | uniqueidentifier | NOT NULL |\n",
                "| RunTime | datetime | NOT NULL |\n",
                "| DeviceType | nvarchar(50) | NOT NULL |\n",
                "| DeviceName | nvarchar(50) | NOT NULL |\n",
                "| Physical cores | int | NULL |\n",
                "| MemoryGB | int | NULL |\n",
                "| DiskspaceGB | int | NULL |\n",
                "| PurchaseDate | datetime | NULL |\n",
                "| Price | decimal(20, 2) | NULL |\n",
                "| Payment | nvarchar(50) | NULL |\n",
                "| Warranty | nvarchar(50) | NULL |\n",
                "| Link | NVARCHAR(MAX) | NULL |"
            ],
            "metadata": {
                "azdata_cell_guid": "8f84b733-5575-4cac-b40a-e1f1cc61319f"
            }
        },
        {
            "cell_type": "code",
            "source": [
                "SET ANSI_NULLS ON\n",
                "GO\n",
                "SET QUOTED_IDENTIFIER ON\n",
                "GO\n",
                "CREATE TABLE [dbo].[inventory](\n",
                "\t[ID] [uniqueidentifier] NOT NULL,\n",
                "\t[RunTime] [datetime] NOT NULL,\n",
                "\t[DeviceType] [nvarchar](50) NOT NULL,\n",
                "\t[DeviceName] [nvarchar](50) NOT NULL,\n",
                "\t[Physical cores] [int] NULL,\n",
                "\t[MemoryGB] [int] NULL,\n",
                "\t[DiskspaceGB] [int] NULL,\n",
                "\t[PurchaseDate] [datetime] NULL,\n",
                "\t[Price] [decimal](20, 2) NULL,\n",
                "\t[Payment] [nvarchar](50) NULL,\n",
                "\t[Warranty] [nvarchar](50) NULL,\n",
                "\t[Link] NVARCHAR(MAX) NULL\n",
                ") ON [PRIMARY]\n",
                "GO\n",
                "ALTER TABLE [dbo].[inventory] ADD PRIMARY KEY CLUSTERED \n",
                "(\n",
                "\t[ID] ASC\n",
                ")WITH (PAD_INDEX = OFF, STATISTICS_NORECOMPUTE = OFF, SORT_IN_TEMPDB = OFF, IGNORE_DUP_KEY = OFF, ONLINE = OFF, ALLOW_ROW_LOCKS = ON, ALLOW_PAGE_LOCKS = ON) ON [PRIMARY]\n",
                "GO\n",
                "ALTER TABLE [dbo].[inventory] ADD  DEFAULT (newsequentialid()) FOR [ID]\n",
                "GO\n",
                ""
            ],
            "metadata": {
                "azdata_cell_guid": "e340b269-1874-47ac-ad29-470c8805681c",
                "tags": [
                    "hide_input"
                ]
            },
            "outputs": [],
            "execution_count": null
        },
        {
            "cell_type": "markdown",
            "source": [
                "## Show the inventory"
            ],
            "metadata": {
                "azdata_cell_guid": "110c59f4-5c51-405a-8cdb-4ee7c99fe7c8"
            }
        },
        {
            "cell_type": "code",
            "source": [
                "-- List all values of the table 'inventory' in schema '[dbo]'\n",
                "USE tinu;\n",
                "GO\n",
                "SELECT TOP (10) [ID]\n",
                "      ,[RunTime]\n",
                "      ,[DeviceType]\n",
                "      ,[DeviceName]\n",
                "      ,[Physical cores]\n",
                "      ,[MemoryGB]\n",
                "      ,[DiskspaceGB]\n",
                "      ,[PurchaseDate]\n",
                "      ,[Price]\n",
                "      ,[Payment]\n",
                "      ,[Warranty]\n",
                "      ,[Link]\n",
                "  FROM [tinu].[dbo].[inventory]"
            ],
            "metadata": {
                "azdata_cell_guid": "48f230e0-eb54-423f-8f0d-ae3be3af0520",
                "tags": [
                    "hide_input"
                ]
            },
            "outputs": [
                {
                    "output_type": "display_data",
                    "data": {
                        "text/html": "Commands completed successfully."
                    },
                    "metadata": {}
                },
                {
                    "output_type": "display_data",
                    "data": {
                        "text/html": "(5 rows affected)"
                    },
                    "metadata": {}
                },
                {
                    "output_type": "display_data",
                    "data": {
                        "text/html": "Total execution time: 00:00:00.020"
                    },
                    "metadata": {}
                },
                {
                    "output_type": "execute_result",
                    "metadata": {},
                    "execution_count": 24,
                    "data": {
                        "application/vnd.dataresource+json": {
                            "schema": {
                                "fields": [
                                    {
                                        "name": "ID"
                                    },
                                    {
                                        "name": "RunTime"
                                    },
                                    {
                                        "name": "DeviceType"
                                    },
                                    {
                                        "name": "DeviceName"
                                    },
                                    {
                                        "name": "Physical cores"
                                    },
                                    {
                                        "name": "MemoryGB"
                                    },
                                    {
                                        "name": "DiskspaceGB"
                                    },
                                    {
                                        "name": "PurchaseDate"
                                    },
                                    {
                                        "name": "Price"
                                    },
                                    {
                                        "name": "Payment"
                                    },
                                    {
                                        "name": "Warranty"
                                    },
                                    {
                                        "name": "Link"
                                    }
                                ]
                            },
                            "data": [
                                {
                                    "0": "96fb423e-f36b-1410-8134-00daf9a34b4e",
                                    "1": "2021-05-21 15:00:24.090",
                                    "2": "Convertible",
                                    "3": "Microsoft Surface Pro 4",
                                    "4": "2",
                                    "5": "8",
                                    "6": "256",
                                    "7": "2015-05-13 00:00:00.000",
                                    "8": "NULL",
                                    "9": "Maestrocard",
                                    "10": "2",
                                    "11": "NULL"
                                },
                                {
                                    "0": "97fb423e-f36b-1410-8134-00daf9a34b4e",
                                    "1": "2021-05-22 17:04:13.177",
                                    "2": "iMac",
                                    "3": "Apple iMac (Retina 4K, 21.5-inch, 2017)",
                                    "4": "4",
                                    "5": "16",
                                    "6": "512",
                                    "7": "2019-07-01 00:00:00.000",
                                    "8": "2341.40",
                                    "9": "Mastercard",
                                    "10": "2+1",
                                    "11": "NULL"
                                },
                                {
                                    "0": "4a27433e-f36b-1410-8136-00daf9a34b4e",
                                    "1": "2021-05-21 14:18:57.330",
                                    "2": "Handy",
                                    "3": "Huawei P30 Pro DualSIM 4G+ Aurora",
                                    "4": "NULL",
                                    "5": "8",
                                    "6": "128",
                                    "7": "2019-05-13 00:00:00.000",
                                    "8": "999.00",
                                    "9": "Mastercard",
                                    "10": "2+1",
                                    "11": "NULL"
                                },
                                {
                                    "0": "4e27433e-f36b-1410-8136-00daf9a34b4e",
                                    "1": "2021-05-21 16:30:57.480",
                                    "2": "Camera",
                                    "3": "NIKON Z6",
                                    "4": "NULL",
                                    "5": "NULL",
                                    "6": "NULL",
                                    "7": "2020-01-15 00:00:00.000",
                                    "8": "2099.00",
                                    "9": "Mastercard",
                                    "10": "3+1",
                                    "11": "NULL"
                                },
                                {
                                    "0": "82c7423e-f36b-1410-8138-00daf9a34b4e",
                                    "1": "2021-05-22 17:23:32.503",
                                    "2": "Conertible",
                                    "3": "HP EliteBook x360 1030 G8",
                                    "4": "4",
                                    "5": "16",
                                    "6": "512",
                                    "7": "NULL",
                                    "8": "2249.00",
                                    "9": "NULL",
                                    "10": "NULL",
                                    "11": "https://store.hp.com/SwitzerlandStore/Merch/Product.aspx?id=358T8EA&opt=UUZ&sel=NTB"
                                }
                            ]
                        },
                        "text/html": [
                            "<table>",
                            "<tr><th>ID</th><th>RunTime</th><th>DeviceType</th><th>DeviceName</th><th>Physical cores</th><th>MemoryGB</th><th>DiskspaceGB</th><th>PurchaseDate</th><th>Price</th><th>Payment</th><th>Warranty</th><th>Link</th></tr>",
                            "<tr><td>96fb423e-f36b-1410-8134-00daf9a34b4e</td><td>2021-05-21 15:00:24.090</td><td>Convertible</td><td>Microsoft Surface Pro 4</td><td>2</td><td>8</td><td>256</td><td>2015-05-13 00:00:00.000</td><td>NULL</td><td>Maestrocard</td><td>2</td><td>NULL</td></tr>",
                            "<tr><td>97fb423e-f36b-1410-8134-00daf9a34b4e</td><td>2021-05-22 17:04:13.177</td><td>iMac</td><td>Apple iMac (Retina 4K, 21.5-inch, 2017)</td><td>4</td><td>16</td><td>512</td><td>2019-07-01 00:00:00.000</td><td>2341.40</td><td>Mastercard</td><td>2+1</td><td>NULL</td></tr>",
                            "<tr><td>4a27433e-f36b-1410-8136-00daf9a34b4e</td><td>2021-05-21 14:18:57.330</td><td>Handy</td><td>Huawei P30 Pro DualSIM 4G+ Aurora</td><td>NULL</td><td>8</td><td>128</td><td>2019-05-13 00:00:00.000</td><td>999.00</td><td>Mastercard</td><td>2+1</td><td>NULL</td></tr>",
                            "<tr><td>4e27433e-f36b-1410-8136-00daf9a34b4e</td><td>2021-05-21 16:30:57.480</td><td>Camera</td><td>NIKON Z6</td><td>NULL</td><td>NULL</td><td>NULL</td><td>2020-01-15 00:00:00.000</td><td>2099.00</td><td>Mastercard</td><td>3+1</td><td>NULL</td></tr>",
                            "<tr><td>82c7423e-f36b-1410-8138-00daf9a34b4e</td><td>2021-05-22 17:23:32.503</td><td>Conertible</td><td>HP EliteBook x360 1030 G8</td><td>4</td><td>16</td><td>512</td><td>NULL</td><td>2249.00</td><td>NULL</td><td>NULL</td><td>https://store.hp.com/SwitzerlandStore/Merch/Product.aspx?id=358T8EA&amp;opt=UUZ&amp;sel=NTB</td></tr>",
                            "</table>"
                        ]
                    }
                }
            ],
            "execution_count": 24
        },
        {
            "cell_type": "markdown",
            "source": [
                "## Add new row"
            ],
            "metadata": {
                "azdata_cell_guid": "9f345669-ace8-4d0b-a877-66e9b0c437ee"
            }
        },
        {
            "cell_type": "code",
            "source": [
                "-- Insert rows into table 'inventory' in schema '[dbo]'\n",
                "USE tinu;\n",
                "GO\n",
                "\n",
                "INSERT INTO [dbo].[inventory]\n",
                "( -- Columns to insert data into\n",
                "    [RunTime],[DeviceType],[DeviceName],[Physical cores],[MemoryGB],[DiskspaceGB],[Price]\n",
                ")\n",
                "VALUES\n",
                "( -- First row: values for the columns in the list above\n",
                "    GETDATE(),'Conertible','HP EliteBook x360 1030 G8',4,16,512,2249\n",
                "\n",
                ")"
            ],
            "metadata": {
                "azdata_cell_guid": "95f1da7e-1595-4fbd-b4cd-9c95ad4db436",
                "tags": [
                    "hide_input"
                ]
            },
            "outputs": [
                {
                    "output_type": "display_data",
                    "data": {
                        "text/html": "Commands completed successfully."
                    },
                    "metadata": {}
                },
                {
                    "output_type": "display_data",
                    "data": {
                        "text/html": "(1 row affected)"
                    },
                    "metadata": {}
                },
                {
                    "output_type": "display_data",
                    "data": {
                        "text/html": "Total execution time: 00:00:00.026"
                    },
                    "metadata": {}
                }
            ],
            "execution_count": 4
        },
        {
            "cell_type": "markdown",
            "source": [
                "## Update row"
            ],
            "metadata": {
                "azdata_cell_guid": "8b9c211e-e146-4880-bd76-86999355e7aa"
            }
        },
        {
            "cell_type": "code",
            "source": [
                "-- Update rows in table 'Inventory'\n",
                "UPDATE Inventory\n",
                "SET\n",
                "    [RunTime]     = GETDATE(),\n",
                "    [Link]        = 'https://store.hp.com/SwitzerlandStore/Merch/Product.aspx?id=358T8EA&opt=UUZ&sel=NTB'\n",
                "WHERE [DeviceName] LIKE ''\n",
                "GO"
            ],
            "metadata": {
                "azdata_cell_guid": "894d9a97-5156-4c32-86f8-97343b83aff2",
                "tags": [
                    "hide_input"
                ]
            },
            "outputs": [
                {
                    "output_type": "display_data",
                    "data": {
                        "text/html": "(1 row affected)"
                    },
                    "metadata": {}
                },
                {
                    "output_type": "display_data",
                    "data": {
                        "text/html": "Total execution time: 00:00:00.018"
                    },
                    "metadata": {}
                }
            ],
            "execution_count": 21
        },
        {
            "cell_type": "code",
            "source": [
                "-- Update rows in table 'Inventory'\n",
                "UPDATE Inventory\n",
                "SET\n",
                "    [RunTime]     = GETDATE(),\n",
                "    [MemoryGB]    = 16\n",
                "WHERE [DeviceName] LIKE ''\n",
                "GO"
            ],
            "metadata": {
                "azdata_cell_guid": "1d2d28f6-ef20-4d98-9de9-67e216d1bded",
                "tags": [
                    "hide_input"
                ]
            },
            "outputs": [
                {
                    "output_type": "display_data",
                    "data": {
                        "text/html": "(1 row affected)"
                    },
                    "metadata": {}
                },
                {
                    "output_type": "display_data",
                    "data": {
                        "text/html": "Total execution time: 00:00:00.017"
                    },
                    "metadata": {}
                }
            ],
            "execution_count": 23
        }
    ]
}